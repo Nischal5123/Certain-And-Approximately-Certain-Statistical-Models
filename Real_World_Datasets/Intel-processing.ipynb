{
 "cells": [
  {
   "cell_type": "code",
   "execution_count": 5,
   "metadata": {
    "collapsed": true,
    "ExecuteTime": {
     "end_time": "2024-01-19T02:36:24.418540Z",
     "start_time": "2024-01-19T02:36:24.411703Z"
    }
   },
   "outputs": [],
   "source": [
    "import pandas as pd\n",
    "import os\n",
    "\n"
   ]
  },
  {
   "cell_type": "code",
   "execution_count": 10,
   "outputs": [],
   "source": [
    "def drop_label_with_null(df, column_name):\n",
    "    # Drop rows where the specified column is null\n",
    "    df_cleaned = df.dropna(subset=[column_name])\n",
    "\n",
    "    return df_cleaned"
   ],
   "metadata": {
    "collapsed": false,
    "ExecuteTime": {
     "end_time": "2024-01-19T02:37:06.034723Z",
     "start_time": "2024-01-19T02:37:06.023678Z"
    }
   }
  },
  {
   "cell_type": "code",
   "execution_count": 11,
   "outputs": [
    {
     "data": {
      "text/plain": "(9357, 14)"
     },
     "execution_count": 11,
     "metadata": {},
     "output_type": "execute_result"
    }
   ],
   "source": [
    "path = os.path.join('Final-Datasets', 'Air-Quality.csv')\n",
    "original = pd.read_csv(path)\n",
    "original.shape"
   ],
   "metadata": {
    "collapsed": false,
    "ExecuteTime": {
     "end_time": "2024-01-19T02:37:06.283473Z",
     "start_time": "2024-01-19T02:37:06.269783Z"
    }
   }
  },
  {
   "cell_type": "code",
   "execution_count": 12,
   "outputs": [
    {
     "data": {
      "text/plain": "Index(['Unnamed: 0', 'CO(GT)', 'PT08.S1(CO)', 'NMHC(GT)', 'C6H6(GT)',\n       'PT08.S2(NMHC)', 'NOx(GT)', 'PT08.S3(NOx)', 'NO2(GT)', 'PT08.S4(NO2)',\n       'PT08.S5(O3)', 'T', 'RH', 'AH'],\n      dtype='object')"
     },
     "execution_count": 12,
     "metadata": {},
     "output_type": "execute_result"
    }
   ],
   "source": [
    "original.columns"
   ],
   "metadata": {
    "collapsed": false,
    "ExecuteTime": {
     "end_time": "2024-01-19T02:37:06.575062Z",
     "start_time": "2024-01-19T02:37:06.565785Z"
    }
   }
  },
  {
   "cell_type": "code",
   "execution_count": 13,
   "outputs": [],
   "source": [
    "original.drop(columns=['Unnamed: 0'],inplace=True)"
   ],
   "metadata": {
    "collapsed": false,
    "ExecuteTime": {
     "end_time": "2024-01-19T02:37:07.039177Z",
     "start_time": "2024-01-19T02:37:07.033335Z"
    }
   }
  },
  {
   "cell_type": "code",
   "execution_count": 14,
   "outputs": [
    {
     "data": {
      "text/plain": "   CO(GT)  PT08.S1(CO)  NMHC(GT)  C6H6(GT)  PT08.S2(NMHC)  NOx(GT)  \\\n0     2.6       1360.0     150.0      11.9         1046.0    166.0   \n1     2.0       1292.0     112.0       9.4          955.0    103.0   \n2     2.2       1402.0      88.0       9.0          939.0    131.0   \n3     2.2       1376.0      80.0       9.2          948.0    172.0   \n4     1.6       1272.0      51.0       6.5          836.0    131.0   \n\n   PT08.S3(NOx)  NO2(GT)  PT08.S4(NO2)  PT08.S5(O3)     T    RH      AH  \n0        1056.0    113.0        1692.0       1268.0  13.6  48.9  0.7578  \n1        1174.0     92.0        1559.0        972.0  13.3  47.7  0.7255  \n2        1140.0    114.0        1555.0       1074.0  11.9  54.0  0.7502  \n3        1092.0    122.0        1584.0       1203.0  11.0  60.0  0.7867  \n4        1205.0    116.0        1490.0       1110.0  11.2  59.6  0.7888  ",
      "text/html": "<div>\n<style scoped>\n    .dataframe tbody tr th:only-of-type {\n        vertical-align: middle;\n    }\n\n    .dataframe tbody tr th {\n        vertical-align: top;\n    }\n\n    .dataframe thead th {\n        text-align: right;\n    }\n</style>\n<table border=\"1\" class=\"dataframe\">\n  <thead>\n    <tr style=\"text-align: right;\">\n      <th></th>\n      <th>CO(GT)</th>\n      <th>PT08.S1(CO)</th>\n      <th>NMHC(GT)</th>\n      <th>C6H6(GT)</th>\n      <th>PT08.S2(NMHC)</th>\n      <th>NOx(GT)</th>\n      <th>PT08.S3(NOx)</th>\n      <th>NO2(GT)</th>\n      <th>PT08.S4(NO2)</th>\n      <th>PT08.S5(O3)</th>\n      <th>T</th>\n      <th>RH</th>\n      <th>AH</th>\n    </tr>\n  </thead>\n  <tbody>\n    <tr>\n      <th>0</th>\n      <td>2.6</td>\n      <td>1360.0</td>\n      <td>150.0</td>\n      <td>11.9</td>\n      <td>1046.0</td>\n      <td>166.0</td>\n      <td>1056.0</td>\n      <td>113.0</td>\n      <td>1692.0</td>\n      <td>1268.0</td>\n      <td>13.6</td>\n      <td>48.9</td>\n      <td>0.7578</td>\n    </tr>\n    <tr>\n      <th>1</th>\n      <td>2.0</td>\n      <td>1292.0</td>\n      <td>112.0</td>\n      <td>9.4</td>\n      <td>955.0</td>\n      <td>103.0</td>\n      <td>1174.0</td>\n      <td>92.0</td>\n      <td>1559.0</td>\n      <td>972.0</td>\n      <td>13.3</td>\n      <td>47.7</td>\n      <td>0.7255</td>\n    </tr>\n    <tr>\n      <th>2</th>\n      <td>2.2</td>\n      <td>1402.0</td>\n      <td>88.0</td>\n      <td>9.0</td>\n      <td>939.0</td>\n      <td>131.0</td>\n      <td>1140.0</td>\n      <td>114.0</td>\n      <td>1555.0</td>\n      <td>1074.0</td>\n      <td>11.9</td>\n      <td>54.0</td>\n      <td>0.7502</td>\n    </tr>\n    <tr>\n      <th>3</th>\n      <td>2.2</td>\n      <td>1376.0</td>\n      <td>80.0</td>\n      <td>9.2</td>\n      <td>948.0</td>\n      <td>172.0</td>\n      <td>1092.0</td>\n      <td>122.0</td>\n      <td>1584.0</td>\n      <td>1203.0</td>\n      <td>11.0</td>\n      <td>60.0</td>\n      <td>0.7867</td>\n    </tr>\n    <tr>\n      <th>4</th>\n      <td>1.6</td>\n      <td>1272.0</td>\n      <td>51.0</td>\n      <td>6.5</td>\n      <td>836.0</td>\n      <td>131.0</td>\n      <td>1205.0</td>\n      <td>116.0</td>\n      <td>1490.0</td>\n      <td>1110.0</td>\n      <td>11.2</td>\n      <td>59.6</td>\n      <td>0.7888</td>\n    </tr>\n  </tbody>\n</table>\n</div>"
     },
     "execution_count": 14,
     "metadata": {},
     "output_type": "execute_result"
    }
   ],
   "source": [
    "original.head(5)"
   ],
   "metadata": {
    "collapsed": false,
    "ExecuteTime": {
     "end_time": "2024-01-19T02:37:09.594175Z",
     "start_time": "2024-01-19T02:37:09.589928Z"
    }
   }
  },
  {
   "cell_type": "code",
   "execution_count": 7,
   "outputs": [
    {
     "data": {
      "text/plain": "4\n-3.919010      212232\n-4.000000       63356\n 46.065500      18991\n 34.536000      13451\n-3.838040       12081\n                ...  \n 99.509600          1\n 77.988800          1\n 101.332000         1\n 109.082000         1\n 0.859505           1\nName: count, Length: 1990, dtype: int64"
     },
     "execution_count": 7,
     "metadata": {},
     "output_type": "execute_result"
    }
   ],
   "source": [
    "original['4'].value_counts()"
   ],
   "metadata": {
    "collapsed": false,
    "ExecuteTime": {
     "end_time": "2024-01-14T22:02:07.731186Z",
     "start_time": "2024-01-14T22:02:07.721601Z"
    }
   }
  },
  {
   "cell_type": "code",
   "execution_count": 32,
   "outputs": [],
   "source": [
    "df=original\n"
   ],
   "metadata": {
    "collapsed": false,
    "ExecuteTime": {
     "end_time": "2024-01-04T18:18:56.660397Z",
     "start_time": "2024-01-04T18:18:56.656243Z"
    }
   }
  },
  {
   "cell_type": "code",
   "execution_count": 33,
   "outputs": [
    {
     "name": "stderr",
     "output_type": "stream",
     "text": [
      "/var/folders/w6/jn7_623d6d96165_8x9l_vqh0000gn/T/ipykernel_55564/2799700112.py:3: UserWarning: Could not infer format, so each element will be parsed individually, falling back to `dateutil`. To ensure parsing is consistent and as-expected, please specify a format.\n",
      "  df['2'] = pd.to_datetime(df['2']).dt.time\n"
     ]
    }
   ],
   "source": [
    "# Convert date and time columns to datetime format\n",
    "df['1'] = pd.to_datetime(df['1'])\n",
    "df['2'] = pd.to_datetime(df['2']).dt.time\n",
    "\n",
    "# Extract year, month, day from the date column\n",
    "df['year'] = df['1'].dt.year\n",
    "df['month'] = df['1'].dt.month\n",
    "df['day'] = df['1'].dt.day\n",
    "\n",
    "# Extract hour, minute, second from the time column\n",
    "df['hour'] = df['2'].apply(lambda x: x.hour)\n",
    "df['minute'] = df['2'].apply(lambda x: x.minute)\n",
    "df['second'] = df['2'].apply(lambda x: x.second)\n",
    "\n",
    "# Drop the original date and time columns\n",
    "df = df.drop(['1', '2'], axis=1)"
   ],
   "metadata": {
    "collapsed": false,
    "ExecuteTime": {
     "end_time": "2024-01-04T18:19:34.254789Z",
     "start_time": "2024-01-04T18:19:00.684437Z"
    }
   }
  },
  {
   "cell_type": "code",
   "execution_count": 34,
   "outputs": [
    {
     "data": {
      "text/plain": "    3  4         5         6      7        8  year  month  day  hour  minute  \\\n0   2  0  122.1530  -3.91901  11.04  2.03397  2004      3   31     3      38   \n1   3  0   19.9884  37.09330  45.08  2.69964  2004      2   28     0      59   \n2  11  0   19.3024  38.46290  45.08  2.68742  2004      2   28     1       3   \n\n   second  \n0      15  \n1      16  \n2      16  ",
      "text/html": "<div>\n<style scoped>\n    .dataframe tbody tr th:only-of-type {\n        vertical-align: middle;\n    }\n\n    .dataframe tbody tr th {\n        vertical-align: top;\n    }\n\n    .dataframe thead th {\n        text-align: right;\n    }\n</style>\n<table border=\"1\" class=\"dataframe\">\n  <thead>\n    <tr style=\"text-align: right;\">\n      <th></th>\n      <th>3</th>\n      <th>4</th>\n      <th>5</th>\n      <th>6</th>\n      <th>7</th>\n      <th>8</th>\n      <th>year</th>\n      <th>month</th>\n      <th>day</th>\n      <th>hour</th>\n      <th>minute</th>\n      <th>second</th>\n    </tr>\n  </thead>\n  <tbody>\n    <tr>\n      <th>0</th>\n      <td>2</td>\n      <td>0</td>\n      <td>122.1530</td>\n      <td>-3.91901</td>\n      <td>11.04</td>\n      <td>2.03397</td>\n      <td>2004</td>\n      <td>3</td>\n      <td>31</td>\n      <td>3</td>\n      <td>38</td>\n      <td>15</td>\n    </tr>\n    <tr>\n      <th>1</th>\n      <td>3</td>\n      <td>0</td>\n      <td>19.9884</td>\n      <td>37.09330</td>\n      <td>45.08</td>\n      <td>2.69964</td>\n      <td>2004</td>\n      <td>2</td>\n      <td>28</td>\n      <td>0</td>\n      <td>59</td>\n      <td>16</td>\n    </tr>\n    <tr>\n      <th>2</th>\n      <td>11</td>\n      <td>0</td>\n      <td>19.3024</td>\n      <td>38.46290</td>\n      <td>45.08</td>\n      <td>2.68742</td>\n      <td>2004</td>\n      <td>2</td>\n      <td>28</td>\n      <td>1</td>\n      <td>3</td>\n      <td>16</td>\n    </tr>\n  </tbody>\n</table>\n</div>"
     },
     "execution_count": 34,
     "metadata": {},
     "output_type": "execute_result"
    }
   ],
   "source": [
    "df.head(3)"
   ],
   "metadata": {
    "collapsed": false,
    "ExecuteTime": {
     "end_time": "2024-01-04T18:20:00.006074Z",
     "start_time": "2024-01-04T18:20:00.004851Z"
    }
   }
  },
  {
   "cell_type": "code",
   "execution_count": 35,
   "outputs": [
    {
     "name": "stdout",
     "output_type": "stream",
     "text": [
      "0\n",
      "0\n"
     ]
    }
   ],
   "source": [
    "categorical_columns = df.select_dtypes(include=['object', 'category']).columns.tolist()\n",
    "print(len(categorical_columns))\n",
    "for col in categorical_columns:\n",
    "    df[col] = pd.to_numeric(df[col], errors='ignore')\n",
    "# after those are taken care of we can drop the columns that are still object\n",
    "categorical_columns = df.select_dtypes(include=['object', 'category']).columns.tolist()\n",
    "print(len(categorical_columns))"
   ],
   "metadata": {
    "collapsed": false,
    "ExecuteTime": {
     "end_time": "2024-01-04T18:20:13.901106Z",
     "start_time": "2024-01-04T18:20:13.896478Z"
    }
   }
  },
  {
   "cell_type": "code",
   "execution_count": 36,
   "outputs": [],
   "source": [
    "# Generate column names as strings '1', '2', '3', ..., 'n' where n is the number of columns\n",
    "column_names = [str(i) for i in range(1, len(df.columns) + 1)]\n",
    "\n",
    "# Assign the generated column names to the DataFrame\n",
    "df.columns = column_names"
   ],
   "metadata": {
    "collapsed": false,
    "ExecuteTime": {
     "end_time": "2024-01-04T18:20:23.783066Z",
     "start_time": "2024-01-04T18:20:23.777520Z"
    }
   }
  },
  {
   "cell_type": "code",
   "execution_count": 37,
   "outputs": [
    {
     "data": {
      "text/plain": "    1  2         3         4      5        6     7  8   9  10  11  12\n0   2  0  122.1530  -3.91901  11.04  2.03397  2004  3  31   3  38  15\n1   3  0   19.9884  37.09330  45.08  2.69964  2004  2  28   0  59  16\n2  11  0   19.3024  38.46290  45.08  2.68742  2004  2  28   1   3  16\n3  17  0   19.1652  38.80390  45.08  2.68742  2004  2  28   1   6  16\n4  18  0   19.1750  38.83790  45.08  2.69964  2004  2  28   1   6  46",
      "text/html": "<div>\n<style scoped>\n    .dataframe tbody tr th:only-of-type {\n        vertical-align: middle;\n    }\n\n    .dataframe tbody tr th {\n        vertical-align: top;\n    }\n\n    .dataframe thead th {\n        text-align: right;\n    }\n</style>\n<table border=\"1\" class=\"dataframe\">\n  <thead>\n    <tr style=\"text-align: right;\">\n      <th></th>\n      <th>1</th>\n      <th>2</th>\n      <th>3</th>\n      <th>4</th>\n      <th>5</th>\n      <th>6</th>\n      <th>7</th>\n      <th>8</th>\n      <th>9</th>\n      <th>10</th>\n      <th>11</th>\n      <th>12</th>\n    </tr>\n  </thead>\n  <tbody>\n    <tr>\n      <th>0</th>\n      <td>2</td>\n      <td>0</td>\n      <td>122.1530</td>\n      <td>-3.91901</td>\n      <td>11.04</td>\n      <td>2.03397</td>\n      <td>2004</td>\n      <td>3</td>\n      <td>31</td>\n      <td>3</td>\n      <td>38</td>\n      <td>15</td>\n    </tr>\n    <tr>\n      <th>1</th>\n      <td>3</td>\n      <td>0</td>\n      <td>19.9884</td>\n      <td>37.09330</td>\n      <td>45.08</td>\n      <td>2.69964</td>\n      <td>2004</td>\n      <td>2</td>\n      <td>28</td>\n      <td>0</td>\n      <td>59</td>\n      <td>16</td>\n    </tr>\n    <tr>\n      <th>2</th>\n      <td>11</td>\n      <td>0</td>\n      <td>19.3024</td>\n      <td>38.46290</td>\n      <td>45.08</td>\n      <td>2.68742</td>\n      <td>2004</td>\n      <td>2</td>\n      <td>28</td>\n      <td>1</td>\n      <td>3</td>\n      <td>16</td>\n    </tr>\n    <tr>\n      <th>3</th>\n      <td>17</td>\n      <td>0</td>\n      <td>19.1652</td>\n      <td>38.80390</td>\n      <td>45.08</td>\n      <td>2.68742</td>\n      <td>2004</td>\n      <td>2</td>\n      <td>28</td>\n      <td>1</td>\n      <td>6</td>\n      <td>16</td>\n    </tr>\n    <tr>\n      <th>4</th>\n      <td>18</td>\n      <td>0</td>\n      <td>19.1750</td>\n      <td>38.83790</td>\n      <td>45.08</td>\n      <td>2.69964</td>\n      <td>2004</td>\n      <td>2</td>\n      <td>28</td>\n      <td>1</td>\n      <td>6</td>\n      <td>46</td>\n    </tr>\n  </tbody>\n</table>\n</div>"
     },
     "execution_count": 37,
     "metadata": {},
     "output_type": "execute_result"
    }
   ],
   "source": [
    "df.head(5)"
   ],
   "metadata": {
    "collapsed": false,
    "ExecuteTime": {
     "end_time": "2024-01-04T18:20:35.501136Z",
     "start_time": "2024-01-04T18:20:35.498242Z"
    }
   }
  },
  {
   "cell_type": "code",
   "execution_count": 38,
   "outputs": [
    {
     "data": {
      "text/plain": "1       int64\n2       int64\n3     float64\n4     float64\n5     float64\n6     float64\n7       int32\n8       int32\n9       int32\n10      int64\n11      int64\n12      int64\ndtype: object"
     },
     "execution_count": 38,
     "metadata": {},
     "output_type": "execute_result"
    }
   ],
   "source": [
    "df.dtypes\n"
   ],
   "metadata": {
    "collapsed": false,
    "ExecuteTime": {
     "end_time": "2024-01-04T18:20:50.101382Z",
     "start_time": "2024-01-04T18:20:50.094726Z"
    }
   }
  },
  {
   "cell_type": "code",
   "execution_count": 39,
   "outputs": [
    {
     "data": {
      "text/plain": "    1  2         3         4      5        6     7  8   9  10  11  12\n0   2  0  122.1530  -3.91901  11.04  2.03397  2004  3  31   3  38  15\n1   3  0   19.9884  37.09330  45.08  2.69964  2004  2  28   0  59  16\n2  11  0   19.3024  38.46290  45.08  2.68742  2004  2  28   1   3  16\n3  17  0   19.1652  38.80390  45.08  2.68742  2004  2  28   1   6  16",
      "text/html": "<div>\n<style scoped>\n    .dataframe tbody tr th:only-of-type {\n        vertical-align: middle;\n    }\n\n    .dataframe tbody tr th {\n        vertical-align: top;\n    }\n\n    .dataframe thead th {\n        text-align: right;\n    }\n</style>\n<table border=\"1\" class=\"dataframe\">\n  <thead>\n    <tr style=\"text-align: right;\">\n      <th></th>\n      <th>1</th>\n      <th>2</th>\n      <th>3</th>\n      <th>4</th>\n      <th>5</th>\n      <th>6</th>\n      <th>7</th>\n      <th>8</th>\n      <th>9</th>\n      <th>10</th>\n      <th>11</th>\n      <th>12</th>\n    </tr>\n  </thead>\n  <tbody>\n    <tr>\n      <th>0</th>\n      <td>2</td>\n      <td>0</td>\n      <td>122.1530</td>\n      <td>-3.91901</td>\n      <td>11.04</td>\n      <td>2.03397</td>\n      <td>2004</td>\n      <td>3</td>\n      <td>31</td>\n      <td>3</td>\n      <td>38</td>\n      <td>15</td>\n    </tr>\n    <tr>\n      <th>1</th>\n      <td>3</td>\n      <td>0</td>\n      <td>19.9884</td>\n      <td>37.09330</td>\n      <td>45.08</td>\n      <td>2.69964</td>\n      <td>2004</td>\n      <td>2</td>\n      <td>28</td>\n      <td>0</td>\n      <td>59</td>\n      <td>16</td>\n    </tr>\n    <tr>\n      <th>2</th>\n      <td>11</td>\n      <td>0</td>\n      <td>19.3024</td>\n      <td>38.46290</td>\n      <td>45.08</td>\n      <td>2.68742</td>\n      <td>2004</td>\n      <td>2</td>\n      <td>28</td>\n      <td>1</td>\n      <td>3</td>\n      <td>16</td>\n    </tr>\n    <tr>\n      <th>3</th>\n      <td>17</td>\n      <td>0</td>\n      <td>19.1652</td>\n      <td>38.80390</td>\n      <td>45.08</td>\n      <td>2.68742</td>\n      <td>2004</td>\n      <td>2</td>\n      <td>28</td>\n      <td>1</td>\n      <td>6</td>\n      <td>16</td>\n    </tr>\n  </tbody>\n</table>\n</div>"
     },
     "execution_count": 39,
     "metadata": {},
     "output_type": "execute_result"
    }
   ],
   "source": [
    "df.head(4)"
   ],
   "metadata": {
    "collapsed": false,
    "ExecuteTime": {
     "end_time": "2024-01-04T18:21:00.339207Z",
     "start_time": "2024-01-04T18:21:00.331324Z"
    }
   }
  },
  {
   "cell_type": "code",
   "execution_count": 40,
   "outputs": [
    {
     "name": "stdout",
     "output_type": "stream",
     "text": [
      "Your selected dataframe has 12 columns.\n",
      "There are 4 columns that have missing values.\n"
     ]
    },
    {
     "data": {
      "text/plain": "   Missing Values  % of Total Values Data Type\n5           93878                4.1   float64\n4             902                0.0   float64\n3             901                0.0   float64\n6             526                0.0   float64",
      "text/html": "<div>\n<style scoped>\n    .dataframe tbody tr th:only-of-type {\n        vertical-align: middle;\n    }\n\n    .dataframe tbody tr th {\n        vertical-align: top;\n    }\n\n    .dataframe thead th {\n        text-align: right;\n    }\n</style>\n<table border=\"1\" class=\"dataframe\">\n  <thead>\n    <tr style=\"text-align: right;\">\n      <th></th>\n      <th>Missing Values</th>\n      <th>% of Total Values</th>\n      <th>Data Type</th>\n    </tr>\n  </thead>\n  <tbody>\n    <tr>\n      <th>5</th>\n      <td>93878</td>\n      <td>4.1</td>\n      <td>float64</td>\n    </tr>\n    <tr>\n      <th>4</th>\n      <td>902</td>\n      <td>0.0</td>\n      <td>float64</td>\n    </tr>\n    <tr>\n      <th>3</th>\n      <td>901</td>\n      <td>0.0</td>\n      <td>float64</td>\n    </tr>\n    <tr>\n      <th>6</th>\n      <td>526</td>\n      <td>0.0</td>\n      <td>float64</td>\n    </tr>\n  </tbody>\n</table>\n</div>"
     },
     "execution_count": 40,
     "metadata": {},
     "output_type": "execute_result"
    }
   ],
   "source": [
    "missing_values_table(df)"
   ],
   "metadata": {
    "collapsed": false,
    "ExecuteTime": {
     "end_time": "2024-01-04T18:21:04.696041Z",
     "start_time": "2024-01-04T18:21:04.653107Z"
    }
   }
  },
  {
   "cell_type": "code",
   "execution_count": 41,
   "outputs": [],
   "source": [
    "path = os.path.join('Final-Datasets', 'intel-sensor-data.csv')"
   ],
   "metadata": {
    "collapsed": false,
    "ExecuteTime": {
     "end_time": "2024-01-04T18:22:22.642378Z",
     "start_time": "2024-01-04T18:22:22.638933Z"
    }
   }
  },
  {
   "cell_type": "code",
   "execution_count": 42,
   "outputs": [],
   "source": [
    "df.to_csv(path,index=False)"
   ],
   "metadata": {
    "collapsed": false,
    "ExecuteTime": {
     "end_time": "2024-01-04T18:22:30.966667Z",
     "start_time": "2024-01-04T18:22:26.153260Z"
    }
   }
  },
  {
   "cell_type": "code",
   "execution_count": null,
   "outputs": [],
   "source": [],
   "metadata": {
    "collapsed": false
   }
  }
 ],
 "metadata": {
  "kernelspec": {
   "display_name": "Python 3",
   "language": "python",
   "name": "python3"
  },
  "language_info": {
   "codemirror_mode": {
    "name": "ipython",
    "version": 2
   },
   "file_extension": ".py",
   "mimetype": "text/x-python",
   "name": "python",
   "nbconvert_exporter": "python",
   "pygments_lexer": "ipython2",
   "version": "2.7.6"
  }
 },
 "nbformat": 4,
 "nbformat_minor": 0
}
