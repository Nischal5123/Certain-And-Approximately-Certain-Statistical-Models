{
 "cells": [
  {
   "cell_type": "code",
   "execution_count": 84,
   "metadata": {
    "collapsed": true,
    "ExecuteTime": {
     "end_time": "2024-01-14T22:38:36.285975Z",
     "start_time": "2024-01-14T22:38:36.278578Z"
    }
   },
   "outputs": [],
   "source": [
    "import pandas as pd\n",
    "import os\n",
    "from utils import drop_categorical_columns\n",
    "from utils import missing_values_table\n",
    "from sklearn.model_selection import train_test_split\n",
    "import numpy as np"
   ]
  },
  {
   "cell_type": "code",
   "execution_count": 85,
   "outputs": [],
   "source": [
    "\n",
    "\n",
    "def get_Xy(data, label):\n",
    "    X = data.drop(label, axis=1)\n",
    "    y = data[label]\n",
    "    return X, y"
   ],
   "metadata": {
    "collapsed": false,
    "ExecuteTime": {
     "end_time": "2024-01-14T22:38:36.586556Z",
     "start_time": "2024-01-14T22:38:36.572523Z"
    }
   }
  },
  {
   "cell_type": "code",
   "execution_count": 86,
   "outputs": [
    {
     "name": "stdout",
     "output_type": "stream",
     "text": [
      "6296\n"
     ]
    }
   ],
   "source": [
    "num=1\n",
    "if num<2:\n",
    "    df = pd.read_csv(\"Final-Datasets/UCI-Seacom-Encoded.csv\")\n",
    "    label = \"Pass/Fail\"\n",
    "    random_seed = np.random.randint(1, 10000)\n",
    "    X, y = get_Xy(\n",
    "        df, \"Pass/Fail\"\n",
    "    )  # Features (all columns except the last one)  # Labels (the last column)\n",
    "\n",
    "    # Split the data into training and testing sets (adjust the test_size as needed)\n",
    "    X_train, X_test, Y_train, Y_test = train_test_split(\n",
    "        X, y, test_size=0.2, random_state=random_seed\n",
    "    )\n",
    "    num=Y_train.nunique()\n",
    "    if num==2:\n",
    "        print(random_seed)\n"
   ],
   "metadata": {
    "collapsed": false,
    "ExecuteTime": {
     "end_time": "2024-01-14T22:38:37.109207Z",
     "start_time": "2024-01-14T22:38:37.055396Z"
    }
   }
  },
  {
   "cell_type": "code",
   "execution_count": 87,
   "outputs": [],
   "source": [
    "def drop_label_with_null(df, column_name):\n",
    "    # Drop rows where the specified column is null\n",
    "    df_cleaned = df.dropna(subset=[column_name])\n",
    "\n",
    "    return df_cleaned"
   ],
   "metadata": {
    "collapsed": false,
    "ExecuteTime": {
     "end_time": "2024-01-14T22:38:37.324541Z",
     "start_time": "2024-01-14T22:38:37.318456Z"
    }
   }
  },
  {
   "cell_type": "code",
   "execution_count": 88,
   "outputs": [
    {
     "data": {
      "text/plain": "Index(['Time', '0', '1', '2', '3', '4', '5', '6', '7', '8',\n       ...\n       '581', '582', '583', '584', '585', '586', '587', '588', '589',\n       'Pass/Fail'],\n      dtype='object', length=592)"
     },
     "execution_count": 88,
     "metadata": {},
     "output_type": "execute_result"
    }
   ],
   "source": [
    "path = os.path.join('Final-Datasets', 'uci-secom.csv')\n",
    "original = pd.read_csv(path)\n",
    "original.columns\n"
   ],
   "metadata": {
    "collapsed": false,
    "ExecuteTime": {
     "end_time": "2024-01-14T22:38:37.617180Z",
     "start_time": "2024-01-14T22:38:37.555907Z"
    }
   }
  },
  {
   "cell_type": "code",
   "execution_count": 89,
   "outputs": [
    {
     "data": {
      "text/plain": "(1567, 592)"
     },
     "execution_count": 89,
     "metadata": {},
     "output_type": "execute_result"
    }
   ],
   "source": [
    "dropped=drop_label_with_null(original, 'Pass/Fail')\n",
    "dropped.shape"
   ],
   "metadata": {
    "collapsed": false,
    "ExecuteTime": {
     "end_time": "2024-01-14T22:38:37.850689Z",
     "start_time": "2024-01-14T22:38:37.843993Z"
    }
   }
  },
  {
   "cell_type": "code",
   "execution_count": 90,
   "outputs": [
    {
     "data": {
      "text/plain": "                  Time        0        1          2          3       4      5  \\\n0  2008-07-19 11:55:00  3030.93  2564.00  2187.7333  1411.1265  1.3602  100.0   \n1  2008-07-19 12:32:00  3095.78  2465.14  2230.4222  1463.6606  0.8294  100.0   \n2  2008-07-19 13:17:00  2932.61  2559.94  2186.4111  1698.0172  1.5102  100.0   \n\n          6       7       8  ...       581     582     583     584     585  \\\n0   97.6133  0.1242  1.5005  ...       NaN  0.5005  0.0118  0.0035  2.3630   \n1  102.3433  0.1247  1.4966  ...  208.2045  0.5019  0.0223  0.0055  4.4447   \n2   95.4878  0.1241  1.4436  ...   82.8602  0.4958  0.0157  0.0039  3.1745   \n\n      586     587     588       589  Pass/Fail  \n0     NaN     NaN     NaN       NaN         -1  \n1  0.0096  0.0201  0.0060  208.2045         -1  \n2  0.0584  0.0484  0.0148   82.8602          1  \n\n[3 rows x 592 columns]",
      "text/html": "<div>\n<style scoped>\n    .dataframe tbody tr th:only-of-type {\n        vertical-align: middle;\n    }\n\n    .dataframe tbody tr th {\n        vertical-align: top;\n    }\n\n    .dataframe thead th {\n        text-align: right;\n    }\n</style>\n<table border=\"1\" class=\"dataframe\">\n  <thead>\n    <tr style=\"text-align: right;\">\n      <th></th>\n      <th>Time</th>\n      <th>0</th>\n      <th>1</th>\n      <th>2</th>\n      <th>3</th>\n      <th>4</th>\n      <th>5</th>\n      <th>6</th>\n      <th>7</th>\n      <th>8</th>\n      <th>...</th>\n      <th>581</th>\n      <th>582</th>\n      <th>583</th>\n      <th>584</th>\n      <th>585</th>\n      <th>586</th>\n      <th>587</th>\n      <th>588</th>\n      <th>589</th>\n      <th>Pass/Fail</th>\n    </tr>\n  </thead>\n  <tbody>\n    <tr>\n      <th>0</th>\n      <td>2008-07-19 11:55:00</td>\n      <td>3030.93</td>\n      <td>2564.00</td>\n      <td>2187.7333</td>\n      <td>1411.1265</td>\n      <td>1.3602</td>\n      <td>100.0</td>\n      <td>97.6133</td>\n      <td>0.1242</td>\n      <td>1.5005</td>\n      <td>...</td>\n      <td>NaN</td>\n      <td>0.5005</td>\n      <td>0.0118</td>\n      <td>0.0035</td>\n      <td>2.3630</td>\n      <td>NaN</td>\n      <td>NaN</td>\n      <td>NaN</td>\n      <td>NaN</td>\n      <td>-1</td>\n    </tr>\n    <tr>\n      <th>1</th>\n      <td>2008-07-19 12:32:00</td>\n      <td>3095.78</td>\n      <td>2465.14</td>\n      <td>2230.4222</td>\n      <td>1463.6606</td>\n      <td>0.8294</td>\n      <td>100.0</td>\n      <td>102.3433</td>\n      <td>0.1247</td>\n      <td>1.4966</td>\n      <td>...</td>\n      <td>208.2045</td>\n      <td>0.5019</td>\n      <td>0.0223</td>\n      <td>0.0055</td>\n      <td>4.4447</td>\n      <td>0.0096</td>\n      <td>0.0201</td>\n      <td>0.0060</td>\n      <td>208.2045</td>\n      <td>-1</td>\n    </tr>\n    <tr>\n      <th>2</th>\n      <td>2008-07-19 13:17:00</td>\n      <td>2932.61</td>\n      <td>2559.94</td>\n      <td>2186.4111</td>\n      <td>1698.0172</td>\n      <td>1.5102</td>\n      <td>100.0</td>\n      <td>95.4878</td>\n      <td>0.1241</td>\n      <td>1.4436</td>\n      <td>...</td>\n      <td>82.8602</td>\n      <td>0.4958</td>\n      <td>0.0157</td>\n      <td>0.0039</td>\n      <td>3.1745</td>\n      <td>0.0584</td>\n      <td>0.0484</td>\n      <td>0.0148</td>\n      <td>82.8602</td>\n      <td>1</td>\n    </tr>\n  </tbody>\n</table>\n<p>3 rows × 592 columns</p>\n</div>"
     },
     "execution_count": 90,
     "metadata": {},
     "output_type": "execute_result"
    }
   ],
   "source": [
    "dropped.head(3)"
   ],
   "metadata": {
    "collapsed": false,
    "ExecuteTime": {
     "end_time": "2024-01-14T22:38:38.210699Z",
     "start_time": "2024-01-14T22:38:38.208019Z"
    }
   }
  },
  {
   "cell_type": "code",
   "execution_count": 91,
   "outputs": [
    {
     "data": {
      "text/plain": "'2008-07-19 11:55:00'"
     },
     "execution_count": 91,
     "metadata": {},
     "output_type": "execute_result"
    }
   ],
   "source": [
    "dropped['Time'][0]"
   ],
   "metadata": {
    "collapsed": false,
    "ExecuteTime": {
     "end_time": "2024-01-14T22:38:38.705957Z",
     "start_time": "2024-01-14T22:38:38.696200Z"
    }
   }
  },
  {
   "cell_type": "code",
   "execution_count": 92,
   "outputs": [],
   "source": [
    "dropped['Time'] = pd.to_datetime(dropped['Time']).astype(int)\n",
    "dropped.drop(columns=['292','293','157','158','250','220','85','492','358'],inplace=True)"
   ],
   "metadata": {
    "collapsed": false,
    "ExecuteTime": {
     "end_time": "2024-01-14T22:38:39.087033Z",
     "start_time": "2024-01-14T22:38:39.079352Z"
    }
   }
  },
  {
   "cell_type": "code",
   "execution_count": 92,
   "outputs": [],
   "source": [],
   "metadata": {
    "collapsed": false,
    "ExecuteTime": {
     "end_time": "2024-01-14T22:38:39.302548Z",
     "start_time": "2024-01-14T22:38:39.294477Z"
    }
   }
  },
  {
   "cell_type": "code",
   "execution_count": 93,
   "outputs": [
    {
     "data": {
      "text/plain": "2"
     },
     "execution_count": 93,
     "metadata": {},
     "output_type": "execute_result"
    }
   ],
   "source": [
    "dropped['Pass/Fail'].nunique()"
   ],
   "metadata": {
    "collapsed": false,
    "ExecuteTime": {
     "end_time": "2024-01-14T22:38:39.504409Z",
     "start_time": "2024-01-14T22:38:39.497276Z"
    }
   }
  },
  {
   "cell_type": "code",
   "execution_count": 94,
   "outputs": [
    {
     "name": "stdout",
     "output_type": "stream",
     "text": [
      "0\n",
      "[]\n"
     ]
    }
   ],
   "source": [
    "categorical_columns = dropped.select_dtypes(include=['object', 'category']).columns.tolist()\n",
    "print(len(categorical_columns))\n",
    "for col in categorical_columns:\n",
    "    dropped[col] = pd.to_numeric(dropped[col], errors='ignore')\n",
    "# after those are taken care of we can drop the columns that are still object\n",
    "categorical_columns = dropped.select_dtypes(include=['object', 'category']).columns.tolist()\n",
    "print(categorical_columns)"
   ],
   "metadata": {
    "collapsed": false,
    "ExecuteTime": {
     "end_time": "2024-01-14T22:38:39.729884Z",
     "start_time": "2024-01-14T22:38:39.722864Z"
    }
   }
  },
  {
   "cell_type": "code",
   "execution_count": 95,
   "outputs": [
    {
     "name": "stdout",
     "output_type": "stream",
     "text": [
      "Your selected dataframe has 583 columns.\n",
      "There are 530 columns that have missing values.\n"
     ]
    },
    {
     "data": {
      "text/plain": "     Missing Values  % of Total Values Data Type\n516            1018               65.0   float64\n518            1018               65.0   float64\n382            1018               65.0   float64\n246            1018               65.0   float64\n245            1018               65.0   float64\n..              ...                ...       ...\n458               1                0.1   float64\n457               1                0.1   float64\n456               1                0.1   float64\n455               1                0.1   float64\n589               1                0.1   float64\n\n[530 rows x 3 columns]",
      "text/html": "<div>\n<style scoped>\n    .dataframe tbody tr th:only-of-type {\n        vertical-align: middle;\n    }\n\n    .dataframe tbody tr th {\n        vertical-align: top;\n    }\n\n    .dataframe thead th {\n        text-align: right;\n    }\n</style>\n<table border=\"1\" class=\"dataframe\">\n  <thead>\n    <tr style=\"text-align: right;\">\n      <th></th>\n      <th>Missing Values</th>\n      <th>% of Total Values</th>\n      <th>Data Type</th>\n    </tr>\n  </thead>\n  <tbody>\n    <tr>\n      <th>516</th>\n      <td>1018</td>\n      <td>65.0</td>\n      <td>float64</td>\n    </tr>\n    <tr>\n      <th>518</th>\n      <td>1018</td>\n      <td>65.0</td>\n      <td>float64</td>\n    </tr>\n    <tr>\n      <th>382</th>\n      <td>1018</td>\n      <td>65.0</td>\n      <td>float64</td>\n    </tr>\n    <tr>\n      <th>246</th>\n      <td>1018</td>\n      <td>65.0</td>\n      <td>float64</td>\n    </tr>\n    <tr>\n      <th>245</th>\n      <td>1018</td>\n      <td>65.0</td>\n      <td>float64</td>\n    </tr>\n    <tr>\n      <th>...</th>\n      <td>...</td>\n      <td>...</td>\n      <td>...</td>\n    </tr>\n    <tr>\n      <th>458</th>\n      <td>1</td>\n      <td>0.1</td>\n      <td>float64</td>\n    </tr>\n    <tr>\n      <th>457</th>\n      <td>1</td>\n      <td>0.1</td>\n      <td>float64</td>\n    </tr>\n    <tr>\n      <th>456</th>\n      <td>1</td>\n      <td>0.1</td>\n      <td>float64</td>\n    </tr>\n    <tr>\n      <th>455</th>\n      <td>1</td>\n      <td>0.1</td>\n      <td>float64</td>\n    </tr>\n    <tr>\n      <th>589</th>\n      <td>1</td>\n      <td>0.1</td>\n      <td>float64</td>\n    </tr>\n  </tbody>\n</table>\n<p>530 rows × 3 columns</p>\n</div>"
     },
     "execution_count": 95,
     "metadata": {},
     "output_type": "execute_result"
    }
   ],
   "source": [
    "missing_values_table(dropped)"
   ],
   "metadata": {
    "collapsed": false,
    "ExecuteTime": {
     "end_time": "2024-01-14T22:38:39.985227Z",
     "start_time": "2024-01-14T22:38:39.974756Z"
    }
   }
  },
  {
   "cell_type": "code",
   "execution_count": 96,
   "outputs": [],
   "source": [
    "#others then handle nullls\n",
    "\n",
    "# import pandas as pd\n",
    "# from sklearn.preprocessing import OneHotEncoder\n",
    "# df=dropped\n",
    "# # Select categorical columns\n",
    "# categorical_columns = df.select_dtypes(include=['object', 'category']).columns.tolist()\n",
    "#\n",
    "# # Create a copy of the original dataframe to preserve the original columns\n",
    "# df_encoded = df.copy()\n",
    "#\n",
    "# # Create an empty DataFrame to store the encoded columns\n",
    "# encoded_data_frames = []\n",
    "#\n",
    "# # Define a list of transformers for each categorical column\n",
    "# for col in categorical_columns:\n",
    "#     # Replace null values with \"Others\" in the original column\n",
    "#     #df_encoded[col].fillna(\"Others\", inplace=True)\n",
    "#\n",
    "#     # Create dummy variables using OneHotEncoder\n",
    "#     encoder = OneHotEncoder(sparse=False, handle_unknown='ignore')\n",
    "#     encoded_data = encoder.fit_transform(df_encoded[[col]])\n",
    "#\n",
    "#     # Get column names based on the original column and category\n",
    "#     column_names = [category for category in encoder.get_feature_names_out([col])]\n",
    "#\n",
    "#     # Create a DataFrame for the encoded data\n",
    "#     encoded_df = pd.DataFrame(encoded_data, columns=column_names, index=df_encoded.index)\n",
    "#\n",
    "#     try:\n",
    "#       new_column_name = f\"{col}_{'Others'}\"\n",
    "#       # Drop the original column and the dummy variables for \"Others\"\n",
    "#       encoded_df.drop([new_column_name], axis=1, inplace=True)\n",
    "#       encoded_df.loc[df[col].isnull(), column_names] = pd.NA\n",
    "#     except:\n",
    "#       print('This column doesnt have nulls',col)\n",
    "#\n",
    "#     # Add the encoded DataFrame to the list\n",
    "#     encoded_data_frames.append(encoded_df)\n",
    "#\n",
    "# # Concatenate the original DataFrame and the list of encoded DataFrames\n",
    "# df_encoded = pd.concat([df_encoded] + encoded_data_frames, axis=1)\n",
    "#\n",
    "# # Drop the original categorical columns\n",
    "# df_encoded.drop(categorical_columns, axis=1, inplace=True)\n",
    "#\n",
    "# # Now, the df_encoded DataFrame contains the changes made to categorical columns, with null values preserved."
   ],
   "metadata": {
    "collapsed": false,
    "ExecuteTime": {
     "end_time": "2024-01-14T22:38:40.557200Z",
     "start_time": "2024-01-14T22:38:40.552073Z"
    }
   }
  },
  {
   "cell_type": "code",
   "execution_count": 97,
   "outputs": [],
   "source": [
    "import pandas as pd\n",
    "from sklearn.preprocessing import OneHotEncoder\n",
    "df=dropped\n",
    "# Select categorical columns\n",
    "categorical_columns = df.select_dtypes(include=['object', 'category']).columns.tolist()\n",
    "\n",
    "# Create a copy of the original dataframe to preserve the original columns\n",
    "df_encoded = df.copy()\n",
    "\n",
    "# Create an empty DataFrame to store the encoded columns\n",
    "encoded_data_frames = []\n",
    "\n",
    "# Define a list of transformers for each categorical column\n",
    "for col in categorical_columns:\n",
    "\n",
    "    # Create dummy variables using OneHotEncoder\n",
    "    encoder = OneHotEncoder(sparse=False, handle_unknown='ignore')\n",
    "    encoded_data = encoder.fit_transform(df_encoded[[col]])\n",
    "\n",
    "    # Get column names based on the original column and category\n",
    "    column_names = [category for category in encoder.get_feature_names_out([col])]\n",
    "\n",
    "    # Create a DataFrame for the encoded data\n",
    "    encoded_df = pd.DataFrame(encoded_data, columns=column_names, index=df_encoded.index)\n",
    "\n",
    "    # Add the encoded DataFrame to the list\n",
    "    encoded_data_frames.append(encoded_df)\n",
    "\n",
    "# Concatenate the original DataFrame and the list of encoded DataFrames\n",
    "df_encoded = pd.concat([df_encoded] + encoded_data_frames, axis=1)\n",
    "\n",
    "# Drop the original categorical columns\n",
    "df_encoded.drop(categorical_columns, axis=1, inplace=True)\n",
    "\n",
    "# Now, the df_encoded DataFrame contains the changes made to categorical columns, with null values preserved."
   ],
   "metadata": {
    "collapsed": false,
    "ExecuteTime": {
     "end_time": "2024-01-14T22:38:41.071997Z",
     "start_time": "2024-01-14T22:38:41.064331Z"
    }
   }
  },
  {
   "cell_type": "code",
   "execution_count": 98,
   "outputs": [
    {
     "name": "stdout",
     "output_type": "stream",
     "text": [
      "Your selected dataframe has 583 columns.\n",
      "There are 530 columns that have missing values.\n"
     ]
    },
    {
     "data": {
      "text/plain": "     Missing Values  % of Total Values Data Type\n516            1018               65.0   float64\n518            1018               65.0   float64\n382            1018               65.0   float64\n246            1018               65.0   float64\n245            1018               65.0   float64\n..              ...                ...       ...\n458               1                0.1   float64\n457               1                0.1   float64\n456               1                0.1   float64\n455               1                0.1   float64\n589               1                0.1   float64\n\n[530 rows x 3 columns]",
      "text/html": "<div>\n<style scoped>\n    .dataframe tbody tr th:only-of-type {\n        vertical-align: middle;\n    }\n\n    .dataframe tbody tr th {\n        vertical-align: top;\n    }\n\n    .dataframe thead th {\n        text-align: right;\n    }\n</style>\n<table border=\"1\" class=\"dataframe\">\n  <thead>\n    <tr style=\"text-align: right;\">\n      <th></th>\n      <th>Missing Values</th>\n      <th>% of Total Values</th>\n      <th>Data Type</th>\n    </tr>\n  </thead>\n  <tbody>\n    <tr>\n      <th>516</th>\n      <td>1018</td>\n      <td>65.0</td>\n      <td>float64</td>\n    </tr>\n    <tr>\n      <th>518</th>\n      <td>1018</td>\n      <td>65.0</td>\n      <td>float64</td>\n    </tr>\n    <tr>\n      <th>382</th>\n      <td>1018</td>\n      <td>65.0</td>\n      <td>float64</td>\n    </tr>\n    <tr>\n      <th>246</th>\n      <td>1018</td>\n      <td>65.0</td>\n      <td>float64</td>\n    </tr>\n    <tr>\n      <th>245</th>\n      <td>1018</td>\n      <td>65.0</td>\n      <td>float64</td>\n    </tr>\n    <tr>\n      <th>...</th>\n      <td>...</td>\n      <td>...</td>\n      <td>...</td>\n    </tr>\n    <tr>\n      <th>458</th>\n      <td>1</td>\n      <td>0.1</td>\n      <td>float64</td>\n    </tr>\n    <tr>\n      <th>457</th>\n      <td>1</td>\n      <td>0.1</td>\n      <td>float64</td>\n    </tr>\n    <tr>\n      <th>456</th>\n      <td>1</td>\n      <td>0.1</td>\n      <td>float64</td>\n    </tr>\n    <tr>\n      <th>455</th>\n      <td>1</td>\n      <td>0.1</td>\n      <td>float64</td>\n    </tr>\n    <tr>\n      <th>589</th>\n      <td>1</td>\n      <td>0.1</td>\n      <td>float64</td>\n    </tr>\n  </tbody>\n</table>\n<p>530 rows × 3 columns</p>\n</div>"
     },
     "execution_count": 98,
     "metadata": {},
     "output_type": "execute_result"
    }
   ],
   "source": [
    "missing_values_table(df)"
   ],
   "metadata": {
    "collapsed": false,
    "ExecuteTime": {
     "end_time": "2024-01-14T22:38:41.889853Z",
     "start_time": "2024-01-14T22:38:41.882217Z"
    }
   }
  },
  {
   "cell_type": "code",
   "execution_count": 99,
   "outputs": [
    {
     "name": "stdout",
     "output_type": "stream",
     "text": [
      "Your selected dataframe has 583 columns.\n",
      "There are 530 columns that have missing values.\n"
     ]
    },
    {
     "data": {
      "text/plain": "     Missing Values  % of Total Values Data Type\n516            1018               65.0   float64\n518            1018               65.0   float64\n382            1018               65.0   float64\n246            1018               65.0   float64\n245            1018               65.0   float64\n..              ...                ...       ...\n458               1                0.1   float64\n457               1                0.1   float64\n456               1                0.1   float64\n455               1                0.1   float64\n589               1                0.1   float64\n\n[530 rows x 3 columns]",
      "text/html": "<div>\n<style scoped>\n    .dataframe tbody tr th:only-of-type {\n        vertical-align: middle;\n    }\n\n    .dataframe tbody tr th {\n        vertical-align: top;\n    }\n\n    .dataframe thead th {\n        text-align: right;\n    }\n</style>\n<table border=\"1\" class=\"dataframe\">\n  <thead>\n    <tr style=\"text-align: right;\">\n      <th></th>\n      <th>Missing Values</th>\n      <th>% of Total Values</th>\n      <th>Data Type</th>\n    </tr>\n  </thead>\n  <tbody>\n    <tr>\n      <th>516</th>\n      <td>1018</td>\n      <td>65.0</td>\n      <td>float64</td>\n    </tr>\n    <tr>\n      <th>518</th>\n      <td>1018</td>\n      <td>65.0</td>\n      <td>float64</td>\n    </tr>\n    <tr>\n      <th>382</th>\n      <td>1018</td>\n      <td>65.0</td>\n      <td>float64</td>\n    </tr>\n    <tr>\n      <th>246</th>\n      <td>1018</td>\n      <td>65.0</td>\n      <td>float64</td>\n    </tr>\n    <tr>\n      <th>245</th>\n      <td>1018</td>\n      <td>65.0</td>\n      <td>float64</td>\n    </tr>\n    <tr>\n      <th>...</th>\n      <td>...</td>\n      <td>...</td>\n      <td>...</td>\n    </tr>\n    <tr>\n      <th>458</th>\n      <td>1</td>\n      <td>0.1</td>\n      <td>float64</td>\n    </tr>\n    <tr>\n      <th>457</th>\n      <td>1</td>\n      <td>0.1</td>\n      <td>float64</td>\n    </tr>\n    <tr>\n      <th>456</th>\n      <td>1</td>\n      <td>0.1</td>\n      <td>float64</td>\n    </tr>\n    <tr>\n      <th>455</th>\n      <td>1</td>\n      <td>0.1</td>\n      <td>float64</td>\n    </tr>\n    <tr>\n      <th>589</th>\n      <td>1</td>\n      <td>0.1</td>\n      <td>float64</td>\n    </tr>\n  </tbody>\n</table>\n<p>530 rows × 3 columns</p>\n</div>"
     },
     "execution_count": 99,
     "metadata": {},
     "output_type": "execute_result"
    }
   ],
   "source": [
    "missing_values_table(df_encoded)"
   ],
   "metadata": {
    "collapsed": false,
    "ExecuteTime": {
     "end_time": "2024-01-14T22:38:42.435574Z",
     "start_time": "2024-01-14T22:38:42.425539Z"
    }
   }
  },
  {
   "cell_type": "code",
   "execution_count": 100,
   "outputs": [],
   "source": [
    "df_encoded.to_csv(os.path.join('Final-Datasets', 'UCI-Seacom-Encoded.csv'),index=False)"
   ],
   "metadata": {
    "collapsed": false,
    "ExecuteTime": {
     "end_time": "2024-01-14T22:38:44.292107Z",
     "start_time": "2024-01-14T22:38:44.024611Z"
    }
   }
  },
  {
   "cell_type": "code",
   "execution_count": null,
   "outputs": [],
   "source": [],
   "metadata": {
    "collapsed": false
   }
  }
 ],
 "metadata": {
  "kernelspec": {
   "display_name": "Python 3",
   "language": "python",
   "name": "python3"
  },
  "language_info": {
   "codemirror_mode": {
    "name": "ipython",
    "version": 2
   },
   "file_extension": ".py",
   "mimetype": "text/x-python",
   "name": "python",
   "nbconvert_exporter": "python",
   "pygments_lexer": "ipython2",
   "version": "2.7.6"
  }
 },
 "nbformat": 4,
 "nbformat_minor": 0
}
