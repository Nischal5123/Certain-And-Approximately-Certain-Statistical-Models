{
 "cells": [
  {
   "cell_type": "code",
   "execution_count": 54,
   "metadata": {
    "collapsed": true,
    "ExecuteTime": {
     "end_time": "2024-01-18T06:01:45.692919Z",
     "start_time": "2024-01-18T06:01:45.691339Z"
    }
   },
   "outputs": [],
   "source": [
    "import pandas as pd\n",
    "import os\n",
    "from utils import drop_categorical_columns\n",
    "from utils import missing_values_table\n",
    "import numpy as np"
   ]
  },
  {
   "cell_type": "code",
   "execution_count": 55,
   "outputs": [],
   "source": [
    "def drop_label_with_null(df, column_name):\n",
    "    # Drop rows where the specified column is null\n",
    "    df_cleaned = df.dropna(subset=[column_name])\n",
    "\n",
    "    return df_cleaned"
   ],
   "metadata": {
    "collapsed": false,
    "ExecuteTime": {
     "end_time": "2024-01-18T06:01:46.087494Z",
     "start_time": "2024-01-18T06:01:46.081436Z"
    }
   }
  },
  {
   "cell_type": "code",
   "execution_count": 56,
   "outputs": [],
   "source": [
    "original = pd.read_csv(\"TestDataset/database.csv\")\n",
    "original.head(5)\n",
    "column_names = [str(i) for i in range(1, len(original.columns) + 1)]\n",
    "#\n",
    "# # Assign the generated column names to the DataFrame\n",
    "#df.columns = column_names\n",
    "# Replace '?' with NaN in the entire DataFrameN\n",
    "original.replace('?', np.nan, inplace=True)\n"
   ],
   "metadata": {
    "collapsed": false,
    "ExecuteTime": {
     "end_time": "2024-01-18T06:01:46.586233Z",
     "start_time": "2024-01-18T06:01:46.574599Z"
    }
   }
  },
  {
   "cell_type": "code",
   "execution_count": 57,
   "outputs": [
    {
     "name": "stdout",
     "output_type": "stream",
     "text": [
      "Your selected dataframe has 14 columns.\n",
      "There are 6 columns that have missing values.\n"
     ]
    },
    {
     "data": {
      "text/plain": "        Missing Values  % of Total Values Data Type\nrace               103                4.8    object\nage                 43                2.0   float64\nflee                36                1.7    object\nname                19                0.9    object\narmed                6                0.3    object\ngender               1                0.0    object",
      "text/html": "<div>\n<style scoped>\n    .dataframe tbody tr th:only-of-type {\n        vertical-align: middle;\n    }\n\n    .dataframe tbody tr th {\n        vertical-align: top;\n    }\n\n    .dataframe thead th {\n        text-align: right;\n    }\n</style>\n<table border=\"1\" class=\"dataframe\">\n  <thead>\n    <tr style=\"text-align: right;\">\n      <th></th>\n      <th>Missing Values</th>\n      <th>% of Total Values</th>\n      <th>Data Type</th>\n    </tr>\n  </thead>\n  <tbody>\n    <tr>\n      <th>race</th>\n      <td>103</td>\n      <td>4.8</td>\n      <td>object</td>\n    </tr>\n    <tr>\n      <th>age</th>\n      <td>43</td>\n      <td>2.0</td>\n      <td>float64</td>\n    </tr>\n    <tr>\n      <th>flee</th>\n      <td>36</td>\n      <td>1.7</td>\n      <td>object</td>\n    </tr>\n    <tr>\n      <th>name</th>\n      <td>19</td>\n      <td>0.9</td>\n      <td>object</td>\n    </tr>\n    <tr>\n      <th>armed</th>\n      <td>6</td>\n      <td>0.3</td>\n      <td>object</td>\n    </tr>\n    <tr>\n      <th>gender</th>\n      <td>1</td>\n      <td>0.0</td>\n      <td>object</td>\n    </tr>\n  </tbody>\n</table>\n</div>"
     },
     "execution_count": 57,
     "metadata": {},
     "output_type": "execute_result"
    }
   ],
   "source": [
    "missing_values_table(original)"
   ],
   "metadata": {
    "collapsed": false,
    "ExecuteTime": {
     "end_time": "2024-01-18T06:01:47.200001Z",
     "start_time": "2024-01-18T06:01:47.195036Z"
    }
   }
  },
  {
   "cell_type": "code",
   "execution_count": 58,
   "outputs": [
    {
     "data": {
      "text/plain": "Index(['id', 'name', 'date', 'manner_of_death', 'armed', 'age', 'gender',\n       'race', 'city', 'state', 'signs_of_mental_illness', 'threat_level',\n       'flee', 'body_camera'],\n      dtype='object')"
     },
     "execution_count": 58,
     "metadata": {},
     "output_type": "execute_result"
    }
   ],
   "source": [
    "original.head(5)\n",
    "df=original.copy()\n",
    "df.columns"
   ],
   "metadata": {
    "collapsed": false,
    "ExecuteTime": {
     "end_time": "2024-01-18T06:01:48.348539Z",
     "start_time": "2024-01-18T06:01:48.340065Z"
    }
   }
  },
  {
   "cell_type": "code",
   "execution_count": 59,
   "outputs": [],
   "source": [
    "df.drop(columns=['name','id'],inplace=True)"
   ],
   "metadata": {
    "collapsed": false,
    "ExecuteTime": {
     "end_time": "2024-01-18T06:01:50.093471Z",
     "start_time": "2024-01-18T06:01:50.086174Z"
    }
   }
  },
  {
   "cell_type": "code",
   "execution_count": 60,
   "outputs": [
    {
     "data": {
      "text/plain": "   id                name        date   manner_of_death       armed   age  \\\n0   3          Tim Elliot  2015-01-02              shot         gun  53.0   \n1   4    Lewis Lee Lembke  2015-01-02              shot         gun  47.0   \n2   5  John Paul Quintero  2015-01-03  shot and Tasered     unarmed  23.0   \n3   8     Matthew Hoffman  2015-01-04              shot  toy weapon  32.0   \n4   9   Michael Rodriguez  2015-01-04              shot    nail gun  39.0   \n\n  gender race           city state  signs_of_mental_illness threat_level  \\\n0      M    A        Shelton    WA                     True       attack   \n1      M    W          Aloha    OR                    False       attack   \n2      M    H        Wichita    KS                    False        other   \n3      M    W  San Francisco    CA                     True       attack   \n4      M    H          Evans    CO                    False       attack   \n\n          flee  body_camera  \n0  Not fleeing        False  \n1  Not fleeing        False  \n2  Not fleeing        False  \n3  Not fleeing        False  \n4  Not fleeing        False  ",
      "text/html": "<div>\n<style scoped>\n    .dataframe tbody tr th:only-of-type {\n        vertical-align: middle;\n    }\n\n    .dataframe tbody tr th {\n        vertical-align: top;\n    }\n\n    .dataframe thead th {\n        text-align: right;\n    }\n</style>\n<table border=\"1\" class=\"dataframe\">\n  <thead>\n    <tr style=\"text-align: right;\">\n      <th></th>\n      <th>id</th>\n      <th>name</th>\n      <th>date</th>\n      <th>manner_of_death</th>\n      <th>armed</th>\n      <th>age</th>\n      <th>gender</th>\n      <th>race</th>\n      <th>city</th>\n      <th>state</th>\n      <th>signs_of_mental_illness</th>\n      <th>threat_level</th>\n      <th>flee</th>\n      <th>body_camera</th>\n    </tr>\n  </thead>\n  <tbody>\n    <tr>\n      <th>0</th>\n      <td>3</td>\n      <td>Tim Elliot</td>\n      <td>2015-01-02</td>\n      <td>shot</td>\n      <td>gun</td>\n      <td>53.0</td>\n      <td>M</td>\n      <td>A</td>\n      <td>Shelton</td>\n      <td>WA</td>\n      <td>True</td>\n      <td>attack</td>\n      <td>Not fleeing</td>\n      <td>False</td>\n    </tr>\n    <tr>\n      <th>1</th>\n      <td>4</td>\n      <td>Lewis Lee Lembke</td>\n      <td>2015-01-02</td>\n      <td>shot</td>\n      <td>gun</td>\n      <td>47.0</td>\n      <td>M</td>\n      <td>W</td>\n      <td>Aloha</td>\n      <td>OR</td>\n      <td>False</td>\n      <td>attack</td>\n      <td>Not fleeing</td>\n      <td>False</td>\n    </tr>\n    <tr>\n      <th>2</th>\n      <td>5</td>\n      <td>John Paul Quintero</td>\n      <td>2015-01-03</td>\n      <td>shot and Tasered</td>\n      <td>unarmed</td>\n      <td>23.0</td>\n      <td>M</td>\n      <td>H</td>\n      <td>Wichita</td>\n      <td>KS</td>\n      <td>False</td>\n      <td>other</td>\n      <td>Not fleeing</td>\n      <td>False</td>\n    </tr>\n    <tr>\n      <th>3</th>\n      <td>8</td>\n      <td>Matthew Hoffman</td>\n      <td>2015-01-04</td>\n      <td>shot</td>\n      <td>toy weapon</td>\n      <td>32.0</td>\n      <td>M</td>\n      <td>W</td>\n      <td>San Francisco</td>\n      <td>CA</td>\n      <td>True</td>\n      <td>attack</td>\n      <td>Not fleeing</td>\n      <td>False</td>\n    </tr>\n    <tr>\n      <th>4</th>\n      <td>9</td>\n      <td>Michael Rodriguez</td>\n      <td>2015-01-04</td>\n      <td>shot</td>\n      <td>nail gun</td>\n      <td>39.0</td>\n      <td>M</td>\n      <td>H</td>\n      <td>Evans</td>\n      <td>CO</td>\n      <td>False</td>\n      <td>attack</td>\n      <td>Not fleeing</td>\n      <td>False</td>\n    </tr>\n  </tbody>\n</table>\n</div>"
     },
     "execution_count": 60,
     "metadata": {},
     "output_type": "execute_result"
    }
   ],
   "source": [
    "original.head(5)"
   ],
   "metadata": {
    "collapsed": false,
    "ExecuteTime": {
     "end_time": "2024-01-18T06:01:57.176928Z",
     "start_time": "2024-01-18T06:01:57.161922Z"
    }
   }
  },
  {
   "cell_type": "code",
   "execution_count": 61,
   "outputs": [
    {
     "name": "stdout",
     "output_type": "stream",
     "text": [
      "9\n",
      "['date', 'manner_of_death', 'armed', 'gender', 'race', 'city', 'state', 'threat_level', 'flee']\n"
     ]
    }
   ],
   "source": [
    "categorical_columns = df.select_dtypes(include=['object', 'category']).columns.tolist()\n",
    "print(len(categorical_columns))\n",
    "for col in categorical_columns:\n",
    "    df[col] = pd.to_numeric(df[col], errors='ignore')\n",
    "# after those are taken care of we can drop the columns that are still object\n",
    "categorical_columns = df.select_dtypes(include=['object', 'category']).columns.tolist()\n",
    "print(categorical_columns)"
   ],
   "metadata": {
    "collapsed": false,
    "ExecuteTime": {
     "end_time": "2024-01-18T06:02:00.975591Z",
     "start_time": "2024-01-18T06:02:00.971842Z"
    }
   }
  },
  {
   "cell_type": "code",
   "execution_count": 62,
   "outputs": [],
   "source": [
    "# Convert date and time columns to datetime format\n",
    "df['date'] = pd.to_datetime(df['date'])\n",
    "\n",
    "\n",
    "# Extract year, month, day from the date column\n",
    "df['year'] = df['date'].dt.year\n",
    "df['month'] = df['date'].dt.month\n",
    "df['day'] = df['date'].dt.day\n",
    "\n",
    "# Drop the original date and time columns\n",
    "df = df.drop(['date'], axis=1)"
   ],
   "metadata": {
    "collapsed": false,
    "ExecuteTime": {
     "end_time": "2024-01-18T06:02:05.686541Z",
     "start_time": "2024-01-18T06:02:05.681956Z"
    }
   }
  },
  {
   "cell_type": "code",
   "execution_count": 63,
   "outputs": [
    {
     "data": {
      "text/plain": "(2099, 14)"
     },
     "execution_count": 63,
     "metadata": {},
     "output_type": "execute_result"
    }
   ],
   "source": [
    "dropped=drop_label_with_null(df, 'age')\n",
    "dropped.shape"
   ],
   "metadata": {
    "collapsed": false,
    "ExecuteTime": {
     "end_time": "2024-01-18T06:02:08.060896Z",
     "start_time": "2024-01-18T06:02:08.055747Z"
    }
   }
  },
  {
   "cell_type": "code",
   "execution_count": 64,
   "outputs": [
    {
     "name": "stdout",
     "output_type": "stream",
     "text": [
      "Your selected dataframe has 14 columns.\n",
      "There are 3 columns that have missing values.\n"
     ]
    },
    {
     "data": {
      "text/plain": "       Missing Values  % of Total Values Data Type\nrace               81                3.9    object\nflee               32                1.5    object\narmed               5                0.2    object",
      "text/html": "<div>\n<style scoped>\n    .dataframe tbody tr th:only-of-type {\n        vertical-align: middle;\n    }\n\n    .dataframe tbody tr th {\n        vertical-align: top;\n    }\n\n    .dataframe thead th {\n        text-align: right;\n    }\n</style>\n<table border=\"1\" class=\"dataframe\">\n  <thead>\n    <tr style=\"text-align: right;\">\n      <th></th>\n      <th>Missing Values</th>\n      <th>% of Total Values</th>\n      <th>Data Type</th>\n    </tr>\n  </thead>\n  <tbody>\n    <tr>\n      <th>race</th>\n      <td>81</td>\n      <td>3.9</td>\n      <td>object</td>\n    </tr>\n    <tr>\n      <th>flee</th>\n      <td>32</td>\n      <td>1.5</td>\n      <td>object</td>\n    </tr>\n    <tr>\n      <th>armed</th>\n      <td>5</td>\n      <td>0.2</td>\n      <td>object</td>\n    </tr>\n  </tbody>\n</table>\n</div>"
     },
     "execution_count": 64,
     "metadata": {},
     "output_type": "execute_result"
    }
   ],
   "source": [
    "missing_values_table(dropped)"
   ],
   "metadata": {
    "collapsed": false,
    "ExecuteTime": {
     "end_time": "2024-01-18T06:02:09.700509Z",
     "start_time": "2024-01-18T06:02:09.691307Z"
    }
   }
  },
  {
   "cell_type": "code",
   "execution_count": 65,
   "outputs": [
    {
     "name": "stdout",
     "output_type": "stream",
     "text": [
      "This column doesnt have nulls manner_of_death\n",
      "This column doesnt have nulls armed\n",
      "This column doesnt have nulls gender\n",
      "This column doesnt have nulls city\n",
      "This column doesnt have nulls state\n",
      "This column doesnt have nulls threat_level\n"
     ]
    },
    {
     "name": "stderr",
     "output_type": "stream",
     "text": [
      "/Users/aryal/anaconda3/envs/Certain-Models/lib/python3.10/site-packages/sklearn/preprocessing/_encoders.py:975: FutureWarning: `sparse` was renamed to `sparse_output` in version 1.2 and will be removed in 1.4. `sparse_output` is ignored unless you leave `sparse` to its default value.\n",
      "  warnings.warn(\n",
      "/Users/aryal/anaconda3/envs/Certain-Models/lib/python3.10/site-packages/sklearn/preprocessing/_encoders.py:975: FutureWarning: `sparse` was renamed to `sparse_output` in version 1.2 and will be removed in 1.4. `sparse_output` is ignored unless you leave `sparse` to its default value.\n",
      "  warnings.warn(\n",
      "/Users/aryal/anaconda3/envs/Certain-Models/lib/python3.10/site-packages/sklearn/preprocessing/_encoders.py:975: FutureWarning: `sparse` was renamed to `sparse_output` in version 1.2 and will be removed in 1.4. `sparse_output` is ignored unless you leave `sparse` to its default value.\n",
      "  warnings.warn(\n",
      "/Users/aryal/anaconda3/envs/Certain-Models/lib/python3.10/site-packages/sklearn/preprocessing/_encoders.py:975: FutureWarning: `sparse` was renamed to `sparse_output` in version 1.2 and will be removed in 1.4. `sparse_output` is ignored unless you leave `sparse` to its default value.\n",
      "  warnings.warn(\n",
      "/Users/aryal/anaconda3/envs/Certain-Models/lib/python3.10/site-packages/sklearn/preprocessing/_encoders.py:975: FutureWarning: `sparse` was renamed to `sparse_output` in version 1.2 and will be removed in 1.4. `sparse_output` is ignored unless you leave `sparse` to its default value.\n",
      "  warnings.warn(\n",
      "/Users/aryal/anaconda3/envs/Certain-Models/lib/python3.10/site-packages/sklearn/preprocessing/_encoders.py:975: FutureWarning: `sparse` was renamed to `sparse_output` in version 1.2 and will be removed in 1.4. `sparse_output` is ignored unless you leave `sparse` to its default value.\n",
      "  warnings.warn(\n",
      "/Users/aryal/anaconda3/envs/Certain-Models/lib/python3.10/site-packages/sklearn/preprocessing/_encoders.py:975: FutureWarning: `sparse` was renamed to `sparse_output` in version 1.2 and will be removed in 1.4. `sparse_output` is ignored unless you leave `sparse` to its default value.\n",
      "  warnings.warn(\n",
      "/Users/aryal/anaconda3/envs/Certain-Models/lib/python3.10/site-packages/sklearn/preprocessing/_encoders.py:975: FutureWarning: `sparse` was renamed to `sparse_output` in version 1.2 and will be removed in 1.4. `sparse_output` is ignored unless you leave `sparse` to its default value.\n",
      "  warnings.warn(\n"
     ]
    }
   ],
   "source": [
    "#others then handle nullls\n",
    "\n",
    "import pandas as pd\n",
    "from sklearn.preprocessing import OneHotEncoder\n",
    "df=dropped\n",
    "# Select categorical columns\n",
    "categorical_columns = df.select_dtypes(include=['object', 'category']).columns.tolist()\n",
    "\n",
    "# Create a copy of the original dataframe to preserve the original columns\n",
    "df_encoded = df.copy()\n",
    "\n",
    "# Create an empty DataFrame to store the encoded columns\n",
    "encoded_data_frames = []\n",
    "\n",
    "# Define a list of transformers for each categorical column\n",
    "for col in categorical_columns:\n",
    "    # Replace null values with \"Others\" in the original column\n",
    "    df_encoded[col].fillna(\"Others\", inplace=True)\n",
    "\n",
    "    # Create dummy variables using OneHotEncoder\n",
    "    encoder = OneHotEncoder(sparse=False, handle_unknown='ignore', drop='first')\n",
    "    encoded_data = encoder.fit_transform(df_encoded[[col]])\n",
    "\n",
    "    # Get column names based on the original column and category\n",
    "    column_names = [category for category in encoder.get_feature_names_out([col])]\n",
    "\n",
    "    # Create a DataFrame for the encoded data\n",
    "    encoded_df = pd.DataFrame(encoded_data, columns=column_names, index=df_encoded.index)\n",
    "\n",
    "    try:\n",
    "      new_column_name = f\"{col}_{'Others'}\"\n",
    "      # Drop the original column and the dummy variables for \"Others\"\n",
    "\n",
    "      encoded_df.loc[df[col].isnull(), column_names] = pd.NA\n",
    "      encoded_df.drop([new_column_name], axis=1, inplace=True)\n",
    "    except:\n",
    "      print('This column doesnt have nulls',col)\n",
    "\n",
    "    # Add the encoded DataFrame to the list\n",
    "    encoded_data_frames.append(encoded_df)\n",
    "\n",
    "# Concatenate the original DataFrame and the list of encoded DataFrames\n",
    "df_encoded = pd.concat([df_encoded] + encoded_data_frames, axis=1)\n",
    "\n",
    "# Drop the original categorical columns\n",
    "df_encoded.drop(categorical_columns, axis=1, inplace=True)\n",
    "\n",
    "# Now, the df_encoded DataFrame contains the changes made to categorical columns, with null values preserved."
   ],
   "metadata": {
    "collapsed": false,
    "ExecuteTime": {
     "end_time": "2024-01-18T06:02:21.633408Z",
     "start_time": "2024-01-18T06:02:21.564502Z"
    }
   }
  },
  {
   "cell_type": "code",
   "execution_count": 66,
   "outputs": [
    {
     "name": "stdout",
     "output_type": "stream",
     "text": [
      "Your selected dataframe has 1353 columns.\n",
      "There are 71 columns that have missing values.\n"
     ]
    },
    {
     "data": {
      "text/plain": "                     Missing Values  % of Total Values Data Type\nrace_W                           81                3.9   float64\nrace_O                           81                3.9   float64\nrace_N                           81                3.9   float64\nrace_H                           81                3.9   float64\nrace_B                           81                3.9   float64\n...                             ...                ...       ...\narmed_gun and knife               5                0.2   float64\narmed_gun                         5                0.2   float64\narmed_glass shard                 5                0.2   float64\narmed_garden tool                 5                0.2   float64\narmed_metal object                5                0.2   float64\n\n[71 rows x 3 columns]",
      "text/html": "<div>\n<style scoped>\n    .dataframe tbody tr th:only-of-type {\n        vertical-align: middle;\n    }\n\n    .dataframe tbody tr th {\n        vertical-align: top;\n    }\n\n    .dataframe thead th {\n        text-align: right;\n    }\n</style>\n<table border=\"1\" class=\"dataframe\">\n  <thead>\n    <tr style=\"text-align: right;\">\n      <th></th>\n      <th>Missing Values</th>\n      <th>% of Total Values</th>\n      <th>Data Type</th>\n    </tr>\n  </thead>\n  <tbody>\n    <tr>\n      <th>race_W</th>\n      <td>81</td>\n      <td>3.9</td>\n      <td>float64</td>\n    </tr>\n    <tr>\n      <th>race_O</th>\n      <td>81</td>\n      <td>3.9</td>\n      <td>float64</td>\n    </tr>\n    <tr>\n      <th>race_N</th>\n      <td>81</td>\n      <td>3.9</td>\n      <td>float64</td>\n    </tr>\n    <tr>\n      <th>race_H</th>\n      <td>81</td>\n      <td>3.9</td>\n      <td>float64</td>\n    </tr>\n    <tr>\n      <th>race_B</th>\n      <td>81</td>\n      <td>3.9</td>\n      <td>float64</td>\n    </tr>\n    <tr>\n      <th>...</th>\n      <td>...</td>\n      <td>...</td>\n      <td>...</td>\n    </tr>\n    <tr>\n      <th>armed_gun and knife</th>\n      <td>5</td>\n      <td>0.2</td>\n      <td>float64</td>\n    </tr>\n    <tr>\n      <th>armed_gun</th>\n      <td>5</td>\n      <td>0.2</td>\n      <td>float64</td>\n    </tr>\n    <tr>\n      <th>armed_glass shard</th>\n      <td>5</td>\n      <td>0.2</td>\n      <td>float64</td>\n    </tr>\n    <tr>\n      <th>armed_garden tool</th>\n      <td>5</td>\n      <td>0.2</td>\n      <td>float64</td>\n    </tr>\n    <tr>\n      <th>armed_metal object</th>\n      <td>5</td>\n      <td>0.2</td>\n      <td>float64</td>\n    </tr>\n  </tbody>\n</table>\n<p>71 rows × 3 columns</p>\n</div>"
     },
     "execution_count": 66,
     "metadata": {},
     "output_type": "execute_result"
    }
   ],
   "source": [
    "missing_values_table(df_encoded)"
   ],
   "metadata": {
    "collapsed": false,
    "ExecuteTime": {
     "end_time": "2024-01-18T06:02:26.023197Z",
     "start_time": "2024-01-18T06:02:26.005510Z"
    }
   }
  },
  {
   "cell_type": "code",
   "execution_count": 67,
   "outputs": [
    {
     "data": {
      "text/plain": "     age  signs_of_mental_illness  body_camera  year  month  day  \\\n0   53.0                     True        False  2015      1    2   \n1   47.0                    False        False  2015      1    2   \n2   23.0                    False        False  2015      1    3   \n3   32.0                     True        False  2015      1    4   \n4   39.0                    False        False  2015      1    4   \n5   18.0                    False        False  2015      1    4   \n6   22.0                    False        False  2015      1    5   \n7   35.0                    False        False  2015      1    6   \n8   34.0                    False         True  2015      1    6   \n9   47.0                    False        False  2015      1    6   \n10  25.0                    False        False  2015      1    6   \n11  31.0                    False        False  2015      1    7   \n12  41.0                     True        False  2015      1    7   \n13  30.0                    False        False  2015      1    7   \n14  37.0                    False         True  2015      1    7   \n\n    manner_of_death_shot and Tasered  armed_Taser  armed_ax  \\\n0                                0.0          0.0       0.0   \n1                                0.0          0.0       0.0   \n2                                1.0          0.0       0.0   \n3                                0.0          0.0       0.0   \n4                                0.0          0.0       0.0   \n5                                0.0          0.0       0.0   \n6                                0.0          0.0       0.0   \n7                                0.0          0.0       0.0   \n8                                0.0          0.0       0.0   \n9                                0.0          0.0       0.0   \n10                               1.0          0.0       0.0   \n11                               0.0          0.0       0.0   \n12                               0.0          0.0       0.0   \n13                               0.0          0.0       0.0   \n14                               0.0          0.0       0.0   \n\n    armed_baseball bat  ...  state_VT  state_WA  state_WI  state_WV  state_WY  \\\n0                  0.0  ...       0.0       1.0       0.0       0.0       0.0   \n1                  0.0  ...       0.0       0.0       0.0       0.0       0.0   \n2                  0.0  ...       0.0       0.0       0.0       0.0       0.0   \n3                  0.0  ...       0.0       0.0       0.0       0.0       0.0   \n4                  0.0  ...       0.0       0.0       0.0       0.0       0.0   \n5                  0.0  ...       0.0       0.0       0.0       0.0       0.0   \n6                  0.0  ...       0.0       0.0       0.0       0.0       0.0   \n7                  0.0  ...       0.0       0.0       0.0       0.0       0.0   \n8                  0.0  ...       0.0       0.0       0.0       0.0       0.0   \n9                  0.0  ...       0.0       0.0       0.0       0.0       0.0   \n10                 0.0  ...       0.0       0.0       0.0       0.0       0.0   \n11                 0.0  ...       0.0       0.0       0.0       0.0       0.0   \n12                 0.0  ...       0.0       0.0       0.0       0.0       0.0   \n13                 0.0  ...       0.0       0.0       0.0       0.0       0.0   \n14                 0.0  ...       0.0       0.0       0.0       0.0       0.0   \n\n    threat_level_other  threat_level_undetermined  flee_Foot  \\\n0                  0.0                        0.0        0.0   \n1                  0.0                        0.0        0.0   \n2                  1.0                        0.0        0.0   \n3                  0.0                        0.0        0.0   \n4                  0.0                        0.0        0.0   \n5                  0.0                        0.0        0.0   \n6                  0.0                        0.0        0.0   \n7                  0.0                        0.0        0.0   \n8                  1.0                        0.0        0.0   \n9                  0.0                        0.0        0.0   \n10                 0.0                        0.0        0.0   \n11                 0.0                        0.0        0.0   \n12                 1.0                        0.0        0.0   \n13                 0.0                        0.0        0.0   \n14                 0.0                        0.0        1.0   \n\n    flee_Not fleeing  flee_Other  \n0                1.0         0.0  \n1                1.0         0.0  \n2                1.0         0.0  \n3                1.0         0.0  \n4                1.0         0.0  \n5                1.0         0.0  \n6                0.0         0.0  \n7                1.0         0.0  \n8                1.0         0.0  \n9                1.0         0.0  \n10               1.0         0.0  \n11               1.0         0.0  \n12               1.0         0.0  \n13               0.0         0.0  \n14               0.0         0.0  \n\n[15 rows x 1353 columns]",
      "text/html": "<div>\n<style scoped>\n    .dataframe tbody tr th:only-of-type {\n        vertical-align: middle;\n    }\n\n    .dataframe tbody tr th {\n        vertical-align: top;\n    }\n\n    .dataframe thead th {\n        text-align: right;\n    }\n</style>\n<table border=\"1\" class=\"dataframe\">\n  <thead>\n    <tr style=\"text-align: right;\">\n      <th></th>\n      <th>age</th>\n      <th>signs_of_mental_illness</th>\n      <th>body_camera</th>\n      <th>year</th>\n      <th>month</th>\n      <th>day</th>\n      <th>manner_of_death_shot and Tasered</th>\n      <th>armed_Taser</th>\n      <th>armed_ax</th>\n      <th>armed_baseball bat</th>\n      <th>...</th>\n      <th>state_VT</th>\n      <th>state_WA</th>\n      <th>state_WI</th>\n      <th>state_WV</th>\n      <th>state_WY</th>\n      <th>threat_level_other</th>\n      <th>threat_level_undetermined</th>\n      <th>flee_Foot</th>\n      <th>flee_Not fleeing</th>\n      <th>flee_Other</th>\n    </tr>\n  </thead>\n  <tbody>\n    <tr>\n      <th>0</th>\n      <td>53.0</td>\n      <td>True</td>\n      <td>False</td>\n      <td>2015</td>\n      <td>1</td>\n      <td>2</td>\n      <td>0.0</td>\n      <td>0.0</td>\n      <td>0.0</td>\n      <td>0.0</td>\n      <td>...</td>\n      <td>0.0</td>\n      <td>1.0</td>\n      <td>0.0</td>\n      <td>0.0</td>\n      <td>0.0</td>\n      <td>0.0</td>\n      <td>0.0</td>\n      <td>0.0</td>\n      <td>1.0</td>\n      <td>0.0</td>\n    </tr>\n    <tr>\n      <th>1</th>\n      <td>47.0</td>\n      <td>False</td>\n      <td>False</td>\n      <td>2015</td>\n      <td>1</td>\n      <td>2</td>\n      <td>0.0</td>\n      <td>0.0</td>\n      <td>0.0</td>\n      <td>0.0</td>\n      <td>...</td>\n      <td>0.0</td>\n      <td>0.0</td>\n      <td>0.0</td>\n      <td>0.0</td>\n      <td>0.0</td>\n      <td>0.0</td>\n      <td>0.0</td>\n      <td>0.0</td>\n      <td>1.0</td>\n      <td>0.0</td>\n    </tr>\n    <tr>\n      <th>2</th>\n      <td>23.0</td>\n      <td>False</td>\n      <td>False</td>\n      <td>2015</td>\n      <td>1</td>\n      <td>3</td>\n      <td>1.0</td>\n      <td>0.0</td>\n      <td>0.0</td>\n      <td>0.0</td>\n      <td>...</td>\n      <td>0.0</td>\n      <td>0.0</td>\n      <td>0.0</td>\n      <td>0.0</td>\n      <td>0.0</td>\n      <td>1.0</td>\n      <td>0.0</td>\n      <td>0.0</td>\n      <td>1.0</td>\n      <td>0.0</td>\n    </tr>\n    <tr>\n      <th>3</th>\n      <td>32.0</td>\n      <td>True</td>\n      <td>False</td>\n      <td>2015</td>\n      <td>1</td>\n      <td>4</td>\n      <td>0.0</td>\n      <td>0.0</td>\n      <td>0.0</td>\n      <td>0.0</td>\n      <td>...</td>\n      <td>0.0</td>\n      <td>0.0</td>\n      <td>0.0</td>\n      <td>0.0</td>\n      <td>0.0</td>\n      <td>0.0</td>\n      <td>0.0</td>\n      <td>0.0</td>\n      <td>1.0</td>\n      <td>0.0</td>\n    </tr>\n    <tr>\n      <th>4</th>\n      <td>39.0</td>\n      <td>False</td>\n      <td>False</td>\n      <td>2015</td>\n      <td>1</td>\n      <td>4</td>\n      <td>0.0</td>\n      <td>0.0</td>\n      <td>0.0</td>\n      <td>0.0</td>\n      <td>...</td>\n      <td>0.0</td>\n      <td>0.0</td>\n      <td>0.0</td>\n      <td>0.0</td>\n      <td>0.0</td>\n      <td>0.0</td>\n      <td>0.0</td>\n      <td>0.0</td>\n      <td>1.0</td>\n      <td>0.0</td>\n    </tr>\n    <tr>\n      <th>5</th>\n      <td>18.0</td>\n      <td>False</td>\n      <td>False</td>\n      <td>2015</td>\n      <td>1</td>\n      <td>4</td>\n      <td>0.0</td>\n      <td>0.0</td>\n      <td>0.0</td>\n      <td>0.0</td>\n      <td>...</td>\n      <td>0.0</td>\n      <td>0.0</td>\n      <td>0.0</td>\n      <td>0.0</td>\n      <td>0.0</td>\n      <td>0.0</td>\n      <td>0.0</td>\n      <td>0.0</td>\n      <td>1.0</td>\n      <td>0.0</td>\n    </tr>\n    <tr>\n      <th>6</th>\n      <td>22.0</td>\n      <td>False</td>\n      <td>False</td>\n      <td>2015</td>\n      <td>1</td>\n      <td>5</td>\n      <td>0.0</td>\n      <td>0.0</td>\n      <td>0.0</td>\n      <td>0.0</td>\n      <td>...</td>\n      <td>0.0</td>\n      <td>0.0</td>\n      <td>0.0</td>\n      <td>0.0</td>\n      <td>0.0</td>\n      <td>0.0</td>\n      <td>0.0</td>\n      <td>0.0</td>\n      <td>0.0</td>\n      <td>0.0</td>\n    </tr>\n    <tr>\n      <th>7</th>\n      <td>35.0</td>\n      <td>False</td>\n      <td>False</td>\n      <td>2015</td>\n      <td>1</td>\n      <td>6</td>\n      <td>0.0</td>\n      <td>0.0</td>\n      <td>0.0</td>\n      <td>0.0</td>\n      <td>...</td>\n      <td>0.0</td>\n      <td>0.0</td>\n      <td>0.0</td>\n      <td>0.0</td>\n      <td>0.0</td>\n      <td>0.0</td>\n      <td>0.0</td>\n      <td>0.0</td>\n      <td>1.0</td>\n      <td>0.0</td>\n    </tr>\n    <tr>\n      <th>8</th>\n      <td>34.0</td>\n      <td>False</td>\n      <td>True</td>\n      <td>2015</td>\n      <td>1</td>\n      <td>6</td>\n      <td>0.0</td>\n      <td>0.0</td>\n      <td>0.0</td>\n      <td>0.0</td>\n      <td>...</td>\n      <td>0.0</td>\n      <td>0.0</td>\n      <td>0.0</td>\n      <td>0.0</td>\n      <td>0.0</td>\n      <td>1.0</td>\n      <td>0.0</td>\n      <td>0.0</td>\n      <td>1.0</td>\n      <td>0.0</td>\n    </tr>\n    <tr>\n      <th>9</th>\n      <td>47.0</td>\n      <td>False</td>\n      <td>False</td>\n      <td>2015</td>\n      <td>1</td>\n      <td>6</td>\n      <td>0.0</td>\n      <td>0.0</td>\n      <td>0.0</td>\n      <td>0.0</td>\n      <td>...</td>\n      <td>0.0</td>\n      <td>0.0</td>\n      <td>0.0</td>\n      <td>0.0</td>\n      <td>0.0</td>\n      <td>0.0</td>\n      <td>0.0</td>\n      <td>0.0</td>\n      <td>1.0</td>\n      <td>0.0</td>\n    </tr>\n    <tr>\n      <th>10</th>\n      <td>25.0</td>\n      <td>False</td>\n      <td>False</td>\n      <td>2015</td>\n      <td>1</td>\n      <td>6</td>\n      <td>1.0</td>\n      <td>0.0</td>\n      <td>0.0</td>\n      <td>0.0</td>\n      <td>...</td>\n      <td>0.0</td>\n      <td>0.0</td>\n      <td>0.0</td>\n      <td>0.0</td>\n      <td>0.0</td>\n      <td>0.0</td>\n      <td>0.0</td>\n      <td>0.0</td>\n      <td>1.0</td>\n      <td>0.0</td>\n    </tr>\n    <tr>\n      <th>11</th>\n      <td>31.0</td>\n      <td>False</td>\n      <td>False</td>\n      <td>2015</td>\n      <td>1</td>\n      <td>7</td>\n      <td>0.0</td>\n      <td>0.0</td>\n      <td>0.0</td>\n      <td>0.0</td>\n      <td>...</td>\n      <td>0.0</td>\n      <td>0.0</td>\n      <td>0.0</td>\n      <td>0.0</td>\n      <td>0.0</td>\n      <td>0.0</td>\n      <td>0.0</td>\n      <td>0.0</td>\n      <td>1.0</td>\n      <td>0.0</td>\n    </tr>\n    <tr>\n      <th>12</th>\n      <td>41.0</td>\n      <td>True</td>\n      <td>False</td>\n      <td>2015</td>\n      <td>1</td>\n      <td>7</td>\n      <td>0.0</td>\n      <td>0.0</td>\n      <td>0.0</td>\n      <td>0.0</td>\n      <td>...</td>\n      <td>0.0</td>\n      <td>0.0</td>\n      <td>0.0</td>\n      <td>0.0</td>\n      <td>0.0</td>\n      <td>1.0</td>\n      <td>0.0</td>\n      <td>0.0</td>\n      <td>1.0</td>\n      <td>0.0</td>\n    </tr>\n    <tr>\n      <th>13</th>\n      <td>30.0</td>\n      <td>False</td>\n      <td>False</td>\n      <td>2015</td>\n      <td>1</td>\n      <td>7</td>\n      <td>0.0</td>\n      <td>0.0</td>\n      <td>0.0</td>\n      <td>0.0</td>\n      <td>...</td>\n      <td>0.0</td>\n      <td>0.0</td>\n      <td>0.0</td>\n      <td>0.0</td>\n      <td>0.0</td>\n      <td>0.0</td>\n      <td>0.0</td>\n      <td>0.0</td>\n      <td>0.0</td>\n      <td>0.0</td>\n    </tr>\n    <tr>\n      <th>14</th>\n      <td>37.0</td>\n      <td>False</td>\n      <td>True</td>\n      <td>2015</td>\n      <td>1</td>\n      <td>7</td>\n      <td>0.0</td>\n      <td>0.0</td>\n      <td>0.0</td>\n      <td>0.0</td>\n      <td>...</td>\n      <td>0.0</td>\n      <td>0.0</td>\n      <td>0.0</td>\n      <td>0.0</td>\n      <td>0.0</td>\n      <td>0.0</td>\n      <td>0.0</td>\n      <td>1.0</td>\n      <td>0.0</td>\n      <td>0.0</td>\n    </tr>\n  </tbody>\n</table>\n<p>15 rows × 1353 columns</p>\n</div>"
     },
     "execution_count": 67,
     "metadata": {},
     "output_type": "execute_result"
    }
   ],
   "source": [
    "df_encoded.head(15)"
   ],
   "metadata": {
    "collapsed": false,
    "ExecuteTime": {
     "end_time": "2024-01-18T06:02:33.032009Z",
     "start_time": "2024-01-18T06:02:33.007676Z"
    }
   }
  },
  {
   "cell_type": "code",
   "execution_count": 70,
   "outputs": [],
   "source": [
    "# Assuming df is your DataFrame\n",
    "df_encoded['body_camera'] = df_encoded['body_camera'].astype(int)\n",
    "df_encoded['signs_of_mental_illness'] = df_encoded['signs_of_mental_illness'].astype(int)"
   ],
   "metadata": {
    "collapsed": false,
    "ExecuteTime": {
     "end_time": "2024-01-18T06:05:03.898852Z",
     "start_time": "2024-01-18T06:05:03.879529Z"
    }
   }
  },
  {
   "cell_type": "code",
   "execution_count": 71,
   "outputs": [],
   "source": [
    "df_encoded.to_csv(os.path.join('Final-Datasets', 'Fatal-Shotting.csv'),index=False)"
   ],
   "metadata": {
    "collapsed": false,
    "ExecuteTime": {
     "end_time": "2024-01-18T06:05:05.968210Z",
     "start_time": "2024-01-18T06:05:05.282579Z"
    }
   }
  },
  {
   "cell_type": "code",
   "execution_count": 72,
   "outputs": [
    {
     "name": "stdout",
     "output_type": "stream",
     "text": [
      "Your selected dataframe has 1353 columns.\n",
      "There are 71 columns that have missing values.\n"
     ]
    },
    {
     "data": {
      "text/plain": "                     Missing Values  % of Total Values Data Type\nrace_W                           81                3.9   float64\nrace_O                           81                3.9   float64\nrace_N                           81                3.9   float64\nrace_H                           81                3.9   float64\nrace_B                           81                3.9   float64\n...                             ...                ...       ...\narmed_gun and knife               5                0.2   float64\narmed_gun                         5                0.2   float64\narmed_glass shard                 5                0.2   float64\narmed_garden tool                 5                0.2   float64\narmed_metal object                5                0.2   float64\n\n[71 rows x 3 columns]",
      "text/html": "<div>\n<style scoped>\n    .dataframe tbody tr th:only-of-type {\n        vertical-align: middle;\n    }\n\n    .dataframe tbody tr th {\n        vertical-align: top;\n    }\n\n    .dataframe thead th {\n        text-align: right;\n    }\n</style>\n<table border=\"1\" class=\"dataframe\">\n  <thead>\n    <tr style=\"text-align: right;\">\n      <th></th>\n      <th>Missing Values</th>\n      <th>% of Total Values</th>\n      <th>Data Type</th>\n    </tr>\n  </thead>\n  <tbody>\n    <tr>\n      <th>race_W</th>\n      <td>81</td>\n      <td>3.9</td>\n      <td>float64</td>\n    </tr>\n    <tr>\n      <th>race_O</th>\n      <td>81</td>\n      <td>3.9</td>\n      <td>float64</td>\n    </tr>\n    <tr>\n      <th>race_N</th>\n      <td>81</td>\n      <td>3.9</td>\n      <td>float64</td>\n    </tr>\n    <tr>\n      <th>race_H</th>\n      <td>81</td>\n      <td>3.9</td>\n      <td>float64</td>\n    </tr>\n    <tr>\n      <th>race_B</th>\n      <td>81</td>\n      <td>3.9</td>\n      <td>float64</td>\n    </tr>\n    <tr>\n      <th>...</th>\n      <td>...</td>\n      <td>...</td>\n      <td>...</td>\n    </tr>\n    <tr>\n      <th>armed_gun and knife</th>\n      <td>5</td>\n      <td>0.2</td>\n      <td>float64</td>\n    </tr>\n    <tr>\n      <th>armed_gun</th>\n      <td>5</td>\n      <td>0.2</td>\n      <td>float64</td>\n    </tr>\n    <tr>\n      <th>armed_glass shard</th>\n      <td>5</td>\n      <td>0.2</td>\n      <td>float64</td>\n    </tr>\n    <tr>\n      <th>armed_garden tool</th>\n      <td>5</td>\n      <td>0.2</td>\n      <td>float64</td>\n    </tr>\n    <tr>\n      <th>armed_metal object</th>\n      <td>5</td>\n      <td>0.2</td>\n      <td>float64</td>\n    </tr>\n  </tbody>\n</table>\n<p>71 rows × 3 columns</p>\n</div>"
     },
     "execution_count": 72,
     "metadata": {},
     "output_type": "execute_result"
    }
   ],
   "source": [
    "missing_values_table(df_encoded)"
   ],
   "metadata": {
    "collapsed": false,
    "ExecuteTime": {
     "end_time": "2024-01-18T06:05:06.628418Z",
     "start_time": "2024-01-18T06:05:06.615751Z"
    }
   }
  },
  {
   "cell_type": "code",
   "execution_count": null,
   "outputs": [],
   "source": [],
   "metadata": {
    "collapsed": false
   }
  }
 ],
 "metadata": {
  "kernelspec": {
   "display_name": "Python 3",
   "language": "python",
   "name": "python3"
  },
  "language_info": {
   "codemirror_mode": {
    "name": "ipython",
    "version": 2
   },
   "file_extension": ".py",
   "mimetype": "text/x-python",
   "name": "python",
   "nbconvert_exporter": "python",
   "pygments_lexer": "ipython2",
   "version": "2.7.6"
  }
 },
 "nbformat": 4,
 "nbformat_minor": 0
}
