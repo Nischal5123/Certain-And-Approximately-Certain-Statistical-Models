{
 "cells": [
  {
   "cell_type": "code",
   "execution_count": 188,
   "metadata": {
    "collapsed": true,
    "ExecuteTime": {
     "end_time": "2024-01-18T02:26:36.669677Z",
     "start_time": "2024-01-18T02:26:36.667308Z"
    }
   },
   "outputs": [],
   "source": [
    "import pandas as pd\n",
    "import os\n",
    "from utils import drop_categorical_columns\n",
    "from utils import missing_values_table\n",
    "import numpy as np"
   ]
  },
  {
   "cell_type": "code",
   "execution_count": 189,
   "outputs": [],
   "source": [
    "def drop_label_with_null(df, column_name):\n",
    "    # Drop rows where the specified column is null\n",
    "    df_cleaned = df.dropna(subset=[column_name])\n",
    "\n",
    "    return df_cleaned"
   ],
   "metadata": {
    "collapsed": false,
    "ExecuteTime": {
     "end_time": "2024-01-18T02:26:37.030885Z",
     "start_time": "2024-01-18T02:26:37.027802Z"
    }
   }
  },
  {
   "cell_type": "code",
   "execution_count": 190,
   "outputs": [],
   "source": [
    "original = pd.read_csv(\"TestDataset/laptopData.csv\")\n",
    "original.head(5)\n",
    "column_names = [str(i) for i in range(1, len(original.columns) + 1)]\n",
    "#\n",
    "# # Assign the generated column names to the DataFrame\n",
    "#df.columns = column_names\n",
    "# Replace '?' with NaN in the entire DataFrameN\n",
    "original.replace('?', np.nan, inplace=True)\n"
   ],
   "metadata": {
    "collapsed": false,
    "ExecuteTime": {
     "end_time": "2024-01-18T02:26:37.471992Z",
     "start_time": "2024-01-18T02:26:37.456587Z"
    }
   }
  },
  {
   "cell_type": "code",
   "execution_count": 191,
   "outputs": [
    {
     "name": "stdout",
     "output_type": "stream",
     "text": [
      "Your selected dataframe has 12 columns.\n",
      "There are 12 columns that have missing values.\n"
     ]
    },
    {
     "data": {
      "text/plain": "                  Missing Values  % of Total Values Data Type\nInches                        31                2.4    object\nMemory                        31                2.4    object\nWeight                        31                2.4    object\nUnnamed: 0                    30                2.3   float64\nCompany                       30                2.3    object\nTypeName                      30                2.3    object\nScreenResolution              30                2.3    object\nCpu                           30                2.3    object\nRam                           30                2.3    object\nGpu                           30                2.3    object\nOpSys                         30                2.3    object\nPrice                         30                2.3   float64",
      "text/html": "<div>\n<style scoped>\n    .dataframe tbody tr th:only-of-type {\n        vertical-align: middle;\n    }\n\n    .dataframe tbody tr th {\n        vertical-align: top;\n    }\n\n    .dataframe thead th {\n        text-align: right;\n    }\n</style>\n<table border=\"1\" class=\"dataframe\">\n  <thead>\n    <tr style=\"text-align: right;\">\n      <th></th>\n      <th>Missing Values</th>\n      <th>% of Total Values</th>\n      <th>Data Type</th>\n    </tr>\n  </thead>\n  <tbody>\n    <tr>\n      <th>Inches</th>\n      <td>31</td>\n      <td>2.4</td>\n      <td>object</td>\n    </tr>\n    <tr>\n      <th>Memory</th>\n      <td>31</td>\n      <td>2.4</td>\n      <td>object</td>\n    </tr>\n    <tr>\n      <th>Weight</th>\n      <td>31</td>\n      <td>2.4</td>\n      <td>object</td>\n    </tr>\n    <tr>\n      <th>Unnamed: 0</th>\n      <td>30</td>\n      <td>2.3</td>\n      <td>float64</td>\n    </tr>\n    <tr>\n      <th>Company</th>\n      <td>30</td>\n      <td>2.3</td>\n      <td>object</td>\n    </tr>\n    <tr>\n      <th>TypeName</th>\n      <td>30</td>\n      <td>2.3</td>\n      <td>object</td>\n    </tr>\n    <tr>\n      <th>ScreenResolution</th>\n      <td>30</td>\n      <td>2.3</td>\n      <td>object</td>\n    </tr>\n    <tr>\n      <th>Cpu</th>\n      <td>30</td>\n      <td>2.3</td>\n      <td>object</td>\n    </tr>\n    <tr>\n      <th>Ram</th>\n      <td>30</td>\n      <td>2.3</td>\n      <td>object</td>\n    </tr>\n    <tr>\n      <th>Gpu</th>\n      <td>30</td>\n      <td>2.3</td>\n      <td>object</td>\n    </tr>\n    <tr>\n      <th>OpSys</th>\n      <td>30</td>\n      <td>2.3</td>\n      <td>object</td>\n    </tr>\n    <tr>\n      <th>Price</th>\n      <td>30</td>\n      <td>2.3</td>\n      <td>float64</td>\n    </tr>\n  </tbody>\n</table>\n</div>"
     },
     "execution_count": 191,
     "metadata": {},
     "output_type": "execute_result"
    }
   ],
   "source": [
    "missing_values_table(original)"
   ],
   "metadata": {
    "collapsed": false,
    "ExecuteTime": {
     "end_time": "2024-01-18T02:26:38.407104Z",
     "start_time": "2024-01-18T02:26:38.387785Z"
    }
   }
  },
  {
   "cell_type": "code",
   "execution_count": 192,
   "outputs": [],
   "source": [
    "original.head(5)\n",
    "df=original.copy()"
   ],
   "metadata": {
    "collapsed": false,
    "ExecuteTime": {
     "end_time": "2024-01-18T02:26:49.433410Z",
     "start_time": "2024-01-18T02:26:49.431092Z"
    }
   }
  },
  {
   "cell_type": "code",
   "execution_count": 193,
   "outputs": [
    {
     "data": {
      "text/plain": "   Unnamed: 0 Company   TypeName Inches                    ScreenResolution  \\\n0         0.0   Apple  Ultrabook   13.3  IPS Panel Retina Display 2560x1600   \n1         1.0   Apple  Ultrabook   13.3                            1440x900   \n2         2.0      HP   Notebook   15.6                   Full HD 1920x1080   \n3         3.0   Apple  Ultrabook   15.4  IPS Panel Retina Display 2880x1800   \n4         4.0   Apple  Ultrabook   13.3  IPS Panel Retina Display 2560x1600   \n\n                          Cpu   Ram               Memory  \\\n0        Intel Core i5 2.3GHz   8GB            128GB SSD   \n1        Intel Core i5 1.8GHz   8GB  128GB Flash Storage   \n2  Intel Core i5 7200U 2.5GHz   8GB            256GB SSD   \n3        Intel Core i7 2.7GHz  16GB            512GB SSD   \n4        Intel Core i5 3.1GHz   8GB            256GB SSD   \n\n                            Gpu  OpSys  Weight        Price  \n0  Intel Iris Plus Graphics 640  macOS  1.37kg   71378.6832  \n1        Intel HD Graphics 6000  macOS  1.34kg   47895.5232  \n2         Intel HD Graphics 620  No OS  1.86kg   30636.0000  \n3            AMD Radeon Pro 455  macOS  1.83kg  135195.3360  \n4  Intel Iris Plus Graphics 650  macOS  1.37kg   96095.8080  ",
      "text/html": "<div>\n<style scoped>\n    .dataframe tbody tr th:only-of-type {\n        vertical-align: middle;\n    }\n\n    .dataframe tbody tr th {\n        vertical-align: top;\n    }\n\n    .dataframe thead th {\n        text-align: right;\n    }\n</style>\n<table border=\"1\" class=\"dataframe\">\n  <thead>\n    <tr style=\"text-align: right;\">\n      <th></th>\n      <th>Unnamed: 0</th>\n      <th>Company</th>\n      <th>TypeName</th>\n      <th>Inches</th>\n      <th>ScreenResolution</th>\n      <th>Cpu</th>\n      <th>Ram</th>\n      <th>Memory</th>\n      <th>Gpu</th>\n      <th>OpSys</th>\n      <th>Weight</th>\n      <th>Price</th>\n    </tr>\n  </thead>\n  <tbody>\n    <tr>\n      <th>0</th>\n      <td>0.0</td>\n      <td>Apple</td>\n      <td>Ultrabook</td>\n      <td>13.3</td>\n      <td>IPS Panel Retina Display 2560x1600</td>\n      <td>Intel Core i5 2.3GHz</td>\n      <td>8GB</td>\n      <td>128GB SSD</td>\n      <td>Intel Iris Plus Graphics 640</td>\n      <td>macOS</td>\n      <td>1.37kg</td>\n      <td>71378.6832</td>\n    </tr>\n    <tr>\n      <th>1</th>\n      <td>1.0</td>\n      <td>Apple</td>\n      <td>Ultrabook</td>\n      <td>13.3</td>\n      <td>1440x900</td>\n      <td>Intel Core i5 1.8GHz</td>\n      <td>8GB</td>\n      <td>128GB Flash Storage</td>\n      <td>Intel HD Graphics 6000</td>\n      <td>macOS</td>\n      <td>1.34kg</td>\n      <td>47895.5232</td>\n    </tr>\n    <tr>\n      <th>2</th>\n      <td>2.0</td>\n      <td>HP</td>\n      <td>Notebook</td>\n      <td>15.6</td>\n      <td>Full HD 1920x1080</td>\n      <td>Intel Core i5 7200U 2.5GHz</td>\n      <td>8GB</td>\n      <td>256GB SSD</td>\n      <td>Intel HD Graphics 620</td>\n      <td>No OS</td>\n      <td>1.86kg</td>\n      <td>30636.0000</td>\n    </tr>\n    <tr>\n      <th>3</th>\n      <td>3.0</td>\n      <td>Apple</td>\n      <td>Ultrabook</td>\n      <td>15.4</td>\n      <td>IPS Panel Retina Display 2880x1800</td>\n      <td>Intel Core i7 2.7GHz</td>\n      <td>16GB</td>\n      <td>512GB SSD</td>\n      <td>AMD Radeon Pro 455</td>\n      <td>macOS</td>\n      <td>1.83kg</td>\n      <td>135195.3360</td>\n    </tr>\n    <tr>\n      <th>4</th>\n      <td>4.0</td>\n      <td>Apple</td>\n      <td>Ultrabook</td>\n      <td>13.3</td>\n      <td>IPS Panel Retina Display 2560x1600</td>\n      <td>Intel Core i5 3.1GHz</td>\n      <td>8GB</td>\n      <td>256GB SSD</td>\n      <td>Intel Iris Plus Graphics 650</td>\n      <td>macOS</td>\n      <td>1.37kg</td>\n      <td>96095.8080</td>\n    </tr>\n  </tbody>\n</table>\n</div>"
     },
     "execution_count": 193,
     "metadata": {},
     "output_type": "execute_result"
    }
   ],
   "source": [
    "original.head(5)"
   ],
   "metadata": {
    "collapsed": false,
    "ExecuteTime": {
     "end_time": "2024-01-18T02:26:50.992035Z",
     "start_time": "2024-01-18T02:26:50.986378Z"
    }
   }
  },
  {
   "cell_type": "code",
   "execution_count": 194,
   "outputs": [
    {
     "name": "stdout",
     "output_type": "stream",
     "text": [
      "10\n",
      "['Company', 'TypeName', 'ScreenResolution', 'Cpu', 'Ram', 'Memory', 'Gpu', 'OpSys', 'Weight']\n"
     ]
    }
   ],
   "source": [
    "categorical_columns = df.select_dtypes(include=['object', 'category']).columns.tolist()\n",
    "print(len(categorical_columns))\n",
    "for col in categorical_columns:\n",
    "    df[col] = pd.to_numeric(df[col], errors='ignore')\n",
    "# after those are taken care of we can drop the columns that are still object\n",
    "categorical_columns = df.select_dtypes(include=['object', 'category']).columns.tolist()\n",
    "print(categorical_columns)"
   ],
   "metadata": {
    "collapsed": false,
    "ExecuteTime": {
     "end_time": "2024-01-18T02:26:59.862533Z",
     "start_time": "2024-01-18T02:26:59.860358Z"
    }
   }
  },
  {
   "cell_type": "code",
   "execution_count": 195,
   "outputs": [],
   "source": [
    "df.drop(columns=['Unnamed: 0'],inplace=True)"
   ],
   "metadata": {
    "collapsed": false,
    "ExecuteTime": {
     "end_time": "2024-01-18T02:27:22.389447Z",
     "start_time": "2024-01-18T02:27:22.383476Z"
    }
   }
  },
  {
   "cell_type": "code",
   "execution_count": 197,
   "outputs": [
    {
     "data": {
      "text/plain": "(1273, 11)"
     },
     "execution_count": 197,
     "metadata": {},
     "output_type": "execute_result"
    }
   ],
   "source": [
    "dropped=drop_label_with_null(df, 'Price')\n",
    "dropped.shape"
   ],
   "metadata": {
    "collapsed": false,
    "ExecuteTime": {
     "end_time": "2024-01-18T02:27:29.687836Z",
     "start_time": "2024-01-18T02:27:29.685723Z"
    }
   }
  },
  {
   "cell_type": "code",
   "execution_count": 198,
   "outputs": [
    {
     "data": {
      "text/plain": "  Company   TypeName  Inches                    ScreenResolution  \\\n0   Apple  Ultrabook    13.3  IPS Panel Retina Display 2560x1600   \n1   Apple  Ultrabook    13.3                            1440x900   \n2      HP   Notebook    15.6                   Full HD 1920x1080   \n\n                          Cpu  Ram               Memory  \\\n0        Intel Core i5 2.3GHz  8GB            128GB SSD   \n1        Intel Core i5 1.8GHz  8GB  128GB Flash Storage   \n2  Intel Core i5 7200U 2.5GHz  8GB            256GB SSD   \n\n                            Gpu  OpSys  Weight       Price  \n0  Intel Iris Plus Graphics 640  macOS  1.37kg  71378.6832  \n1        Intel HD Graphics 6000  macOS  1.34kg  47895.5232  \n2         Intel HD Graphics 620  No OS  1.86kg  30636.0000  ",
      "text/html": "<div>\n<style scoped>\n    .dataframe tbody tr th:only-of-type {\n        vertical-align: middle;\n    }\n\n    .dataframe tbody tr th {\n        vertical-align: top;\n    }\n\n    .dataframe thead th {\n        text-align: right;\n    }\n</style>\n<table border=\"1\" class=\"dataframe\">\n  <thead>\n    <tr style=\"text-align: right;\">\n      <th></th>\n      <th>Company</th>\n      <th>TypeName</th>\n      <th>Inches</th>\n      <th>ScreenResolution</th>\n      <th>Cpu</th>\n      <th>Ram</th>\n      <th>Memory</th>\n      <th>Gpu</th>\n      <th>OpSys</th>\n      <th>Weight</th>\n      <th>Price</th>\n    </tr>\n  </thead>\n  <tbody>\n    <tr>\n      <th>0</th>\n      <td>Apple</td>\n      <td>Ultrabook</td>\n      <td>13.3</td>\n      <td>IPS Panel Retina Display 2560x1600</td>\n      <td>Intel Core i5 2.3GHz</td>\n      <td>8GB</td>\n      <td>128GB SSD</td>\n      <td>Intel Iris Plus Graphics 640</td>\n      <td>macOS</td>\n      <td>1.37kg</td>\n      <td>71378.6832</td>\n    </tr>\n    <tr>\n      <th>1</th>\n      <td>Apple</td>\n      <td>Ultrabook</td>\n      <td>13.3</td>\n      <td>1440x900</td>\n      <td>Intel Core i5 1.8GHz</td>\n      <td>8GB</td>\n      <td>128GB Flash Storage</td>\n      <td>Intel HD Graphics 6000</td>\n      <td>macOS</td>\n      <td>1.34kg</td>\n      <td>47895.5232</td>\n    </tr>\n    <tr>\n      <th>2</th>\n      <td>HP</td>\n      <td>Notebook</td>\n      <td>15.6</td>\n      <td>Full HD 1920x1080</td>\n      <td>Intel Core i5 7200U 2.5GHz</td>\n      <td>8GB</td>\n      <td>256GB SSD</td>\n      <td>Intel HD Graphics 620</td>\n      <td>No OS</td>\n      <td>1.86kg</td>\n      <td>30636.0000</td>\n    </tr>\n  </tbody>\n</table>\n</div>"
     },
     "execution_count": 198,
     "metadata": {},
     "output_type": "execute_result"
    }
   ],
   "source": [
    "dropped.head(3)"
   ],
   "metadata": {
    "collapsed": false,
    "ExecuteTime": {
     "end_time": "2024-01-18T02:27:30.362690Z",
     "start_time": "2024-01-18T02:27:30.361692Z"
    }
   }
  },
  {
   "cell_type": "code",
   "execution_count": 200,
   "outputs": [
    {
     "name": "stdout",
     "output_type": "stream",
     "text": [
      "     Company            TypeName  Inches  \\\n",
      "0      Apple           Ultrabook    13.3   \n",
      "1      Apple           Ultrabook    13.3   \n",
      "2         HP            Notebook    15.6   \n",
      "3      Apple           Ultrabook    15.4   \n",
      "4      Apple           Ultrabook    13.3   \n",
      "...      ...                 ...     ...   \n",
      "1298  Lenovo  2 in 1 Convertible    14.0   \n",
      "1299  Lenovo  2 in 1 Convertible    13.3   \n",
      "1300  Lenovo            Notebook    14.0   \n",
      "1301      HP            Notebook    15.6   \n",
      "1302    Asus            Notebook    15.6   \n",
      "\n",
      "                                ScreenResolution  \\\n",
      "0             IPS Panel Retina Display 2560x1600   \n",
      "1                                       1440x900   \n",
      "2                              Full HD 1920x1080   \n",
      "3             IPS Panel Retina Display 2880x1800   \n",
      "4             IPS Panel Retina Display 2560x1600   \n",
      "...                                          ...   \n",
      "1298   IPS Panel Full HD / Touchscreen 1920x1080   \n",
      "1299  IPS Panel Quad HD+ / Touchscreen 3200x1800   \n",
      "1300                                    1366x768   \n",
      "1301                                    1366x768   \n",
      "1302                                    1366x768   \n",
      "\n",
      "                                       Cpu   Ram               Memory  \\\n",
      "0                     Intel Core i5 2.3GHz   8GB            128GB SSD   \n",
      "1                     Intel Core i5 1.8GHz   8GB  128GB Flash Storage   \n",
      "2               Intel Core i5 7200U 2.5GHz   8GB            256GB SSD   \n",
      "3                     Intel Core i7 2.7GHz  16GB            512GB SSD   \n",
      "4                     Intel Core i5 3.1GHz   8GB            256GB SSD   \n",
      "...                                    ...   ...                  ...   \n",
      "1298            Intel Core i7 6500U 2.5GHz   4GB            128GB SSD   \n",
      "1299            Intel Core i7 6500U 2.5GHz  16GB            512GB SSD   \n",
      "1300  Intel Celeron Dual Core N3050 1.6GHz   2GB   64GB Flash Storage   \n",
      "1301            Intel Core i7 6500U 2.5GHz   6GB              1TB HDD   \n",
      "1302  Intel Celeron Dual Core N3050 1.6GHz   4GB            500GB HDD   \n",
      "\n",
      "                               Gpu       OpSys  Weight        Price  \n",
      "0     Intel Iris Plus Graphics 640       macOS  1.37kg   71378.6832  \n",
      "1           Intel HD Graphics 6000       macOS  1.34kg   47895.5232  \n",
      "2            Intel HD Graphics 620       No OS  1.86kg   30636.0000  \n",
      "3               AMD Radeon Pro 455       macOS  1.83kg  135195.3360  \n",
      "4     Intel Iris Plus Graphics 650       macOS  1.37kg   96095.8080  \n",
      "...                            ...         ...     ...          ...  \n",
      "1298         Intel HD Graphics 520  Windows 10   1.8kg   33992.6400  \n",
      "1299         Intel HD Graphics 520  Windows 10   1.3kg   79866.7200  \n",
      "1300             Intel HD Graphics  Windows 10   1.5kg   12201.1200  \n",
      "1301            AMD Radeon R5 M330  Windows 10  2.19kg   40705.9200  \n",
      "1302             Intel HD Graphics  Windows 10   2.2kg   19660.3200  \n",
      "\n",
      "[1303 rows x 11 columns]\n"
     ]
    },
    {
     "name": "stderr",
     "output_type": "stream",
     "text": [
      "/var/folders/w6/jn7_623d6d96165_8x9l_vqh0000gn/T/ipykernel_10404/2109177940.py:4: SettingWithCopyWarning: \n",
      "A value is trying to be set on a copy of a slice from a DataFrame.\n",
      "Try using .loc[row_indexer,col_indexer] = value instead\n",
      "\n",
      "See the caveats in the documentation: https://pandas.pydata.org/pandas-docs/stable/user_guide/indexing.html#returning-a-view-versus-a-copy\n",
      "  dropped['Weight'] = dropped['Weight'].str.replace('kg', '').astype(float)\n"
     ]
    }
   ],
   "source": [
    "import pandas as pd\n",
    "\n",
    "# Assuming df is your DataFrame\n",
    "dropped['Weight'] = dropped['Weight'].str.replace('kg', '').astype(float)\n",
    "\n",
    "# Display the modified DataFrame\n",
    "print(df)\n"
   ],
   "metadata": {
    "collapsed": false,
    "ExecuteTime": {
     "end_time": "2024-01-18T02:28:19.422556Z",
     "start_time": "2024-01-18T02:28:19.419043Z"
    }
   }
  },
  {
   "cell_type": "code",
   "execution_count": 201,
   "outputs": [
    {
     "name": "stdout",
     "output_type": "stream",
     "text": [
      "Your selected dataframe has 11 columns.\n",
      "There are 3 columns that have missing values.\n"
     ]
    },
    {
     "data": {
      "text/plain": "        Missing Values  % of Total Values Data Type\nInches               1                0.1   float64\nMemory               1                0.1    object\nWeight               1                0.1   float64",
      "text/html": "<div>\n<style scoped>\n    .dataframe tbody tr th:only-of-type {\n        vertical-align: middle;\n    }\n\n    .dataframe tbody tr th {\n        vertical-align: top;\n    }\n\n    .dataframe thead th {\n        text-align: right;\n    }\n</style>\n<table border=\"1\" class=\"dataframe\">\n  <thead>\n    <tr style=\"text-align: right;\">\n      <th></th>\n      <th>Missing Values</th>\n      <th>% of Total Values</th>\n      <th>Data Type</th>\n    </tr>\n  </thead>\n  <tbody>\n    <tr>\n      <th>Inches</th>\n      <td>1</td>\n      <td>0.1</td>\n      <td>float64</td>\n    </tr>\n    <tr>\n      <th>Memory</th>\n      <td>1</td>\n      <td>0.1</td>\n      <td>object</td>\n    </tr>\n    <tr>\n      <th>Weight</th>\n      <td>1</td>\n      <td>0.1</td>\n      <td>float64</td>\n    </tr>\n  </tbody>\n</table>\n</div>"
     },
     "execution_count": 201,
     "metadata": {},
     "output_type": "execute_result"
    }
   ],
   "source": [
    "missing_values_table(dropped)"
   ],
   "metadata": {
    "collapsed": false,
    "ExecuteTime": {
     "end_time": "2024-01-18T02:28:22.040762Z",
     "start_time": "2024-01-18T02:28:22.035646Z"
    }
   }
  },
  {
   "cell_type": "code",
   "execution_count": 202,
   "outputs": [
    {
     "name": "stdout",
     "output_type": "stream",
     "text": [
      "This column doesnt have nulls Company\n",
      "This column doesnt have nulls TypeName\n",
      "This column doesnt have nulls ScreenResolution\n",
      "This column doesnt have nulls Cpu\n",
      "This column doesnt have nulls Ram\n",
      "This column doesnt have nulls Gpu\n",
      "This column doesnt have nulls OpSys\n"
     ]
    },
    {
     "name": "stderr",
     "output_type": "stream",
     "text": [
      "/Users/aryal/anaconda3/envs/Certain-Models/lib/python3.10/site-packages/sklearn/preprocessing/_encoders.py:975: FutureWarning: `sparse` was renamed to `sparse_output` in version 1.2 and will be removed in 1.4. `sparse_output` is ignored unless you leave `sparse` to its default value.\n",
      "  warnings.warn(\n",
      "/Users/aryal/anaconda3/envs/Certain-Models/lib/python3.10/site-packages/sklearn/preprocessing/_encoders.py:975: FutureWarning: `sparse` was renamed to `sparse_output` in version 1.2 and will be removed in 1.4. `sparse_output` is ignored unless you leave `sparse` to its default value.\n",
      "  warnings.warn(\n",
      "/Users/aryal/anaconda3/envs/Certain-Models/lib/python3.10/site-packages/sklearn/preprocessing/_encoders.py:975: FutureWarning: `sparse` was renamed to `sparse_output` in version 1.2 and will be removed in 1.4. `sparse_output` is ignored unless you leave `sparse` to its default value.\n",
      "  warnings.warn(\n",
      "/Users/aryal/anaconda3/envs/Certain-Models/lib/python3.10/site-packages/sklearn/preprocessing/_encoders.py:975: FutureWarning: `sparse` was renamed to `sparse_output` in version 1.2 and will be removed in 1.4. `sparse_output` is ignored unless you leave `sparse` to its default value.\n",
      "  warnings.warn(\n",
      "/Users/aryal/anaconda3/envs/Certain-Models/lib/python3.10/site-packages/sklearn/preprocessing/_encoders.py:975: FutureWarning: `sparse` was renamed to `sparse_output` in version 1.2 and will be removed in 1.4. `sparse_output` is ignored unless you leave `sparse` to its default value.\n",
      "  warnings.warn(\n",
      "/Users/aryal/anaconda3/envs/Certain-Models/lib/python3.10/site-packages/sklearn/preprocessing/_encoders.py:975: FutureWarning: `sparse` was renamed to `sparse_output` in version 1.2 and will be removed in 1.4. `sparse_output` is ignored unless you leave `sparse` to its default value.\n",
      "  warnings.warn(\n",
      "/Users/aryal/anaconda3/envs/Certain-Models/lib/python3.10/site-packages/sklearn/preprocessing/_encoders.py:975: FutureWarning: `sparse` was renamed to `sparse_output` in version 1.2 and will be removed in 1.4. `sparse_output` is ignored unless you leave `sparse` to its default value.\n",
      "  warnings.warn(\n",
      "/Users/aryal/anaconda3/envs/Certain-Models/lib/python3.10/site-packages/sklearn/preprocessing/_encoders.py:975: FutureWarning: `sparse` was renamed to `sparse_output` in version 1.2 and will be removed in 1.4. `sparse_output` is ignored unless you leave `sparse` to its default value.\n",
      "  warnings.warn(\n"
     ]
    }
   ],
   "source": [
    "#others then handle nullls\n",
    "\n",
    "import pandas as pd\n",
    "from sklearn.preprocessing import OneHotEncoder\n",
    "df=dropped\n",
    "# Select categorical columns\n",
    "categorical_columns = df.select_dtypes(include=['object', 'category']).columns.tolist()\n",
    "\n",
    "# Create a copy of the original dataframe to preserve the original columns\n",
    "df_encoded = df.copy()\n",
    "\n",
    "# Create an empty DataFrame to store the encoded columns\n",
    "encoded_data_frames = []\n",
    "\n",
    "# Define a list of transformers for each categorical column\n",
    "for col in categorical_columns:\n",
    "    # Replace null values with \"Others\" in the original column\n",
    "    df_encoded[col].fillna(\"Others\", inplace=True)\n",
    "\n",
    "    # Create dummy variables using OneHotEncoder\n",
    "    encoder = OneHotEncoder(sparse=False, handle_unknown='ignore')\n",
    "    encoded_data = encoder.fit_transform(df_encoded[[col]])\n",
    "\n",
    "    # Get column names based on the original column and category\n",
    "    column_names = [category for category in encoder.get_feature_names_out([col])]\n",
    "\n",
    "    # Create a DataFrame for the encoded data\n",
    "    encoded_df = pd.DataFrame(encoded_data, columns=column_names, index=df_encoded.index)\n",
    "\n",
    "    try:\n",
    "      new_column_name = f\"{col}_{'Others'}\"\n",
    "      # Drop the original column and the dummy variables for \"Others\"\n",
    "\n",
    "      encoded_df.loc[df[col].isnull(), column_names] = pd.NA\n",
    "      encoded_df.drop([new_column_name], axis=1, inplace=True)\n",
    "    except:\n",
    "      print('This column doesnt have nulls',col)\n",
    "\n",
    "    # Add the encoded DataFrame to the list\n",
    "    encoded_data_frames.append(encoded_df)\n",
    "\n",
    "# Concatenate the original DataFrame and the list of encoded DataFrames\n",
    "df_encoded = pd.concat([df_encoded] + encoded_data_frames, axis=1)\n",
    "\n",
    "# Drop the original categorical columns\n",
    "df_encoded.drop(categorical_columns, axis=1, inplace=True)\n",
    "\n",
    "# Now, the df_encoded DataFrame contains the changes made to categorical columns, with null values preserved."
   ],
   "metadata": {
    "collapsed": false,
    "ExecuteTime": {
     "end_time": "2024-01-18T02:28:26.701464Z",
     "start_time": "2024-01-18T02:28:26.670164Z"
    }
   }
  },
  {
   "cell_type": "code",
   "execution_count": 203,
   "outputs": [
    {
     "name": "stdout",
     "output_type": "stream",
     "text": [
      "Your selected dataframe has 354 columns.\n",
      "There are 41 columns that have missing values.\n"
     ]
    },
    {
     "data": {
      "text/plain": "                                      Missing Values  % of Total Values  \\\nInches                                             1                0.1   \nMemory_256GB SSD +  256GB SSD                      1                0.1   \nMemory_256GB SSD +  500GB HDD                      1                0.1   \nMemory_2TB HDD                                     1                0.1   \nMemory_32GB Flash Storage                          1                0.1   \nMemory_32GB HDD                                    1                0.1   \nMemory_32GB SSD                                    1                0.1   \nMemory_500GB HDD                                   1                0.1   \nMemory_508GB Hybrid                                1                0.1   \nMemory_512GB Flash Storage                         1                0.1   \nMemory_512GB SSD                                   1                0.1   \nMemory_512GB SSD +  1.0TB Hybrid                   1                0.1   \nMemory_512GB SSD +  1TB HDD                        1                0.1   \nMemory_512GB SSD +  256GB SSD                      1                0.1   \nMemory_512GB SSD +  2TB HDD                        1                0.1   \nMemory_512GB SSD +  512GB SSD                      1                0.1   \nMemory_64GB Flash Storage                          1                0.1   \nMemory_64GB Flash Storage +  1TB HDD               1                0.1   \nMemory_64GB SSD                                    1                0.1   \nMemory_256GB SSD +  2TB HDD                        1                0.1   \nMemory_256GB SSD +  1TB HDD                        1                0.1   \nWeight                                             1                0.1   \nMemory_256GB SSD +  1.0TB Hybrid                   1                0.1   \nMemory_1.0TB HDD                                   1                0.1   \nMemory_1.0TB Hybrid                                1                0.1   \nMemory_128GB Flash Storage                         1                0.1   \nMemory_128GB HDD                                   1                0.1   \nMemory_128GB SSD                                   1                0.1   \nMemory_128GB SSD +  1TB HDD                        1                0.1   \nMemory_128GB SSD +  2TB HDD                        1                0.1   \nMemory_16GB Flash Storage                          1                0.1   \nMemory_16GB SSD                                    1                0.1   \nMemory_180GB SSD                                   1                0.1   \nMemory_1TB HDD                                     1                0.1   \nMemory_1TB HDD +  1TB HDD                          1                0.1   \nMemory_1TB SSD                                     1                0.1   \nMemory_1TB SSD +  1TB HDD                          1                0.1   \nMemory_240GB SSD                                   1                0.1   \nMemory_256GB Flash Storage                         1                0.1   \nMemory_256GB SSD                                   1                0.1   \nMemory_8GB SSD                                     1                0.1   \n\n                                     Data Type  \nInches                                 float64  \nMemory_256GB SSD +  256GB SSD          float64  \nMemory_256GB SSD +  500GB HDD          float64  \nMemory_2TB HDD                         float64  \nMemory_32GB Flash Storage              float64  \nMemory_32GB HDD                        float64  \nMemory_32GB SSD                        float64  \nMemory_500GB HDD                       float64  \nMemory_508GB Hybrid                    float64  \nMemory_512GB Flash Storage             float64  \nMemory_512GB SSD                       float64  \nMemory_512GB SSD +  1.0TB Hybrid       float64  \nMemory_512GB SSD +  1TB HDD            float64  \nMemory_512GB SSD +  256GB SSD          float64  \nMemory_512GB SSD +  2TB HDD            float64  \nMemory_512GB SSD +  512GB SSD          float64  \nMemory_64GB Flash Storage              float64  \nMemory_64GB Flash Storage +  1TB HDD   float64  \nMemory_64GB SSD                        float64  \nMemory_256GB SSD +  2TB HDD            float64  \nMemory_256GB SSD +  1TB HDD            float64  \nWeight                                 float64  \nMemory_256GB SSD +  1.0TB Hybrid       float64  \nMemory_1.0TB HDD                       float64  \nMemory_1.0TB Hybrid                    float64  \nMemory_128GB Flash Storage             float64  \nMemory_128GB HDD                       float64  \nMemory_128GB SSD                       float64  \nMemory_128GB SSD +  1TB HDD            float64  \nMemory_128GB SSD +  2TB HDD            float64  \nMemory_16GB Flash Storage              float64  \nMemory_16GB SSD                        float64  \nMemory_180GB SSD                       float64  \nMemory_1TB HDD                         float64  \nMemory_1TB HDD +  1TB HDD              float64  \nMemory_1TB SSD                         float64  \nMemory_1TB SSD +  1TB HDD              float64  \nMemory_240GB SSD                       float64  \nMemory_256GB Flash Storage             float64  \nMemory_256GB SSD                       float64  \nMemory_8GB SSD                         float64  ",
      "text/html": "<div>\n<style scoped>\n    .dataframe tbody tr th:only-of-type {\n        vertical-align: middle;\n    }\n\n    .dataframe tbody tr th {\n        vertical-align: top;\n    }\n\n    .dataframe thead th {\n        text-align: right;\n    }\n</style>\n<table border=\"1\" class=\"dataframe\">\n  <thead>\n    <tr style=\"text-align: right;\">\n      <th></th>\n      <th>Missing Values</th>\n      <th>% of Total Values</th>\n      <th>Data Type</th>\n    </tr>\n  </thead>\n  <tbody>\n    <tr>\n      <th>Inches</th>\n      <td>1</td>\n      <td>0.1</td>\n      <td>float64</td>\n    </tr>\n    <tr>\n      <th>Memory_256GB SSD +  256GB SSD</th>\n      <td>1</td>\n      <td>0.1</td>\n      <td>float64</td>\n    </tr>\n    <tr>\n      <th>Memory_256GB SSD +  500GB HDD</th>\n      <td>1</td>\n      <td>0.1</td>\n      <td>float64</td>\n    </tr>\n    <tr>\n      <th>Memory_2TB HDD</th>\n      <td>1</td>\n      <td>0.1</td>\n      <td>float64</td>\n    </tr>\n    <tr>\n      <th>Memory_32GB Flash Storage</th>\n      <td>1</td>\n      <td>0.1</td>\n      <td>float64</td>\n    </tr>\n    <tr>\n      <th>Memory_32GB HDD</th>\n      <td>1</td>\n      <td>0.1</td>\n      <td>float64</td>\n    </tr>\n    <tr>\n      <th>Memory_32GB SSD</th>\n      <td>1</td>\n      <td>0.1</td>\n      <td>float64</td>\n    </tr>\n    <tr>\n      <th>Memory_500GB HDD</th>\n      <td>1</td>\n      <td>0.1</td>\n      <td>float64</td>\n    </tr>\n    <tr>\n      <th>Memory_508GB Hybrid</th>\n      <td>1</td>\n      <td>0.1</td>\n      <td>float64</td>\n    </tr>\n    <tr>\n      <th>Memory_512GB Flash Storage</th>\n      <td>1</td>\n      <td>0.1</td>\n      <td>float64</td>\n    </tr>\n    <tr>\n      <th>Memory_512GB SSD</th>\n      <td>1</td>\n      <td>0.1</td>\n      <td>float64</td>\n    </tr>\n    <tr>\n      <th>Memory_512GB SSD +  1.0TB Hybrid</th>\n      <td>1</td>\n      <td>0.1</td>\n      <td>float64</td>\n    </tr>\n    <tr>\n      <th>Memory_512GB SSD +  1TB HDD</th>\n      <td>1</td>\n      <td>0.1</td>\n      <td>float64</td>\n    </tr>\n    <tr>\n      <th>Memory_512GB SSD +  256GB SSD</th>\n      <td>1</td>\n      <td>0.1</td>\n      <td>float64</td>\n    </tr>\n    <tr>\n      <th>Memory_512GB SSD +  2TB HDD</th>\n      <td>1</td>\n      <td>0.1</td>\n      <td>float64</td>\n    </tr>\n    <tr>\n      <th>Memory_512GB SSD +  512GB SSD</th>\n      <td>1</td>\n      <td>0.1</td>\n      <td>float64</td>\n    </tr>\n    <tr>\n      <th>Memory_64GB Flash Storage</th>\n      <td>1</td>\n      <td>0.1</td>\n      <td>float64</td>\n    </tr>\n    <tr>\n      <th>Memory_64GB Flash Storage +  1TB HDD</th>\n      <td>1</td>\n      <td>0.1</td>\n      <td>float64</td>\n    </tr>\n    <tr>\n      <th>Memory_64GB SSD</th>\n      <td>1</td>\n      <td>0.1</td>\n      <td>float64</td>\n    </tr>\n    <tr>\n      <th>Memory_256GB SSD +  2TB HDD</th>\n      <td>1</td>\n      <td>0.1</td>\n      <td>float64</td>\n    </tr>\n    <tr>\n      <th>Memory_256GB SSD +  1TB HDD</th>\n      <td>1</td>\n      <td>0.1</td>\n      <td>float64</td>\n    </tr>\n    <tr>\n      <th>Weight</th>\n      <td>1</td>\n      <td>0.1</td>\n      <td>float64</td>\n    </tr>\n    <tr>\n      <th>Memory_256GB SSD +  1.0TB Hybrid</th>\n      <td>1</td>\n      <td>0.1</td>\n      <td>float64</td>\n    </tr>\n    <tr>\n      <th>Memory_1.0TB HDD</th>\n      <td>1</td>\n      <td>0.1</td>\n      <td>float64</td>\n    </tr>\n    <tr>\n      <th>Memory_1.0TB Hybrid</th>\n      <td>1</td>\n      <td>0.1</td>\n      <td>float64</td>\n    </tr>\n    <tr>\n      <th>Memory_128GB Flash Storage</th>\n      <td>1</td>\n      <td>0.1</td>\n      <td>float64</td>\n    </tr>\n    <tr>\n      <th>Memory_128GB HDD</th>\n      <td>1</td>\n      <td>0.1</td>\n      <td>float64</td>\n    </tr>\n    <tr>\n      <th>Memory_128GB SSD</th>\n      <td>1</td>\n      <td>0.1</td>\n      <td>float64</td>\n    </tr>\n    <tr>\n      <th>Memory_128GB SSD +  1TB HDD</th>\n      <td>1</td>\n      <td>0.1</td>\n      <td>float64</td>\n    </tr>\n    <tr>\n      <th>Memory_128GB SSD +  2TB HDD</th>\n      <td>1</td>\n      <td>0.1</td>\n      <td>float64</td>\n    </tr>\n    <tr>\n      <th>Memory_16GB Flash Storage</th>\n      <td>1</td>\n      <td>0.1</td>\n      <td>float64</td>\n    </tr>\n    <tr>\n      <th>Memory_16GB SSD</th>\n      <td>1</td>\n      <td>0.1</td>\n      <td>float64</td>\n    </tr>\n    <tr>\n      <th>Memory_180GB SSD</th>\n      <td>1</td>\n      <td>0.1</td>\n      <td>float64</td>\n    </tr>\n    <tr>\n      <th>Memory_1TB HDD</th>\n      <td>1</td>\n      <td>0.1</td>\n      <td>float64</td>\n    </tr>\n    <tr>\n      <th>Memory_1TB HDD +  1TB HDD</th>\n      <td>1</td>\n      <td>0.1</td>\n      <td>float64</td>\n    </tr>\n    <tr>\n      <th>Memory_1TB SSD</th>\n      <td>1</td>\n      <td>0.1</td>\n      <td>float64</td>\n    </tr>\n    <tr>\n      <th>Memory_1TB SSD +  1TB HDD</th>\n      <td>1</td>\n      <td>0.1</td>\n      <td>float64</td>\n    </tr>\n    <tr>\n      <th>Memory_240GB SSD</th>\n      <td>1</td>\n      <td>0.1</td>\n      <td>float64</td>\n    </tr>\n    <tr>\n      <th>Memory_256GB Flash Storage</th>\n      <td>1</td>\n      <td>0.1</td>\n      <td>float64</td>\n    </tr>\n    <tr>\n      <th>Memory_256GB SSD</th>\n      <td>1</td>\n      <td>0.1</td>\n      <td>float64</td>\n    </tr>\n    <tr>\n      <th>Memory_8GB SSD</th>\n      <td>1</td>\n      <td>0.1</td>\n      <td>float64</td>\n    </tr>\n  </tbody>\n</table>\n</div>"
     },
     "execution_count": 203,
     "metadata": {},
     "output_type": "execute_result"
    }
   ],
   "source": [
    "missing_values_table(df_encoded)"
   ],
   "metadata": {
    "collapsed": false,
    "ExecuteTime": {
     "end_time": "2024-01-18T02:28:29.346726Z",
     "start_time": "2024-01-18T02:28:29.336610Z"
    }
   }
  },
  {
   "cell_type": "code",
   "execution_count": 204,
   "outputs": [
    {
     "data": {
      "text/plain": "    Inches  Weight        Price  Company_Acer  Company_Apple  Company_Asus  \\\n0     13.3    1.37   71378.6832           0.0            1.0           0.0   \n1     13.3    1.34   47895.5232           0.0            1.0           0.0   \n2     15.6    1.86   30636.0000           0.0            0.0           0.0   \n3     15.4    1.83  135195.3360           0.0            1.0           0.0   \n4     13.3    1.37   96095.8080           0.0            1.0           0.0   \n5     15.6    2.10   21312.0000           1.0            0.0           0.0   \n6     15.4    2.04  114017.6016           0.0            1.0           0.0   \n7     13.3    1.34   61735.5360           0.0            1.0           0.0   \n8     14.0    1.30   79653.6000           0.0            0.0           1.0   \n9     14.0    1.60   41025.6000           1.0            0.0           0.0   \n10    15.6    1.86   20986.9920           0.0            0.0           0.0   \n11    15.6    1.86   18381.0672           0.0            0.0           0.0   \n12    15.4    1.83  130001.6016           0.0            1.0           0.0   \n13    15.6    2.20   26581.3920           0.0            0.0           0.0   \n14    12.0    0.92   67260.6720           0.0            1.0           0.0   \n\n    Company_Chuwi  Company_Dell  Company_Fujitsu  Company_Google  ...  \\\n0             0.0           0.0              0.0             0.0  ...   \n1             0.0           0.0              0.0             0.0  ...   \n2             0.0           0.0              0.0             0.0  ...   \n3             0.0           0.0              0.0             0.0  ...   \n4             0.0           0.0              0.0             0.0  ...   \n5             0.0           0.0              0.0             0.0  ...   \n6             0.0           0.0              0.0             0.0  ...   \n7             0.0           0.0              0.0             0.0  ...   \n8             0.0           0.0              0.0             0.0  ...   \n9             0.0           0.0              0.0             0.0  ...   \n10            0.0           0.0              0.0             0.0  ...   \n11            0.0           0.0              0.0             0.0  ...   \n12            0.0           0.0              0.0             0.0  ...   \n13            0.0           1.0              0.0             0.0  ...   \n14            0.0           0.0              0.0             0.0  ...   \n\n    Gpu_Nvidia Quadro M620M  OpSys_Android  OpSys_Chrome OS  OpSys_Linux  \\\n0                       0.0            0.0              0.0          0.0   \n1                       0.0            0.0              0.0          0.0   \n2                       0.0            0.0              0.0          0.0   \n3                       0.0            0.0              0.0          0.0   \n4                       0.0            0.0              0.0          0.0   \n5                       0.0            0.0              0.0          0.0   \n6                       0.0            0.0              0.0          0.0   \n7                       0.0            0.0              0.0          0.0   \n8                       0.0            0.0              0.0          0.0   \n9                       0.0            0.0              0.0          0.0   \n10                      0.0            0.0              0.0          0.0   \n11                      0.0            0.0              0.0          0.0   \n12                      0.0            0.0              0.0          0.0   \n13                      0.0            0.0              0.0          0.0   \n14                      0.0            0.0              0.0          0.0   \n\n    OpSys_Mac OS X  OpSys_No OS  OpSys_Windows 10  OpSys_Windows 10 S  \\\n0              0.0          0.0               0.0                 0.0   \n1              0.0          0.0               0.0                 0.0   \n2              0.0          1.0               0.0                 0.0   \n3              0.0          0.0               0.0                 0.0   \n4              0.0          0.0               0.0                 0.0   \n5              0.0          0.0               1.0                 0.0   \n6              1.0          0.0               0.0                 0.0   \n7              0.0          0.0               0.0                 0.0   \n8              0.0          0.0               1.0                 0.0   \n9              0.0          0.0               1.0                 0.0   \n10             0.0          1.0               0.0                 0.0   \n11             0.0          1.0               0.0                 0.0   \n12             0.0          0.0               0.0                 0.0   \n13             0.0          0.0               1.0                 0.0   \n14             0.0          0.0               0.0                 0.0   \n\n    OpSys_Windows 7  OpSys_macOS  \n0               0.0          1.0  \n1               0.0          1.0  \n2               0.0          0.0  \n3               0.0          1.0  \n4               0.0          1.0  \n5               0.0          0.0  \n6               0.0          0.0  \n7               0.0          1.0  \n8               0.0          0.0  \n9               0.0          0.0  \n10              0.0          0.0  \n11              0.0          0.0  \n12              0.0          1.0  \n13              0.0          0.0  \n14              0.0          1.0  \n\n[15 rows x 354 columns]",
      "text/html": "<div>\n<style scoped>\n    .dataframe tbody tr th:only-of-type {\n        vertical-align: middle;\n    }\n\n    .dataframe tbody tr th {\n        vertical-align: top;\n    }\n\n    .dataframe thead th {\n        text-align: right;\n    }\n</style>\n<table border=\"1\" class=\"dataframe\">\n  <thead>\n    <tr style=\"text-align: right;\">\n      <th></th>\n      <th>Inches</th>\n      <th>Weight</th>\n      <th>Price</th>\n      <th>Company_Acer</th>\n      <th>Company_Apple</th>\n      <th>Company_Asus</th>\n      <th>Company_Chuwi</th>\n      <th>Company_Dell</th>\n      <th>Company_Fujitsu</th>\n      <th>Company_Google</th>\n      <th>...</th>\n      <th>Gpu_Nvidia Quadro M620M</th>\n      <th>OpSys_Android</th>\n      <th>OpSys_Chrome OS</th>\n      <th>OpSys_Linux</th>\n      <th>OpSys_Mac OS X</th>\n      <th>OpSys_No OS</th>\n      <th>OpSys_Windows 10</th>\n      <th>OpSys_Windows 10 S</th>\n      <th>OpSys_Windows 7</th>\n      <th>OpSys_macOS</th>\n    </tr>\n  </thead>\n  <tbody>\n    <tr>\n      <th>0</th>\n      <td>13.3</td>\n      <td>1.37</td>\n      <td>71378.6832</td>\n      <td>0.0</td>\n      <td>1.0</td>\n      <td>0.0</td>\n      <td>0.0</td>\n      <td>0.0</td>\n      <td>0.0</td>\n      <td>0.0</td>\n      <td>...</td>\n      <td>0.0</td>\n      <td>0.0</td>\n      <td>0.0</td>\n      <td>0.0</td>\n      <td>0.0</td>\n      <td>0.0</td>\n      <td>0.0</td>\n      <td>0.0</td>\n      <td>0.0</td>\n      <td>1.0</td>\n    </tr>\n    <tr>\n      <th>1</th>\n      <td>13.3</td>\n      <td>1.34</td>\n      <td>47895.5232</td>\n      <td>0.0</td>\n      <td>1.0</td>\n      <td>0.0</td>\n      <td>0.0</td>\n      <td>0.0</td>\n      <td>0.0</td>\n      <td>0.0</td>\n      <td>...</td>\n      <td>0.0</td>\n      <td>0.0</td>\n      <td>0.0</td>\n      <td>0.0</td>\n      <td>0.0</td>\n      <td>0.0</td>\n      <td>0.0</td>\n      <td>0.0</td>\n      <td>0.0</td>\n      <td>1.0</td>\n    </tr>\n    <tr>\n      <th>2</th>\n      <td>15.6</td>\n      <td>1.86</td>\n      <td>30636.0000</td>\n      <td>0.0</td>\n      <td>0.0</td>\n      <td>0.0</td>\n      <td>0.0</td>\n      <td>0.0</td>\n      <td>0.0</td>\n      <td>0.0</td>\n      <td>...</td>\n      <td>0.0</td>\n      <td>0.0</td>\n      <td>0.0</td>\n      <td>0.0</td>\n      <td>0.0</td>\n      <td>1.0</td>\n      <td>0.0</td>\n      <td>0.0</td>\n      <td>0.0</td>\n      <td>0.0</td>\n    </tr>\n    <tr>\n      <th>3</th>\n      <td>15.4</td>\n      <td>1.83</td>\n      <td>135195.3360</td>\n      <td>0.0</td>\n      <td>1.0</td>\n      <td>0.0</td>\n      <td>0.0</td>\n      <td>0.0</td>\n      <td>0.0</td>\n      <td>0.0</td>\n      <td>...</td>\n      <td>0.0</td>\n      <td>0.0</td>\n      <td>0.0</td>\n      <td>0.0</td>\n      <td>0.0</td>\n      <td>0.0</td>\n      <td>0.0</td>\n      <td>0.0</td>\n      <td>0.0</td>\n      <td>1.0</td>\n    </tr>\n    <tr>\n      <th>4</th>\n      <td>13.3</td>\n      <td>1.37</td>\n      <td>96095.8080</td>\n      <td>0.0</td>\n      <td>1.0</td>\n      <td>0.0</td>\n      <td>0.0</td>\n      <td>0.0</td>\n      <td>0.0</td>\n      <td>0.0</td>\n      <td>...</td>\n      <td>0.0</td>\n      <td>0.0</td>\n      <td>0.0</td>\n      <td>0.0</td>\n      <td>0.0</td>\n      <td>0.0</td>\n      <td>0.0</td>\n      <td>0.0</td>\n      <td>0.0</td>\n      <td>1.0</td>\n    </tr>\n    <tr>\n      <th>5</th>\n      <td>15.6</td>\n      <td>2.10</td>\n      <td>21312.0000</td>\n      <td>1.0</td>\n      <td>0.0</td>\n      <td>0.0</td>\n      <td>0.0</td>\n      <td>0.0</td>\n      <td>0.0</td>\n      <td>0.0</td>\n      <td>...</td>\n      <td>0.0</td>\n      <td>0.0</td>\n      <td>0.0</td>\n      <td>0.0</td>\n      <td>0.0</td>\n      <td>0.0</td>\n      <td>1.0</td>\n      <td>0.0</td>\n      <td>0.0</td>\n      <td>0.0</td>\n    </tr>\n    <tr>\n      <th>6</th>\n      <td>15.4</td>\n      <td>2.04</td>\n      <td>114017.6016</td>\n      <td>0.0</td>\n      <td>1.0</td>\n      <td>0.0</td>\n      <td>0.0</td>\n      <td>0.0</td>\n      <td>0.0</td>\n      <td>0.0</td>\n      <td>...</td>\n      <td>0.0</td>\n      <td>0.0</td>\n      <td>0.0</td>\n      <td>0.0</td>\n      <td>1.0</td>\n      <td>0.0</td>\n      <td>0.0</td>\n      <td>0.0</td>\n      <td>0.0</td>\n      <td>0.0</td>\n    </tr>\n    <tr>\n      <th>7</th>\n      <td>13.3</td>\n      <td>1.34</td>\n      <td>61735.5360</td>\n      <td>0.0</td>\n      <td>1.0</td>\n      <td>0.0</td>\n      <td>0.0</td>\n      <td>0.0</td>\n      <td>0.0</td>\n      <td>0.0</td>\n      <td>...</td>\n      <td>0.0</td>\n      <td>0.0</td>\n      <td>0.0</td>\n      <td>0.0</td>\n      <td>0.0</td>\n      <td>0.0</td>\n      <td>0.0</td>\n      <td>0.0</td>\n      <td>0.0</td>\n      <td>1.0</td>\n    </tr>\n    <tr>\n      <th>8</th>\n      <td>14.0</td>\n      <td>1.30</td>\n      <td>79653.6000</td>\n      <td>0.0</td>\n      <td>0.0</td>\n      <td>1.0</td>\n      <td>0.0</td>\n      <td>0.0</td>\n      <td>0.0</td>\n      <td>0.0</td>\n      <td>...</td>\n      <td>0.0</td>\n      <td>0.0</td>\n      <td>0.0</td>\n      <td>0.0</td>\n      <td>0.0</td>\n      <td>0.0</td>\n      <td>1.0</td>\n      <td>0.0</td>\n      <td>0.0</td>\n      <td>0.0</td>\n    </tr>\n    <tr>\n      <th>9</th>\n      <td>14.0</td>\n      <td>1.60</td>\n      <td>41025.6000</td>\n      <td>1.0</td>\n      <td>0.0</td>\n      <td>0.0</td>\n      <td>0.0</td>\n      <td>0.0</td>\n      <td>0.0</td>\n      <td>0.0</td>\n      <td>...</td>\n      <td>0.0</td>\n      <td>0.0</td>\n      <td>0.0</td>\n      <td>0.0</td>\n      <td>0.0</td>\n      <td>0.0</td>\n      <td>1.0</td>\n      <td>0.0</td>\n      <td>0.0</td>\n      <td>0.0</td>\n    </tr>\n    <tr>\n      <th>10</th>\n      <td>15.6</td>\n      <td>1.86</td>\n      <td>20986.9920</td>\n      <td>0.0</td>\n      <td>0.0</td>\n      <td>0.0</td>\n      <td>0.0</td>\n      <td>0.0</td>\n      <td>0.0</td>\n      <td>0.0</td>\n      <td>...</td>\n      <td>0.0</td>\n      <td>0.0</td>\n      <td>0.0</td>\n      <td>0.0</td>\n      <td>0.0</td>\n      <td>1.0</td>\n      <td>0.0</td>\n      <td>0.0</td>\n      <td>0.0</td>\n      <td>0.0</td>\n    </tr>\n    <tr>\n      <th>11</th>\n      <td>15.6</td>\n      <td>1.86</td>\n      <td>18381.0672</td>\n      <td>0.0</td>\n      <td>0.0</td>\n      <td>0.0</td>\n      <td>0.0</td>\n      <td>0.0</td>\n      <td>0.0</td>\n      <td>0.0</td>\n      <td>...</td>\n      <td>0.0</td>\n      <td>0.0</td>\n      <td>0.0</td>\n      <td>0.0</td>\n      <td>0.0</td>\n      <td>1.0</td>\n      <td>0.0</td>\n      <td>0.0</td>\n      <td>0.0</td>\n      <td>0.0</td>\n    </tr>\n    <tr>\n      <th>12</th>\n      <td>15.4</td>\n      <td>1.83</td>\n      <td>130001.6016</td>\n      <td>0.0</td>\n      <td>1.0</td>\n      <td>0.0</td>\n      <td>0.0</td>\n      <td>0.0</td>\n      <td>0.0</td>\n      <td>0.0</td>\n      <td>...</td>\n      <td>0.0</td>\n      <td>0.0</td>\n      <td>0.0</td>\n      <td>0.0</td>\n      <td>0.0</td>\n      <td>0.0</td>\n      <td>0.0</td>\n      <td>0.0</td>\n      <td>0.0</td>\n      <td>1.0</td>\n    </tr>\n    <tr>\n      <th>13</th>\n      <td>15.6</td>\n      <td>2.20</td>\n      <td>26581.3920</td>\n      <td>0.0</td>\n      <td>0.0</td>\n      <td>0.0</td>\n      <td>0.0</td>\n      <td>1.0</td>\n      <td>0.0</td>\n      <td>0.0</td>\n      <td>...</td>\n      <td>0.0</td>\n      <td>0.0</td>\n      <td>0.0</td>\n      <td>0.0</td>\n      <td>0.0</td>\n      <td>0.0</td>\n      <td>1.0</td>\n      <td>0.0</td>\n      <td>0.0</td>\n      <td>0.0</td>\n    </tr>\n    <tr>\n      <th>14</th>\n      <td>12.0</td>\n      <td>0.92</td>\n      <td>67260.6720</td>\n      <td>0.0</td>\n      <td>1.0</td>\n      <td>0.0</td>\n      <td>0.0</td>\n      <td>0.0</td>\n      <td>0.0</td>\n      <td>0.0</td>\n      <td>...</td>\n      <td>0.0</td>\n      <td>0.0</td>\n      <td>0.0</td>\n      <td>0.0</td>\n      <td>0.0</td>\n      <td>0.0</td>\n      <td>0.0</td>\n      <td>0.0</td>\n      <td>0.0</td>\n      <td>1.0</td>\n    </tr>\n  </tbody>\n</table>\n<p>15 rows × 354 columns</p>\n</div>"
     },
     "execution_count": 204,
     "metadata": {},
     "output_type": "execute_result"
    }
   ],
   "source": [
    "df_encoded.head(15)"
   ],
   "metadata": {
    "collapsed": false,
    "ExecuteTime": {
     "end_time": "2024-01-18T02:28:34.658878Z",
     "start_time": "2024-01-18T02:28:34.619555Z"
    }
   }
  },
  {
   "cell_type": "code",
   "execution_count": 205,
   "outputs": [],
   "source": [
    "df_encoded.to_csv(os.path.join('Final-Datasets', 'Laptop-encoded.csv'),index=False)"
   ],
   "metadata": {
    "collapsed": false,
    "ExecuteTime": {
     "end_time": "2024-01-18T02:28:42.142227Z",
     "start_time": "2024-01-18T02:28:42.042880Z"
    }
   }
  },
  {
   "cell_type": "code",
   "execution_count": null,
   "outputs": [],
   "source": [],
   "metadata": {
    "collapsed": false
   }
  }
 ],
 "metadata": {
  "kernelspec": {
   "display_name": "Python 3",
   "language": "python",
   "name": "python3"
  },
  "language_info": {
   "codemirror_mode": {
    "name": "ipython",
    "version": 2
   },
   "file_extension": ".py",
   "mimetype": "text/x-python",
   "name": "python",
   "nbconvert_exporter": "python",
   "pygments_lexer": "ipython2",
   "version": "2.7.6"
  }
 },
 "nbformat": 4,
 "nbformat_minor": 0
}
