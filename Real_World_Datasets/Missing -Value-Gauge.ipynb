{
 "cells": [
  {
   "cell_type": "code",
   "execution_count": null,
   "metadata": {
    "collapsed": true
   },
   "outputs": [],
   "source": []
  },
  {
   "cell_type": "code",
   "execution_count": 1,
   "outputs": [
    {
     "name": "stdout",
     "output_type": "stream",
     "text": [
      "sonde.z02.00.20150415.190900.csv: 0 missing values\n",
      "combined_V4_data.csv: 12894 missing values\n"
     ]
    }
   ],
   "source": [
    "import os\n",
    "import pandas as pd\n",
    "import numpy as np\n",
    "\n",
    "def count_missing_values(df):\n",
    "    return df.apply(lambda x: x.isin(['?', np.nan]).sum()).sum()\n",
    "\n",
    "data_path = 'MoreDatasets/'\n",
    "errorfile = []\n",
    "successfile = []\n",
    "nonullfiles = []\n",
    "\n",
    "csv_files = os.listdir(data_path)\n",
    "file_missing_values = {}\n",
    "\n",
    "for csv_filename in sorted(csv_files):\n",
    "    if csv_filename.endswith('.csv') and csv_filename not in ['CommunitiesAndCrime.csv', 'survey.csv', 'uniprot_1001r_223c.csv', 'tsa_claims3_11.csv', 'classification.csv']:\n",
    "        path = os.path.join(data_path, csv_filename)\n",
    "        # Read the CSV file into a DataFrame\n",
    "        df = pd.read_csv(path, header=None)[1:]\n",
    "\n",
    "        # Count missing values\n",
    "        missing_values_count = count_missing_values(df)\n",
    "        file_missing_values[csv_filename] = missing_values_count\n",
    "\n",
    "# Sort files based on the number of missing values\n",
    "sorted_files = sorted(file_missing_values.items(), key=lambda x: x[1])\n",
    "\n",
    "# Display sorted files\n",
    "for filename, missing_values_count in sorted_files:\n",
    "    print(f\"{filename}: {missing_values_count} missing values\")"
   ],
   "metadata": {
    "collapsed": false,
    "ExecuteTime": {
     "end_time": "2024-01-11T04:25:41.795100Z",
     "start_time": "2024-01-11T04:25:41.521923Z"
    }
   }
  },
  {
   "cell_type": "code",
   "execution_count": null,
   "outputs": [],
   "source": [
    "import os\n",
    "import pandas as pd\n",
    "data_path = 'Results/'\n",
    "csv_files = os.listdir(data_path)\n",
    "def process_trial(file_path):\n",
    "    with open(file_path, 'r') as file:\n",
    "        lines = file.readlines()\n",
    "\n",
    "    data = {\n",
    "        'Trial': int(lines[0].split()[-1]),\n",
    "        'CM no exist': [float(lines[i].split()[-1]) if 'CM no exist' in lines[i] else None for i in range(1, 4)],\n",
    "        'CM exist': [float(lines[i].split()[-1]) if 'CM exist' in lines[i] else None for i in range(1, 4)],\n",
    "        'MI Accuracy': [float(lines[i].split()[-1]) if 'MI Accuracy' in lines[i] else None for i in range(1, 4)],\n",
    "        'MI running time': [float(lines[i].split()[-1]) if 'MI running time' in lines[i] else None for i in range(1, 4)],\n",
    "        'NM Accuracy': [float(lines[i].split()[-1]) if 'NM Accuracy' in lines[i] else None for i in range(1, 4)],\n",
    "        'NM running time': [float(lines[i].split()[-1]) if 'NM running time' in lines[i] else None for i in range(1, 4)],\n",
    "        'AC example cleaned': [float(lines[i].split()[-1]) if 'AC example cleaned' in lines[i] else None for i in range(1, 4)],\n",
    "        'AC running time': [float(lines[i].split()[-1]) if 'AC running time' in lines[i] else None for i in range(1, 4)],\n",
    "        'AC score': [float(lines[i].split()[-1]) if 'AC score' in lines[i] else None for i in range(1, 4)]\n",
    "    }\n",
    "\n",
    "    df = pd.DataFrame(data)\n",
    "    return df\n",
    "\n",
    "def process_all_trials(directory_path):\n",
    "    dfs = []\n",
    "\n",
    "    for filename in os.listdir(directory_path):\n",
    "        if filename.startswith(\"trial\") and filename.endswith(\".txt\"):\n",
    "            file_path = os.path.join(directory_path, filename)\n",
    "            df = process_trial(file_path)\n",
    "            dfs.append(df)\n",
    "\n",
    "    if dfs:\n",
    "        final_df = pd.concat(dfs, ignore_index=True)\n",
    "        return final_df\n",
    "    else:\n",
    "        print(\"No trial files found in the specified directory.\")\n",
    "        return None\n",
    "\n",
    "# Example usage\n",
    "directory_path = '/path/to/trials'  # Change this to the directory where your trial files are stored\n",
    "result_df = process_all_trials(directory_path)\n",
    "\n",
    "if result_df is not None:\n",
    "    print(result_df)\n"
   ],
   "metadata": {
    "collapsed": false
   }
  }
 ],
 "metadata": {
  "kernelspec": {
   "display_name": "Python 3",
   "language": "python",
   "name": "python3"
  },
  "language_info": {
   "codemirror_mode": {
    "name": "ipython",
    "version": 2
   },
   "file_extension": ".py",
   "mimetype": "text/x-python",
   "name": "python",
   "nbconvert_exporter": "python",
   "pygments_lexer": "ipython2",
   "version": "2.7.6"
  }
 },
 "nbformat": 4,
 "nbformat_minor": 0
}
