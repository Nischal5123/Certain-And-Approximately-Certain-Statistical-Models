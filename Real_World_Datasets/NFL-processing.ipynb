{
 "cells": [
  {
   "cell_type": "code",
   "execution_count": 263,
   "metadata": {
    "collapsed": true,
    "ExecuteTime": {
     "end_time": "2024-01-17T02:24:37.345507Z",
     "start_time": "2024-01-17T02:24:37.343343Z"
    }
   },
   "outputs": [],
   "source": [
    "import pandas as pd\n",
    "import os\n",
    "from utils import drop_categorical_columns\n",
    "from utils import missing_values_table"
   ]
  },
  {
   "cell_type": "code",
   "execution_count": 264,
   "outputs": [],
   "source": [
    "def drop_label_with_null(df, column_name):\n",
    "    # Drop rows where the specified column is null\n",
    "    df_cleaned = df.dropna(subset=[column_name])\n",
    "\n",
    "    return df_cleaned"
   ],
   "metadata": {
    "collapsed": false,
    "ExecuteTime": {
     "end_time": "2024-01-17T02:24:37.655256Z",
     "start_time": "2024-01-17T02:24:37.634907Z"
    }
   }
  },
  {
   "cell_type": "code",
   "execution_count": 265,
   "outputs": [
    {
     "name": "stderr",
     "output_type": "stream",
     "text": [
      "/var/folders/w6/jn7_623d6d96165_8x9l_vqh0000gn/T/ipykernel_56235/4154952505.py:2: DtypeWarning: Columns (26) have mixed types. Specify dtype option on import or set low_memory=False.\n",
      "  original = pd.read_csv(path,index_col=0)\n"
     ]
    },
    {
     "data": {
      "text/plain": "(46129, 65)"
     },
     "execution_count": 265,
     "metadata": {},
     "output_type": "execute_result"
    }
   ],
   "source": [
    "path = os.path.join('TestDataset', 'NFL.csv')\n",
    "original = pd.read_csv(path,index_col=0)\n",
    "original.shape\n"
   ],
   "metadata": {
    "collapsed": false,
    "ExecuteTime": {
     "end_time": "2024-01-17T02:24:37.957631Z",
     "start_time": "2024-01-17T02:24:37.760655Z"
    }
   }
  },
  {
   "cell_type": "code",
   "execution_count": 266,
   "outputs": [
    {
     "data": {
      "text/plain": "(42878, 65)"
     },
     "execution_count": 266,
     "metadata": {},
     "output_type": "execute_result"
    }
   ],
   "source": [
    "dropped=drop_label_with_null(original, 'ScoreDiff')\n",
    "dropped.shape"
   ],
   "metadata": {
    "collapsed": false,
    "ExecuteTime": {
     "end_time": "2024-01-17T02:24:38.031242Z",
     "start_time": "2024-01-17T02:24:38.006791Z"
    }
   }
  },
  {
   "cell_type": "code",
   "execution_count": 267,
   "outputs": [
    {
     "data": {
      "text/plain": "          Date      GameID  Drive  qtr  down   time  TimeUnder  TimeSecs  \\\n36  2015-09-10  2015091000      1    1   NaN  15:00         15    3600.0   \n51  2015-09-10  2015091000      1    1   1.0  15:00         15    3600.0   \n72  2015-09-10  2015091000      1    1   1.0  14:21         15    3561.0   \n\n    PlayTimeDiff SideofField  ...  Accepted.Penalty  PenalizedTeam  \\\n36           0.0          NE  ...                 0            NaN   \n51           0.0         PIT  ...                 0            NaN   \n72          39.0         PIT  ...                 0            NaN   \n\n    PenaltyType  PenalizedPlayer  Penalty.Yards  PosTeamScore DefTeamScore  \\\n36          NaN              NaN              0           0.0          0.0   \n51          NaN              NaN              0           0.0          0.0   \n72          NaN              NaN              0           0.0          0.0   \n\n   ScoreDiff AbsScoreDiff  Season  \n36       0.0          0.0    2015  \n51       0.0          0.0    2015  \n72       0.0          0.0    2015  \n\n[3 rows x 65 columns]",
      "text/html": "<div>\n<style scoped>\n    .dataframe tbody tr th:only-of-type {\n        vertical-align: middle;\n    }\n\n    .dataframe tbody tr th {\n        vertical-align: top;\n    }\n\n    .dataframe thead th {\n        text-align: right;\n    }\n</style>\n<table border=\"1\" class=\"dataframe\">\n  <thead>\n    <tr style=\"text-align: right;\">\n      <th></th>\n      <th>Date</th>\n      <th>GameID</th>\n      <th>Drive</th>\n      <th>qtr</th>\n      <th>down</th>\n      <th>time</th>\n      <th>TimeUnder</th>\n      <th>TimeSecs</th>\n      <th>PlayTimeDiff</th>\n      <th>SideofField</th>\n      <th>...</th>\n      <th>Accepted.Penalty</th>\n      <th>PenalizedTeam</th>\n      <th>PenaltyType</th>\n      <th>PenalizedPlayer</th>\n      <th>Penalty.Yards</th>\n      <th>PosTeamScore</th>\n      <th>DefTeamScore</th>\n      <th>ScoreDiff</th>\n      <th>AbsScoreDiff</th>\n      <th>Season</th>\n    </tr>\n  </thead>\n  <tbody>\n    <tr>\n      <th>36</th>\n      <td>2015-09-10</td>\n      <td>2015091000</td>\n      <td>1</td>\n      <td>1</td>\n      <td>NaN</td>\n      <td>15:00</td>\n      <td>15</td>\n      <td>3600.0</td>\n      <td>0.0</td>\n      <td>NE</td>\n      <td>...</td>\n      <td>0</td>\n      <td>NaN</td>\n      <td>NaN</td>\n      <td>NaN</td>\n      <td>0</td>\n      <td>0.0</td>\n      <td>0.0</td>\n      <td>0.0</td>\n      <td>0.0</td>\n      <td>2015</td>\n    </tr>\n    <tr>\n      <th>51</th>\n      <td>2015-09-10</td>\n      <td>2015091000</td>\n      <td>1</td>\n      <td>1</td>\n      <td>1.0</td>\n      <td>15:00</td>\n      <td>15</td>\n      <td>3600.0</td>\n      <td>0.0</td>\n      <td>PIT</td>\n      <td>...</td>\n      <td>0</td>\n      <td>NaN</td>\n      <td>NaN</td>\n      <td>NaN</td>\n      <td>0</td>\n      <td>0.0</td>\n      <td>0.0</td>\n      <td>0.0</td>\n      <td>0.0</td>\n      <td>2015</td>\n    </tr>\n    <tr>\n      <th>72</th>\n      <td>2015-09-10</td>\n      <td>2015091000</td>\n      <td>1</td>\n      <td>1</td>\n      <td>1.0</td>\n      <td>14:21</td>\n      <td>15</td>\n      <td>3561.0</td>\n      <td>39.0</td>\n      <td>PIT</td>\n      <td>...</td>\n      <td>0</td>\n      <td>NaN</td>\n      <td>NaN</td>\n      <td>NaN</td>\n      <td>0</td>\n      <td>0.0</td>\n      <td>0.0</td>\n      <td>0.0</td>\n      <td>0.0</td>\n      <td>2015</td>\n    </tr>\n  </tbody>\n</table>\n<p>3 rows × 65 columns</p>\n</div>"
     },
     "execution_count": 267,
     "metadata": {},
     "output_type": "execute_result"
    }
   ],
   "source": [
    "dropped.head(3)"
   ],
   "metadata": {
    "collapsed": false,
    "ExecuteTime": {
     "end_time": "2024-01-17T02:24:38.238602Z",
     "start_time": "2024-01-17T02:24:38.208311Z"
    }
   }
  },
  {
   "cell_type": "code",
   "execution_count": 268,
   "outputs": [
    {
     "name": "stdout",
     "output_type": "stream",
     "text": [
      "Your selected dataframe has 65 columns.\n",
      "There are 28 columns that have missing values.\n"
     ]
    },
    {
     "data": {
      "text/plain": "                   Missing Values  % of Total Values Data Type\nDefTwoPoint                 42873              100.0    object\nBlockingPlayer              42867              100.0    object\nTwoPointConv                42789               99.8    object\nChalReplayResult            42465               99.0    object\nInterceptor                 42411               98.9    object\nRecFumbTeam                 42397               98.9    object\nRecFumbPlayer               42397               98.9    object\nFieldGoalDistance           41889               97.7   float64\nFieldGoalResult             41877               97.7    object\nExPointResult               41747               97.4    object\nPenaltyType                 40926               95.4    object\nReturnResult                40534               94.5    object\nPuntResult                  40393               94.2    object\nReturner                    40380               94.2    object\nTackler2                    39522               92.2    object\nPenalizedPlayer             39474               92.1    object\nPenalizedTeam               39343               91.8    object\nRunGap                      33291               77.6    object\nRunLocation                 29912               69.8    object\nRusher                      29812               69.5    object\nReceiver                    24420               57.0    object\nPassLocation                23587               55.0    object\nPassLength                  23587               55.0    object\nPasser                      23480               54.8    object\nPassOutcome                 23443               54.7    object\nTackler1                    17975               41.9    object\ndown                         3872                9.0   float64\nFirstDown                    2549                5.9   float64",
      "text/html": "<div>\n<style scoped>\n    .dataframe tbody tr th:only-of-type {\n        vertical-align: middle;\n    }\n\n    .dataframe tbody tr th {\n        vertical-align: top;\n    }\n\n    .dataframe thead th {\n        text-align: right;\n    }\n</style>\n<table border=\"1\" class=\"dataframe\">\n  <thead>\n    <tr style=\"text-align: right;\">\n      <th></th>\n      <th>Missing Values</th>\n      <th>% of Total Values</th>\n      <th>Data Type</th>\n    </tr>\n  </thead>\n  <tbody>\n    <tr>\n      <th>DefTwoPoint</th>\n      <td>42873</td>\n      <td>100.0</td>\n      <td>object</td>\n    </tr>\n    <tr>\n      <th>BlockingPlayer</th>\n      <td>42867</td>\n      <td>100.0</td>\n      <td>object</td>\n    </tr>\n    <tr>\n      <th>TwoPointConv</th>\n      <td>42789</td>\n      <td>99.8</td>\n      <td>object</td>\n    </tr>\n    <tr>\n      <th>ChalReplayResult</th>\n      <td>42465</td>\n      <td>99.0</td>\n      <td>object</td>\n    </tr>\n    <tr>\n      <th>Interceptor</th>\n      <td>42411</td>\n      <td>98.9</td>\n      <td>object</td>\n    </tr>\n    <tr>\n      <th>RecFumbTeam</th>\n      <td>42397</td>\n      <td>98.9</td>\n      <td>object</td>\n    </tr>\n    <tr>\n      <th>RecFumbPlayer</th>\n      <td>42397</td>\n      <td>98.9</td>\n      <td>object</td>\n    </tr>\n    <tr>\n      <th>FieldGoalDistance</th>\n      <td>41889</td>\n      <td>97.7</td>\n      <td>float64</td>\n    </tr>\n    <tr>\n      <th>FieldGoalResult</th>\n      <td>41877</td>\n      <td>97.7</td>\n      <td>object</td>\n    </tr>\n    <tr>\n      <th>ExPointResult</th>\n      <td>41747</td>\n      <td>97.4</td>\n      <td>object</td>\n    </tr>\n    <tr>\n      <th>PenaltyType</th>\n      <td>40926</td>\n      <td>95.4</td>\n      <td>object</td>\n    </tr>\n    <tr>\n      <th>ReturnResult</th>\n      <td>40534</td>\n      <td>94.5</td>\n      <td>object</td>\n    </tr>\n    <tr>\n      <th>PuntResult</th>\n      <td>40393</td>\n      <td>94.2</td>\n      <td>object</td>\n    </tr>\n    <tr>\n      <th>Returner</th>\n      <td>40380</td>\n      <td>94.2</td>\n      <td>object</td>\n    </tr>\n    <tr>\n      <th>Tackler2</th>\n      <td>39522</td>\n      <td>92.2</td>\n      <td>object</td>\n    </tr>\n    <tr>\n      <th>PenalizedPlayer</th>\n      <td>39474</td>\n      <td>92.1</td>\n      <td>object</td>\n    </tr>\n    <tr>\n      <th>PenalizedTeam</th>\n      <td>39343</td>\n      <td>91.8</td>\n      <td>object</td>\n    </tr>\n    <tr>\n      <th>RunGap</th>\n      <td>33291</td>\n      <td>77.6</td>\n      <td>object</td>\n    </tr>\n    <tr>\n      <th>RunLocation</th>\n      <td>29912</td>\n      <td>69.8</td>\n      <td>object</td>\n    </tr>\n    <tr>\n      <th>Rusher</th>\n      <td>29812</td>\n      <td>69.5</td>\n      <td>object</td>\n    </tr>\n    <tr>\n      <th>Receiver</th>\n      <td>24420</td>\n      <td>57.0</td>\n      <td>object</td>\n    </tr>\n    <tr>\n      <th>PassLocation</th>\n      <td>23587</td>\n      <td>55.0</td>\n      <td>object</td>\n    </tr>\n    <tr>\n      <th>PassLength</th>\n      <td>23587</td>\n      <td>55.0</td>\n      <td>object</td>\n    </tr>\n    <tr>\n      <th>Passer</th>\n      <td>23480</td>\n      <td>54.8</td>\n      <td>object</td>\n    </tr>\n    <tr>\n      <th>PassOutcome</th>\n      <td>23443</td>\n      <td>54.7</td>\n      <td>object</td>\n    </tr>\n    <tr>\n      <th>Tackler1</th>\n      <td>17975</td>\n      <td>41.9</td>\n      <td>object</td>\n    </tr>\n    <tr>\n      <th>down</th>\n      <td>3872</td>\n      <td>9.0</td>\n      <td>float64</td>\n    </tr>\n    <tr>\n      <th>FirstDown</th>\n      <td>2549</td>\n      <td>5.9</td>\n      <td>float64</td>\n    </tr>\n  </tbody>\n</table>\n</div>"
     },
     "execution_count": 268,
     "metadata": {},
     "output_type": "execute_result"
    }
   ],
   "source": [
    "missing_values_table(dropped)"
   ],
   "metadata": {
    "collapsed": false,
    "ExecuteTime": {
     "end_time": "2024-01-17T02:24:38.504354Z",
     "start_time": "2024-01-17T02:24:38.471566Z"
    }
   }
  },
  {
   "cell_type": "code",
   "execution_count": 269,
   "outputs": [
    {
     "name": "stderr",
     "output_type": "stream",
     "text": [
      "/var/folders/w6/jn7_623d6d96165_8x9l_vqh0000gn/T/ipykernel_56235/3451176486.py:2: SettingWithCopyWarning: \n",
      "A value is trying to be set on a copy of a slice from a DataFrame.\n",
      "Try using .loc[row_indexer,col_indexer] = value instead\n",
      "\n",
      "See the caveats in the documentation: https://pandas.pydata.org/pandas-docs/stable/user_guide/indexing.html#returning-a-view-versus-a-copy\n",
      "  dropped['Date'] = pd.to_datetime(dropped['Date'])\n",
      "/var/folders/w6/jn7_623d6d96165_8x9l_vqh0000gn/T/ipykernel_56235/3451176486.py:6: SettingWithCopyWarning: \n",
      "A value is trying to be set on a copy of a slice from a DataFrame.\n",
      "Try using .loc[row_indexer,col_indexer] = value instead\n",
      "\n",
      "See the caveats in the documentation: https://pandas.pydata.org/pandas-docs/stable/user_guide/indexing.html#returning-a-view-versus-a-copy\n",
      "  dropped['year'] = dropped['Date'].dt.year\n",
      "/var/folders/w6/jn7_623d6d96165_8x9l_vqh0000gn/T/ipykernel_56235/3451176486.py:7: SettingWithCopyWarning: \n",
      "A value is trying to be set on a copy of a slice from a DataFrame.\n",
      "Try using .loc[row_indexer,col_indexer] = value instead\n",
      "\n",
      "See the caveats in the documentation: https://pandas.pydata.org/pandas-docs/stable/user_guide/indexing.html#returning-a-view-versus-a-copy\n",
      "  dropped['month'] = dropped['Date'].dt.month\n",
      "/var/folders/w6/jn7_623d6d96165_8x9l_vqh0000gn/T/ipykernel_56235/3451176486.py:8: SettingWithCopyWarning: \n",
      "A value is trying to be set on a copy of a slice from a DataFrame.\n",
      "Try using .loc[row_indexer,col_indexer] = value instead\n",
      "\n",
      "See the caveats in the documentation: https://pandas.pydata.org/pandas-docs/stable/user_guide/indexing.html#returning-a-view-versus-a-copy\n",
      "  dropped['day'] = dropped['Date'].dt.day\n",
      "/var/folders/w6/jn7_623d6d96165_8x9l_vqh0000gn/T/ipykernel_56235/3451176486.py:9: SettingWithCopyWarning: \n",
      "A value is trying to be set on a copy of a slice from a DataFrame.\n",
      "Try using .loc[row_indexer,col_indexer] = value instead\n",
      "\n",
      "See the caveats in the documentation: https://pandas.pydata.org/pandas-docs/stable/user_guide/indexing.html#returning-a-view-versus-a-copy\n",
      "  dropped['Time_numeric'] = pd.to_datetime(dropped['time'], format='%H:%M').dt.hour * 60 + pd.to_datetime(dropped['time'], format='%H:%M').dt.minute\n",
      "/var/folders/w6/jn7_623d6d96165_8x9l_vqh0000gn/T/ipykernel_56235/3451176486.py:13: SettingWithCopyWarning: \n",
      "A value is trying to be set on a copy of a slice from a DataFrame\n",
      "\n",
      "See the caveats in the documentation: https://pandas.pydata.org/pandas-docs/stable/user_guide/indexing.html#returning-a-view-versus-a-copy\n",
      "  dropped.drop(['Date','time','desc'], axis=1, inplace=True)\n"
     ]
    }
   ],
   "source": [
    "# Convert date and time columns to datetime format\n",
    "dropped['Date'] = pd.to_datetime(dropped['Date'])\n",
    "\n",
    "\n",
    "# Extract year, month, day from the date column\n",
    "dropped['year'] = dropped['Date'].dt.year\n",
    "dropped['month'] = dropped['Date'].dt.month\n",
    "dropped['day'] = dropped['Date'].dt.day\n",
    "dropped['Time_numeric'] = pd.to_datetime(dropped['time'], format='%H:%M').dt.hour * 60 + pd.to_datetime(dropped['time'], format='%H:%M').dt.minute\n",
    "\n",
    "\n",
    "# Drop the original date and time columns\n",
    "dropped.drop(['Date','time','desc'], axis=1, inplace=True)"
   ],
   "metadata": {
    "collapsed": false,
    "ExecuteTime": {
     "end_time": "2024-01-17T02:24:38.916206Z",
     "start_time": "2024-01-17T02:24:38.823274Z"
    }
   }
  },
  {
   "cell_type": "code",
   "execution_count": 269,
   "outputs": [],
   "source": [],
   "metadata": {
    "collapsed": false,
    "ExecuteTime": {
     "end_time": "2024-01-17T02:24:39.341039Z",
     "start_time": "2024-01-17T02:24:39.335315Z"
    }
   }
  },
  {
   "cell_type": "code",
   "execution_count": 270,
   "outputs": [
    {
     "name": "stdout",
     "output_type": "stream",
     "text": [
      "29\n",
      "['SideofField', 'posteam', 'DefensiveTeam', 'ExPointResult', 'TwoPointConv', 'DefTwoPoint', 'PuntResult', 'PlayType', 'Passer', 'PassOutcome', 'PassLength', 'PassLocation', 'Interceptor', 'Rusher', 'RunLocation', 'RunGap', 'Receiver', 'ReturnResult', 'Returner', 'BlockingPlayer', 'Tackler1', 'Tackler2', 'FieldGoalResult', 'RecFumbTeam', 'RecFumbPlayer', 'ChalReplayResult', 'PenalizedTeam', 'PenaltyType', 'PenalizedPlayer']\n"
     ]
    },
    {
     "name": "stderr",
     "output_type": "stream",
     "text": [
      "/var/folders/w6/jn7_623d6d96165_8x9l_vqh0000gn/T/ipykernel_56235/3605230479.py:4: SettingWithCopyWarning: \n",
      "A value is trying to be set on a copy of a slice from a DataFrame.\n",
      "Try using .loc[row_indexer,col_indexer] = value instead\n",
      "\n",
      "See the caveats in the documentation: https://pandas.pydata.org/pandas-docs/stable/user_guide/indexing.html#returning-a-view-versus-a-copy\n",
      "  dropped[col] = pd.to_numeric(dropped[col], errors='ignore')\n"
     ]
    }
   ],
   "source": [
    "categorical_columns = dropped.select_dtypes(include=['object', 'category']).columns.tolist()\n",
    "print(len(categorical_columns))\n",
    "for col in categorical_columns:\n",
    "    dropped[col] = pd.to_numeric(dropped[col], errors='ignore')\n",
    "# after those are taken care of we can drop the columns that are still object\n",
    "categorical_columns = dropped.select_dtypes(include=['object', 'category']).columns.tolist()\n",
    "print(categorical_columns)"
   ],
   "metadata": {
    "collapsed": false,
    "ExecuteTime": {
     "end_time": "2024-01-17T02:24:40.029199Z",
     "start_time": "2024-01-17T02:24:39.981038Z"
    }
   }
  },
  {
   "cell_type": "code",
   "execution_count": 271,
   "outputs": [
    {
     "name": "stdout",
     "output_type": "stream",
     "text": [
      "Your selected dataframe has 66 columns.\n",
      "There are 28 columns that have missing values.\n"
     ]
    },
    {
     "data": {
      "text/plain": "                   Missing Values  % of Total Values Data Type\nDefTwoPoint                 42873              100.0    object\nBlockingPlayer              42867              100.0    object\nTwoPointConv                42789               99.8    object\nChalReplayResult            42465               99.0    object\nInterceptor                 42411               98.9    object\nRecFumbTeam                 42397               98.9    object\nRecFumbPlayer               42397               98.9    object\nFieldGoalDistance           41889               97.7   float64\nFieldGoalResult             41877               97.7    object\nExPointResult               41747               97.4    object\nPenaltyType                 40926               95.4    object\nReturnResult                40534               94.5    object\nPuntResult                  40393               94.2    object\nReturner                    40380               94.2    object\nTackler2                    39522               92.2    object\nPenalizedPlayer             39474               92.1    object\nPenalizedTeam               39343               91.8    object\nRunGap                      33291               77.6    object\nRunLocation                 29912               69.8    object\nRusher                      29812               69.5    object\nReceiver                    24420               57.0    object\nPassLocation                23587               55.0    object\nPassLength                  23587               55.0    object\nPasser                      23480               54.8    object\nPassOutcome                 23443               54.7    object\nTackler1                    17975               41.9    object\ndown                         3872                9.0   float64\nFirstDown                    2549                5.9   float64",
      "text/html": "<div>\n<style scoped>\n    .dataframe tbody tr th:only-of-type {\n        vertical-align: middle;\n    }\n\n    .dataframe tbody tr th {\n        vertical-align: top;\n    }\n\n    .dataframe thead th {\n        text-align: right;\n    }\n</style>\n<table border=\"1\" class=\"dataframe\">\n  <thead>\n    <tr style=\"text-align: right;\">\n      <th></th>\n      <th>Missing Values</th>\n      <th>% of Total Values</th>\n      <th>Data Type</th>\n    </tr>\n  </thead>\n  <tbody>\n    <tr>\n      <th>DefTwoPoint</th>\n      <td>42873</td>\n      <td>100.0</td>\n      <td>object</td>\n    </tr>\n    <tr>\n      <th>BlockingPlayer</th>\n      <td>42867</td>\n      <td>100.0</td>\n      <td>object</td>\n    </tr>\n    <tr>\n      <th>TwoPointConv</th>\n      <td>42789</td>\n      <td>99.8</td>\n      <td>object</td>\n    </tr>\n    <tr>\n      <th>ChalReplayResult</th>\n      <td>42465</td>\n      <td>99.0</td>\n      <td>object</td>\n    </tr>\n    <tr>\n      <th>Interceptor</th>\n      <td>42411</td>\n      <td>98.9</td>\n      <td>object</td>\n    </tr>\n    <tr>\n      <th>RecFumbTeam</th>\n      <td>42397</td>\n      <td>98.9</td>\n      <td>object</td>\n    </tr>\n    <tr>\n      <th>RecFumbPlayer</th>\n      <td>42397</td>\n      <td>98.9</td>\n      <td>object</td>\n    </tr>\n    <tr>\n      <th>FieldGoalDistance</th>\n      <td>41889</td>\n      <td>97.7</td>\n      <td>float64</td>\n    </tr>\n    <tr>\n      <th>FieldGoalResult</th>\n      <td>41877</td>\n      <td>97.7</td>\n      <td>object</td>\n    </tr>\n    <tr>\n      <th>ExPointResult</th>\n      <td>41747</td>\n      <td>97.4</td>\n      <td>object</td>\n    </tr>\n    <tr>\n      <th>PenaltyType</th>\n      <td>40926</td>\n      <td>95.4</td>\n      <td>object</td>\n    </tr>\n    <tr>\n      <th>ReturnResult</th>\n      <td>40534</td>\n      <td>94.5</td>\n      <td>object</td>\n    </tr>\n    <tr>\n      <th>PuntResult</th>\n      <td>40393</td>\n      <td>94.2</td>\n      <td>object</td>\n    </tr>\n    <tr>\n      <th>Returner</th>\n      <td>40380</td>\n      <td>94.2</td>\n      <td>object</td>\n    </tr>\n    <tr>\n      <th>Tackler2</th>\n      <td>39522</td>\n      <td>92.2</td>\n      <td>object</td>\n    </tr>\n    <tr>\n      <th>PenalizedPlayer</th>\n      <td>39474</td>\n      <td>92.1</td>\n      <td>object</td>\n    </tr>\n    <tr>\n      <th>PenalizedTeam</th>\n      <td>39343</td>\n      <td>91.8</td>\n      <td>object</td>\n    </tr>\n    <tr>\n      <th>RunGap</th>\n      <td>33291</td>\n      <td>77.6</td>\n      <td>object</td>\n    </tr>\n    <tr>\n      <th>RunLocation</th>\n      <td>29912</td>\n      <td>69.8</td>\n      <td>object</td>\n    </tr>\n    <tr>\n      <th>Rusher</th>\n      <td>29812</td>\n      <td>69.5</td>\n      <td>object</td>\n    </tr>\n    <tr>\n      <th>Receiver</th>\n      <td>24420</td>\n      <td>57.0</td>\n      <td>object</td>\n    </tr>\n    <tr>\n      <th>PassLocation</th>\n      <td>23587</td>\n      <td>55.0</td>\n      <td>object</td>\n    </tr>\n    <tr>\n      <th>PassLength</th>\n      <td>23587</td>\n      <td>55.0</td>\n      <td>object</td>\n    </tr>\n    <tr>\n      <th>Passer</th>\n      <td>23480</td>\n      <td>54.8</td>\n      <td>object</td>\n    </tr>\n    <tr>\n      <th>PassOutcome</th>\n      <td>23443</td>\n      <td>54.7</td>\n      <td>object</td>\n    </tr>\n    <tr>\n      <th>Tackler1</th>\n      <td>17975</td>\n      <td>41.9</td>\n      <td>object</td>\n    </tr>\n    <tr>\n      <th>down</th>\n      <td>3872</td>\n      <td>9.0</td>\n      <td>float64</td>\n    </tr>\n    <tr>\n      <th>FirstDown</th>\n      <td>2549</td>\n      <td>5.9</td>\n      <td>float64</td>\n    </tr>\n  </tbody>\n</table>\n</div>"
     },
     "execution_count": 271,
     "metadata": {},
     "output_type": "execute_result"
    }
   ],
   "source": [
    "missing_values_table(dropped)"
   ],
   "metadata": {
    "collapsed": false,
    "ExecuteTime": {
     "end_time": "2024-01-17T02:24:41.183703Z",
     "start_time": "2024-01-17T02:24:41.127680Z"
    }
   }
  },
  {
   "cell_type": "code",
   "execution_count": 272,
   "outputs": [
    {
     "name": "stderr",
     "output_type": "stream",
     "text": [
      "/Users/aryal/anaconda3/envs/Certain-Models/lib/python3.10/site-packages/sklearn/preprocessing/_encoders.py:975: FutureWarning: `sparse` was renamed to `sparse_output` in version 1.2 and will be removed in 1.4. `sparse_output` is ignored unless you leave `sparse` to its default value.\n",
      "  warnings.warn(\n",
      "/Users/aryal/anaconda3/envs/Certain-Models/lib/python3.10/site-packages/sklearn/preprocessing/_encoders.py:975: FutureWarning: `sparse` was renamed to `sparse_output` in version 1.2 and will be removed in 1.4. `sparse_output` is ignored unless you leave `sparse` to its default value.\n",
      "  warnings.warn(\n",
      "/Users/aryal/anaconda3/envs/Certain-Models/lib/python3.10/site-packages/sklearn/preprocessing/_encoders.py:975: FutureWarning: `sparse` was renamed to `sparse_output` in version 1.2 and will be removed in 1.4. `sparse_output` is ignored unless you leave `sparse` to its default value.\n",
      "  warnings.warn(\n",
      "/Users/aryal/anaconda3/envs/Certain-Models/lib/python3.10/site-packages/sklearn/preprocessing/_encoders.py:975: FutureWarning: `sparse` was renamed to `sparse_output` in version 1.2 and will be removed in 1.4. `sparse_output` is ignored unless you leave `sparse` to its default value.\n",
      "  warnings.warn(\n",
      "/Users/aryal/anaconda3/envs/Certain-Models/lib/python3.10/site-packages/sklearn/preprocessing/_encoders.py:975: FutureWarning: `sparse` was renamed to `sparse_output` in version 1.2 and will be removed in 1.4. `sparse_output` is ignored unless you leave `sparse` to its default value.\n",
      "  warnings.warn(\n",
      "/Users/aryal/anaconda3/envs/Certain-Models/lib/python3.10/site-packages/sklearn/preprocessing/_encoders.py:975: FutureWarning: `sparse` was renamed to `sparse_output` in version 1.2 and will be removed in 1.4. `sparse_output` is ignored unless you leave `sparse` to its default value.\n",
      "  warnings.warn(\n",
      "/Users/aryal/anaconda3/envs/Certain-Models/lib/python3.10/site-packages/sklearn/preprocessing/_encoders.py:975: FutureWarning: `sparse` was renamed to `sparse_output` in version 1.2 and will be removed in 1.4. `sparse_output` is ignored unless you leave `sparse` to its default value.\n",
      "  warnings.warn(\n",
      "/Users/aryal/anaconda3/envs/Certain-Models/lib/python3.10/site-packages/sklearn/preprocessing/_encoders.py:975: FutureWarning: `sparse` was renamed to `sparse_output` in version 1.2 and will be removed in 1.4. `sparse_output` is ignored unless you leave `sparse` to its default value.\n",
      "  warnings.warn(\n",
      "/Users/aryal/anaconda3/envs/Certain-Models/lib/python3.10/site-packages/sklearn/preprocessing/_encoders.py:975: FutureWarning: `sparse` was renamed to `sparse_output` in version 1.2 and will be removed in 1.4. `sparse_output` is ignored unless you leave `sparse` to its default value.\n",
      "  warnings.warn(\n",
      "/Users/aryal/anaconda3/envs/Certain-Models/lib/python3.10/site-packages/sklearn/preprocessing/_encoders.py:975: FutureWarning: `sparse` was renamed to `sparse_output` in version 1.2 and will be removed in 1.4. `sparse_output` is ignored unless you leave `sparse` to its default value.\n",
      "  warnings.warn(\n",
      "/Users/aryal/anaconda3/envs/Certain-Models/lib/python3.10/site-packages/sklearn/preprocessing/_encoders.py:975: FutureWarning: `sparse` was renamed to `sparse_output` in version 1.2 and will be removed in 1.4. `sparse_output` is ignored unless you leave `sparse` to its default value.\n",
      "  warnings.warn(\n",
      "/Users/aryal/anaconda3/envs/Certain-Models/lib/python3.10/site-packages/sklearn/preprocessing/_encoders.py:975: FutureWarning: `sparse` was renamed to `sparse_output` in version 1.2 and will be removed in 1.4. `sparse_output` is ignored unless you leave `sparse` to its default value.\n",
      "  warnings.warn(\n",
      "/Users/aryal/anaconda3/envs/Certain-Models/lib/python3.10/site-packages/sklearn/preprocessing/_encoders.py:975: FutureWarning: `sparse` was renamed to `sparse_output` in version 1.2 and will be removed in 1.4. `sparse_output` is ignored unless you leave `sparse` to its default value.\n",
      "  warnings.warn(\n",
      "/Users/aryal/anaconda3/envs/Certain-Models/lib/python3.10/site-packages/sklearn/preprocessing/_encoders.py:975: FutureWarning: `sparse` was renamed to `sparse_output` in version 1.2 and will be removed in 1.4. `sparse_output` is ignored unless you leave `sparse` to its default value.\n",
      "  warnings.warn(\n"
     ]
    },
    {
     "name": "stdout",
     "output_type": "stream",
     "text": [
      "This column doesnt have nulls SideofField\n",
      "This column doesnt have nulls posteam\n",
      "This column doesnt have nulls DefensiveTeam\n",
      "This column doesnt have nulls PlayType\n"
     ]
    },
    {
     "name": "stderr",
     "output_type": "stream",
     "text": [
      "/Users/aryal/anaconda3/envs/Certain-Models/lib/python3.10/site-packages/sklearn/preprocessing/_encoders.py:975: FutureWarning: `sparse` was renamed to `sparse_output` in version 1.2 and will be removed in 1.4. `sparse_output` is ignored unless you leave `sparse` to its default value.\n",
      "  warnings.warn(\n",
      "/Users/aryal/anaconda3/envs/Certain-Models/lib/python3.10/site-packages/sklearn/preprocessing/_encoders.py:975: FutureWarning: `sparse` was renamed to `sparse_output` in version 1.2 and will be removed in 1.4. `sparse_output` is ignored unless you leave `sparse` to its default value.\n",
      "  warnings.warn(\n",
      "/Users/aryal/anaconda3/envs/Certain-Models/lib/python3.10/site-packages/sklearn/preprocessing/_encoders.py:975: FutureWarning: `sparse` was renamed to `sparse_output` in version 1.2 and will be removed in 1.4. `sparse_output` is ignored unless you leave `sparse` to its default value.\n",
      "  warnings.warn(\n",
      "/Users/aryal/anaconda3/envs/Certain-Models/lib/python3.10/site-packages/sklearn/preprocessing/_encoders.py:975: FutureWarning: `sparse` was renamed to `sparse_output` in version 1.2 and will be removed in 1.4. `sparse_output` is ignored unless you leave `sparse` to its default value.\n",
      "  warnings.warn(\n",
      "/Users/aryal/anaconda3/envs/Certain-Models/lib/python3.10/site-packages/sklearn/preprocessing/_encoders.py:975: FutureWarning: `sparse` was renamed to `sparse_output` in version 1.2 and will be removed in 1.4. `sparse_output` is ignored unless you leave `sparse` to its default value.\n",
      "  warnings.warn(\n",
      "/Users/aryal/anaconda3/envs/Certain-Models/lib/python3.10/site-packages/sklearn/preprocessing/_encoders.py:975: FutureWarning: `sparse` was renamed to `sparse_output` in version 1.2 and will be removed in 1.4. `sparse_output` is ignored unless you leave `sparse` to its default value.\n",
      "  warnings.warn(\n",
      "/Users/aryal/anaconda3/envs/Certain-Models/lib/python3.10/site-packages/sklearn/preprocessing/_encoders.py:975: FutureWarning: `sparse` was renamed to `sparse_output` in version 1.2 and will be removed in 1.4. `sparse_output` is ignored unless you leave `sparse` to its default value.\n",
      "  warnings.warn(\n",
      "/Users/aryal/anaconda3/envs/Certain-Models/lib/python3.10/site-packages/sklearn/preprocessing/_encoders.py:975: FutureWarning: `sparse` was renamed to `sparse_output` in version 1.2 and will be removed in 1.4. `sparse_output` is ignored unless you leave `sparse` to its default value.\n",
      "  warnings.warn(\n",
      "/Users/aryal/anaconda3/envs/Certain-Models/lib/python3.10/site-packages/sklearn/preprocessing/_encoders.py:975: FutureWarning: `sparse` was renamed to `sparse_output` in version 1.2 and will be removed in 1.4. `sparse_output` is ignored unless you leave `sparse` to its default value.\n",
      "  warnings.warn(\n",
      "/Users/aryal/anaconda3/envs/Certain-Models/lib/python3.10/site-packages/sklearn/preprocessing/_encoders.py:975: FutureWarning: `sparse` was renamed to `sparse_output` in version 1.2 and will be removed in 1.4. `sparse_output` is ignored unless you leave `sparse` to its default value.\n",
      "  warnings.warn(\n",
      "/Users/aryal/anaconda3/envs/Certain-Models/lib/python3.10/site-packages/sklearn/preprocessing/_encoders.py:975: FutureWarning: `sparse` was renamed to `sparse_output` in version 1.2 and will be removed in 1.4. `sparse_output` is ignored unless you leave `sparse` to its default value.\n",
      "  warnings.warn(\n",
      "/Users/aryal/anaconda3/envs/Certain-Models/lib/python3.10/site-packages/sklearn/preprocessing/_encoders.py:975: FutureWarning: `sparse` was renamed to `sparse_output` in version 1.2 and will be removed in 1.4. `sparse_output` is ignored unless you leave `sparse` to its default value.\n",
      "  warnings.warn(\n",
      "/Users/aryal/anaconda3/envs/Certain-Models/lib/python3.10/site-packages/sklearn/preprocessing/_encoders.py:975: FutureWarning: `sparse` was renamed to `sparse_output` in version 1.2 and will be removed in 1.4. `sparse_output` is ignored unless you leave `sparse` to its default value.\n",
      "  warnings.warn(\n",
      "/Users/aryal/anaconda3/envs/Certain-Models/lib/python3.10/site-packages/sklearn/preprocessing/_encoders.py:975: FutureWarning: `sparse` was renamed to `sparse_output` in version 1.2 and will be removed in 1.4. `sparse_output` is ignored unless you leave `sparse` to its default value.\n",
      "  warnings.warn(\n",
      "/Users/aryal/anaconda3/envs/Certain-Models/lib/python3.10/site-packages/sklearn/preprocessing/_encoders.py:975: FutureWarning: `sparse` was renamed to `sparse_output` in version 1.2 and will be removed in 1.4. `sparse_output` is ignored unless you leave `sparse` to its default value.\n",
      "  warnings.warn(\n"
     ]
    }
   ],
   "source": [
    "#others then handle nullls\n",
    "\n",
    "import pandas as pd\n",
    "from sklearn.preprocessing import OneHotEncoder\n",
    "df=dropped\n",
    "# Select categorical columns\n",
    "categorical_columns = df.select_dtypes(include=['object', 'category']).columns.tolist()\n",
    "\n",
    "# Create a copy of the original dataframe to preserve the original columns\n",
    "df_encoded = df.copy()\n",
    "\n",
    "# Create an empty DataFrame to store the encoded columns\n",
    "encoded_data_frames = []\n",
    "\n",
    "# Define a list of transformers for each categorical column\n",
    "for col in categorical_columns:\n",
    "    # Replace null values with \"Others\" in the original column\n",
    "    df_encoded[col].fillna(\"Others\", inplace=True)\n",
    "\n",
    "    # Create dummy variables using OneHotEncoder\n",
    "    encoder = OneHotEncoder(sparse=False, handle_unknown='ignore')\n",
    "    encoded_data = encoder.fit_transform(df_encoded[[col]])\n",
    "\n",
    "    # Get column names based on the original column and category\n",
    "    column_names = [category for category in encoder.get_feature_names_out([col])]\n",
    "\n",
    "    # Create a DataFrame for the encoded data\n",
    "    encoded_df = pd.DataFrame(encoded_data, columns=column_names, index=df_encoded.index)\n",
    "\n",
    "    try:\n",
    "      new_column_name = f\"{col}_{'Others'}\"\n",
    "      # Drop the original column and the dummy variables for \"Others\"\n",
    "\n",
    "      encoded_df.loc[df[col].isnull(), column_names] = pd.NA\n",
    "      encoded_df.drop([new_column_name], axis=1, inplace=True)\n",
    "    except:\n",
    "      print('This column doesnt have nulls',col)\n",
    "\n",
    "    # Add the encoded DataFrame to the list\n",
    "    encoded_data_frames.append(encoded_df)\n",
    "\n",
    "# Concatenate the original DataFrame and the list of encoded DataFrames\n",
    "df_encoded = pd.concat([df_encoded] + encoded_data_frames, axis=1)\n",
    "\n",
    "# Drop the original categorical columns\n",
    "df_encoded.drop(categorical_columns, axis=1, inplace=True)\n",
    "\n",
    "# Now, the df_encoded DataFrame contains the changes made to categorical columns, with null values preserved."
   ],
   "metadata": {
    "collapsed": false,
    "ExecuteTime": {
     "end_time": "2024-01-17T02:24:46.333761Z",
     "start_time": "2024-01-17T02:24:41.998452Z"
    }
   }
  },
  {
   "cell_type": "code",
   "execution_count": 273,
   "outputs": [
    {
     "name": "stdout",
     "output_type": "stream",
     "text": [
      "Your selected dataframe has 66 columns.\n",
      "There are 28 columns that have missing values.\n"
     ]
    },
    {
     "data": {
      "text/plain": "                   Missing Values  % of Total Values Data Type\nDefTwoPoint                 42873              100.0    object\nBlockingPlayer              42867              100.0    object\nTwoPointConv                42789               99.8    object\nChalReplayResult            42465               99.0    object\nInterceptor                 42411               98.9    object\nRecFumbTeam                 42397               98.9    object\nRecFumbPlayer               42397               98.9    object\nFieldGoalDistance           41889               97.7   float64\nFieldGoalResult             41877               97.7    object\nExPointResult               41747               97.4    object\nPenaltyType                 40926               95.4    object\nReturnResult                40534               94.5    object\nPuntResult                  40393               94.2    object\nReturner                    40380               94.2    object\nTackler2                    39522               92.2    object\nPenalizedPlayer             39474               92.1    object\nPenalizedTeam               39343               91.8    object\nRunGap                      33291               77.6    object\nRunLocation                 29912               69.8    object\nRusher                      29812               69.5    object\nReceiver                    24420               57.0    object\nPassLocation                23587               55.0    object\nPassLength                  23587               55.0    object\nPasser                      23480               54.8    object\nPassOutcome                 23443               54.7    object\nTackler1                    17975               41.9    object\ndown                         3872                9.0   float64\nFirstDown                    2549                5.9   float64",
      "text/html": "<div>\n<style scoped>\n    .dataframe tbody tr th:only-of-type {\n        vertical-align: middle;\n    }\n\n    .dataframe tbody tr th {\n        vertical-align: top;\n    }\n\n    .dataframe thead th {\n        text-align: right;\n    }\n</style>\n<table border=\"1\" class=\"dataframe\">\n  <thead>\n    <tr style=\"text-align: right;\">\n      <th></th>\n      <th>Missing Values</th>\n      <th>% of Total Values</th>\n      <th>Data Type</th>\n    </tr>\n  </thead>\n  <tbody>\n    <tr>\n      <th>DefTwoPoint</th>\n      <td>42873</td>\n      <td>100.0</td>\n      <td>object</td>\n    </tr>\n    <tr>\n      <th>BlockingPlayer</th>\n      <td>42867</td>\n      <td>100.0</td>\n      <td>object</td>\n    </tr>\n    <tr>\n      <th>TwoPointConv</th>\n      <td>42789</td>\n      <td>99.8</td>\n      <td>object</td>\n    </tr>\n    <tr>\n      <th>ChalReplayResult</th>\n      <td>42465</td>\n      <td>99.0</td>\n      <td>object</td>\n    </tr>\n    <tr>\n      <th>Interceptor</th>\n      <td>42411</td>\n      <td>98.9</td>\n      <td>object</td>\n    </tr>\n    <tr>\n      <th>RecFumbTeam</th>\n      <td>42397</td>\n      <td>98.9</td>\n      <td>object</td>\n    </tr>\n    <tr>\n      <th>RecFumbPlayer</th>\n      <td>42397</td>\n      <td>98.9</td>\n      <td>object</td>\n    </tr>\n    <tr>\n      <th>FieldGoalDistance</th>\n      <td>41889</td>\n      <td>97.7</td>\n      <td>float64</td>\n    </tr>\n    <tr>\n      <th>FieldGoalResult</th>\n      <td>41877</td>\n      <td>97.7</td>\n      <td>object</td>\n    </tr>\n    <tr>\n      <th>ExPointResult</th>\n      <td>41747</td>\n      <td>97.4</td>\n      <td>object</td>\n    </tr>\n    <tr>\n      <th>PenaltyType</th>\n      <td>40926</td>\n      <td>95.4</td>\n      <td>object</td>\n    </tr>\n    <tr>\n      <th>ReturnResult</th>\n      <td>40534</td>\n      <td>94.5</td>\n      <td>object</td>\n    </tr>\n    <tr>\n      <th>PuntResult</th>\n      <td>40393</td>\n      <td>94.2</td>\n      <td>object</td>\n    </tr>\n    <tr>\n      <th>Returner</th>\n      <td>40380</td>\n      <td>94.2</td>\n      <td>object</td>\n    </tr>\n    <tr>\n      <th>Tackler2</th>\n      <td>39522</td>\n      <td>92.2</td>\n      <td>object</td>\n    </tr>\n    <tr>\n      <th>PenalizedPlayer</th>\n      <td>39474</td>\n      <td>92.1</td>\n      <td>object</td>\n    </tr>\n    <tr>\n      <th>PenalizedTeam</th>\n      <td>39343</td>\n      <td>91.8</td>\n      <td>object</td>\n    </tr>\n    <tr>\n      <th>RunGap</th>\n      <td>33291</td>\n      <td>77.6</td>\n      <td>object</td>\n    </tr>\n    <tr>\n      <th>RunLocation</th>\n      <td>29912</td>\n      <td>69.8</td>\n      <td>object</td>\n    </tr>\n    <tr>\n      <th>Rusher</th>\n      <td>29812</td>\n      <td>69.5</td>\n      <td>object</td>\n    </tr>\n    <tr>\n      <th>Receiver</th>\n      <td>24420</td>\n      <td>57.0</td>\n      <td>object</td>\n    </tr>\n    <tr>\n      <th>PassLocation</th>\n      <td>23587</td>\n      <td>55.0</td>\n      <td>object</td>\n    </tr>\n    <tr>\n      <th>PassLength</th>\n      <td>23587</td>\n      <td>55.0</td>\n      <td>object</td>\n    </tr>\n    <tr>\n      <th>Passer</th>\n      <td>23480</td>\n      <td>54.8</td>\n      <td>object</td>\n    </tr>\n    <tr>\n      <th>PassOutcome</th>\n      <td>23443</td>\n      <td>54.7</td>\n      <td>object</td>\n    </tr>\n    <tr>\n      <th>Tackler1</th>\n      <td>17975</td>\n      <td>41.9</td>\n      <td>object</td>\n    </tr>\n    <tr>\n      <th>down</th>\n      <td>3872</td>\n      <td>9.0</td>\n      <td>float64</td>\n    </tr>\n    <tr>\n      <th>FirstDown</th>\n      <td>2549</td>\n      <td>5.9</td>\n      <td>float64</td>\n    </tr>\n  </tbody>\n</table>\n</div>"
     },
     "execution_count": 273,
     "metadata": {},
     "output_type": "execute_result"
    }
   ],
   "source": [
    "missing_values_table(df)"
   ],
   "metadata": {
    "collapsed": false,
    "ExecuteTime": {
     "end_time": "2024-01-17T02:24:46.381787Z",
     "start_time": "2024-01-17T02:24:46.332082Z"
    }
   }
  },
  {
   "cell_type": "code",
   "execution_count": 274,
   "outputs": [
    {
     "name": "stdout",
     "output_type": "stream",
     "text": [
      "Your selected dataframe has 5166 columns.\n",
      "There are 5023 columns that have missing values.\n"
     ]
    },
    {
     "data": {
      "text/plain": "                           Missing Values  % of Total Values Data Type\nDefTwoPoint_Failure                 42873              100.0   float64\nDefTwoPoint_Success                 42873              100.0   float64\nBlockingPlayer_J.Johnson            42867              100.0   float64\nBlockingPlayer_Z.Vigil              42867              100.0   float64\nBlockingPlayer_R.Jennings           42867              100.0   float64\n...                                   ...                ...       ...\nTackler1_M.Evans                    17975               41.9   float64\nTackler1_M.Floyd                    17975               41.9   float64\nTackler1_M.Claiborne                17975               41.9   float64\ndown                                 3872                9.0   float64\nFirstDown                            2549                5.9   float64\n\n[5023 rows x 3 columns]",
      "text/html": "<div>\n<style scoped>\n    .dataframe tbody tr th:only-of-type {\n        vertical-align: middle;\n    }\n\n    .dataframe tbody tr th {\n        vertical-align: top;\n    }\n\n    .dataframe thead th {\n        text-align: right;\n    }\n</style>\n<table border=\"1\" class=\"dataframe\">\n  <thead>\n    <tr style=\"text-align: right;\">\n      <th></th>\n      <th>Missing Values</th>\n      <th>% of Total Values</th>\n      <th>Data Type</th>\n    </tr>\n  </thead>\n  <tbody>\n    <tr>\n      <th>DefTwoPoint_Failure</th>\n      <td>42873</td>\n      <td>100.0</td>\n      <td>float64</td>\n    </tr>\n    <tr>\n      <th>DefTwoPoint_Success</th>\n      <td>42873</td>\n      <td>100.0</td>\n      <td>float64</td>\n    </tr>\n    <tr>\n      <th>BlockingPlayer_J.Johnson</th>\n      <td>42867</td>\n      <td>100.0</td>\n      <td>float64</td>\n    </tr>\n    <tr>\n      <th>BlockingPlayer_Z.Vigil</th>\n      <td>42867</td>\n      <td>100.0</td>\n      <td>float64</td>\n    </tr>\n    <tr>\n      <th>BlockingPlayer_R.Jennings</th>\n      <td>42867</td>\n      <td>100.0</td>\n      <td>float64</td>\n    </tr>\n    <tr>\n      <th>...</th>\n      <td>...</td>\n      <td>...</td>\n      <td>...</td>\n    </tr>\n    <tr>\n      <th>Tackler1_M.Evans</th>\n      <td>17975</td>\n      <td>41.9</td>\n      <td>float64</td>\n    </tr>\n    <tr>\n      <th>Tackler1_M.Floyd</th>\n      <td>17975</td>\n      <td>41.9</td>\n      <td>float64</td>\n    </tr>\n    <tr>\n      <th>Tackler1_M.Claiborne</th>\n      <td>17975</td>\n      <td>41.9</td>\n      <td>float64</td>\n    </tr>\n    <tr>\n      <th>down</th>\n      <td>3872</td>\n      <td>9.0</td>\n      <td>float64</td>\n    </tr>\n    <tr>\n      <th>FirstDown</th>\n      <td>2549</td>\n      <td>5.9</td>\n      <td>float64</td>\n    </tr>\n  </tbody>\n</table>\n<p>5023 rows × 3 columns</p>\n</div>"
     },
     "execution_count": 274,
     "metadata": {},
     "output_type": "execute_result"
    }
   ],
   "source": [
    "missing_values_table(df_encoded)"
   ],
   "metadata": {
    "collapsed": false,
    "ExecuteTime": {
     "end_time": "2024-01-17T02:24:51.137634Z",
     "start_time": "2024-01-17T02:24:50.306441Z"
    }
   }
  },
  {
   "cell_type": "code",
   "execution_count": 275,
   "outputs": [
    {
     "name": "stdout",
     "output_type": "stream",
     "text": [
      "[]\n"
     ]
    }
   ],
   "source": [
    "categorical_columns = df_encoded.select_dtypes(include=['object', 'category']).columns.tolist()\n",
    "print(categorical_columns)"
   ],
   "metadata": {
    "collapsed": false,
    "ExecuteTime": {
     "end_time": "2024-01-17T02:24:54.264691Z",
     "start_time": "2024-01-17T02:24:54.247420Z"
    }
   }
  },
  {
   "cell_type": "code",
   "execution_count": 276,
   "outputs": [
    {
     "data": {
      "text/plain": "         GameID  Drive  qtr  down  TimeUnder  TimeSecs  PlayTimeDiff  yrdln  \\\n36   2015091000      1    1   NaN         15    3600.0           0.0   35.0   \n51   2015091000      1    1   1.0         15    3600.0           0.0   20.0   \n72   2015091000      1    1   1.0         15    3561.0          39.0   38.0   \n101  2015091000      1    1   2.0         15    3544.0          17.0   47.0   \n122  2015091000      1    1   1.0         14    3506.0          38.0   49.0   \n159  2015091000      1    1   1.0         13    3462.0          44.0   35.0   \n180  2015091000      1    1   1.0         13    3425.0          37.0   24.0   \n199  2015091000      1    1   2.0         12    3380.0          45.0   32.0   \n236  2015091000      1    1   2.0         11    3353.0          27.0   42.0   \n261  2015091000      1    1   3.0         11    3328.0          25.0   36.0   \n285  2015091000      1    1   4.0         10    3284.0          44.0   26.0   \n305  2015091000      2    1   1.0         10    3280.0           4.0   34.0   \n346  2015091000      2    1   1.0         10    3254.0          26.0   32.0   \n371  2015091000      2    1   1.0          9    3240.0          14.0   44.0   \n396  2015091000      2    1   1.0          9    3211.0          29.0   43.0   \n\n     yrdline100  ydstogo  ...  PenalizedPlayer_Z.Fulton  \\\n36         35.0        0  ...                       NaN   \n51         80.0       10  ...                       NaN   \n72         62.0       10  ...                       NaN   \n101        53.0        1  ...                       NaN   \n122        49.0       10  ...                       NaN   \n159        35.0       10  ...                       NaN   \n180        24.0       10  ...                       NaN   \n199        32.0       18  ...                       0.0   \n236        42.0       28  ...                       NaN   \n261        36.0       22  ...                       NaN   \n285        26.0       12  ...                       NaN   \n305        66.0       10  ...                       0.0   \n346        68.0       10  ...                       NaN   \n371        56.0       10  ...                       NaN   \n396        43.0       10  ...                       NaN   \n\n     PenalizedPlayer_Z.Line  PenalizedPlayer_Z.Martin  \\\n36                      NaN                       NaN   \n51                      NaN                       NaN   \n72                      NaN                       NaN   \n101                     NaN                       NaN   \n122                     NaN                       NaN   \n159                     NaN                       NaN   \n180                     NaN                       NaN   \n199                     0.0                       0.0   \n236                     NaN                       NaN   \n261                     NaN                       NaN   \n285                     NaN                       NaN   \n305                     0.0                       0.0   \n346                     NaN                       NaN   \n371                     NaN                       NaN   \n396                     NaN                       NaN   \n\n     PenalizedPlayer_Z.Mettenberger  PenalizedPlayer_Z.Miller  \\\n36                              NaN                       NaN   \n51                              NaN                       NaN   \n72                              NaN                       NaN   \n101                             NaN                       NaN   \n122                             NaN                       NaN   \n159                             NaN                       NaN   \n180                             NaN                       NaN   \n199                             0.0                       0.0   \n236                             NaN                       NaN   \n261                             NaN                       NaN   \n285                             NaN                       NaN   \n305                             0.0                       0.0   \n346                             NaN                       NaN   \n371                             NaN                       NaN   \n396                             NaN                       NaN   \n\n     PenalizedPlayer_Z.Orr  PenalizedPlayer_Z.Smith  PenalizedPlayer_Z.Stacy  \\\n36                     NaN                      NaN                      NaN   \n51                     NaN                      NaN                      NaN   \n72                     NaN                      NaN                      NaN   \n101                    NaN                      NaN                      NaN   \n122                    NaN                      NaN                      NaN   \n159                    NaN                      NaN                      NaN   \n180                    NaN                      NaN                      NaN   \n199                    0.0                      0.0                      0.0   \n236                    NaN                      NaN                      NaN   \n261                    NaN                      NaN                      NaN   \n285                    NaN                      NaN                      NaN   \n305                    0.0                      0.0                      0.0   \n346                    NaN                      NaN                      NaN   \n371                    NaN                      NaN                      NaN   \n396                    NaN                      NaN                      NaN   \n\n     PenalizedPlayer_Z.Strief  PenalizedPlayer_Z.Vigil  \n36                        NaN                      NaN  \n51                        NaN                      NaN  \n72                        NaN                      NaN  \n101                       NaN                      NaN  \n122                       NaN                      NaN  \n159                       NaN                      NaN  \n180                       NaN                      NaN  \n199                       0.0                      0.0  \n236                       NaN                      NaN  \n261                       NaN                      NaN  \n285                       NaN                      NaN  \n305                       0.0                      0.0  \n346                       NaN                      NaN  \n371                       NaN                      NaN  \n396                       NaN                      NaN  \n\n[15 rows x 5166 columns]",
      "text/html": "<div>\n<style scoped>\n    .dataframe tbody tr th:only-of-type {\n        vertical-align: middle;\n    }\n\n    .dataframe tbody tr th {\n        vertical-align: top;\n    }\n\n    .dataframe thead th {\n        text-align: right;\n    }\n</style>\n<table border=\"1\" class=\"dataframe\">\n  <thead>\n    <tr style=\"text-align: right;\">\n      <th></th>\n      <th>GameID</th>\n      <th>Drive</th>\n      <th>qtr</th>\n      <th>down</th>\n      <th>TimeUnder</th>\n      <th>TimeSecs</th>\n      <th>PlayTimeDiff</th>\n      <th>yrdln</th>\n      <th>yrdline100</th>\n      <th>ydstogo</th>\n      <th>...</th>\n      <th>PenalizedPlayer_Z.Fulton</th>\n      <th>PenalizedPlayer_Z.Line</th>\n      <th>PenalizedPlayer_Z.Martin</th>\n      <th>PenalizedPlayer_Z.Mettenberger</th>\n      <th>PenalizedPlayer_Z.Miller</th>\n      <th>PenalizedPlayer_Z.Orr</th>\n      <th>PenalizedPlayer_Z.Smith</th>\n      <th>PenalizedPlayer_Z.Stacy</th>\n      <th>PenalizedPlayer_Z.Strief</th>\n      <th>PenalizedPlayer_Z.Vigil</th>\n    </tr>\n  </thead>\n  <tbody>\n    <tr>\n      <th>36</th>\n      <td>2015091000</td>\n      <td>1</td>\n      <td>1</td>\n      <td>NaN</td>\n      <td>15</td>\n      <td>3600.0</td>\n      <td>0.0</td>\n      <td>35.0</td>\n      <td>35.0</td>\n      <td>0</td>\n      <td>...</td>\n      <td>NaN</td>\n      <td>NaN</td>\n      <td>NaN</td>\n      <td>NaN</td>\n      <td>NaN</td>\n      <td>NaN</td>\n      <td>NaN</td>\n      <td>NaN</td>\n      <td>NaN</td>\n      <td>NaN</td>\n    </tr>\n    <tr>\n      <th>51</th>\n      <td>2015091000</td>\n      <td>1</td>\n      <td>1</td>\n      <td>1.0</td>\n      <td>15</td>\n      <td>3600.0</td>\n      <td>0.0</td>\n      <td>20.0</td>\n      <td>80.0</td>\n      <td>10</td>\n      <td>...</td>\n      <td>NaN</td>\n      <td>NaN</td>\n      <td>NaN</td>\n      <td>NaN</td>\n      <td>NaN</td>\n      <td>NaN</td>\n      <td>NaN</td>\n      <td>NaN</td>\n      <td>NaN</td>\n      <td>NaN</td>\n    </tr>\n    <tr>\n      <th>72</th>\n      <td>2015091000</td>\n      <td>1</td>\n      <td>1</td>\n      <td>1.0</td>\n      <td>15</td>\n      <td>3561.0</td>\n      <td>39.0</td>\n      <td>38.0</td>\n      <td>62.0</td>\n      <td>10</td>\n      <td>...</td>\n      <td>NaN</td>\n      <td>NaN</td>\n      <td>NaN</td>\n      <td>NaN</td>\n      <td>NaN</td>\n      <td>NaN</td>\n      <td>NaN</td>\n      <td>NaN</td>\n      <td>NaN</td>\n      <td>NaN</td>\n    </tr>\n    <tr>\n      <th>101</th>\n      <td>2015091000</td>\n      <td>1</td>\n      <td>1</td>\n      <td>2.0</td>\n      <td>15</td>\n      <td>3544.0</td>\n      <td>17.0</td>\n      <td>47.0</td>\n      <td>53.0</td>\n      <td>1</td>\n      <td>...</td>\n      <td>NaN</td>\n      <td>NaN</td>\n      <td>NaN</td>\n      <td>NaN</td>\n      <td>NaN</td>\n      <td>NaN</td>\n      <td>NaN</td>\n      <td>NaN</td>\n      <td>NaN</td>\n      <td>NaN</td>\n    </tr>\n    <tr>\n      <th>122</th>\n      <td>2015091000</td>\n      <td>1</td>\n      <td>1</td>\n      <td>1.0</td>\n      <td>14</td>\n      <td>3506.0</td>\n      <td>38.0</td>\n      <td>49.0</td>\n      <td>49.0</td>\n      <td>10</td>\n      <td>...</td>\n      <td>NaN</td>\n      <td>NaN</td>\n      <td>NaN</td>\n      <td>NaN</td>\n      <td>NaN</td>\n      <td>NaN</td>\n      <td>NaN</td>\n      <td>NaN</td>\n      <td>NaN</td>\n      <td>NaN</td>\n    </tr>\n    <tr>\n      <th>159</th>\n      <td>2015091000</td>\n      <td>1</td>\n      <td>1</td>\n      <td>1.0</td>\n      <td>13</td>\n      <td>3462.0</td>\n      <td>44.0</td>\n      <td>35.0</td>\n      <td>35.0</td>\n      <td>10</td>\n      <td>...</td>\n      <td>NaN</td>\n      <td>NaN</td>\n      <td>NaN</td>\n      <td>NaN</td>\n      <td>NaN</td>\n      <td>NaN</td>\n      <td>NaN</td>\n      <td>NaN</td>\n      <td>NaN</td>\n      <td>NaN</td>\n    </tr>\n    <tr>\n      <th>180</th>\n      <td>2015091000</td>\n      <td>1</td>\n      <td>1</td>\n      <td>1.0</td>\n      <td>13</td>\n      <td>3425.0</td>\n      <td>37.0</td>\n      <td>24.0</td>\n      <td>24.0</td>\n      <td>10</td>\n      <td>...</td>\n      <td>NaN</td>\n      <td>NaN</td>\n      <td>NaN</td>\n      <td>NaN</td>\n      <td>NaN</td>\n      <td>NaN</td>\n      <td>NaN</td>\n      <td>NaN</td>\n      <td>NaN</td>\n      <td>NaN</td>\n    </tr>\n    <tr>\n      <th>199</th>\n      <td>2015091000</td>\n      <td>1</td>\n      <td>1</td>\n      <td>2.0</td>\n      <td>12</td>\n      <td>3380.0</td>\n      <td>45.0</td>\n      <td>32.0</td>\n      <td>32.0</td>\n      <td>18</td>\n      <td>...</td>\n      <td>0.0</td>\n      <td>0.0</td>\n      <td>0.0</td>\n      <td>0.0</td>\n      <td>0.0</td>\n      <td>0.0</td>\n      <td>0.0</td>\n      <td>0.0</td>\n      <td>0.0</td>\n      <td>0.0</td>\n    </tr>\n    <tr>\n      <th>236</th>\n      <td>2015091000</td>\n      <td>1</td>\n      <td>1</td>\n      <td>2.0</td>\n      <td>11</td>\n      <td>3353.0</td>\n      <td>27.0</td>\n      <td>42.0</td>\n      <td>42.0</td>\n      <td>28</td>\n      <td>...</td>\n      <td>NaN</td>\n      <td>NaN</td>\n      <td>NaN</td>\n      <td>NaN</td>\n      <td>NaN</td>\n      <td>NaN</td>\n      <td>NaN</td>\n      <td>NaN</td>\n      <td>NaN</td>\n      <td>NaN</td>\n    </tr>\n    <tr>\n      <th>261</th>\n      <td>2015091000</td>\n      <td>1</td>\n      <td>1</td>\n      <td>3.0</td>\n      <td>11</td>\n      <td>3328.0</td>\n      <td>25.0</td>\n      <td>36.0</td>\n      <td>36.0</td>\n      <td>22</td>\n      <td>...</td>\n      <td>NaN</td>\n      <td>NaN</td>\n      <td>NaN</td>\n      <td>NaN</td>\n      <td>NaN</td>\n      <td>NaN</td>\n      <td>NaN</td>\n      <td>NaN</td>\n      <td>NaN</td>\n      <td>NaN</td>\n    </tr>\n    <tr>\n      <th>285</th>\n      <td>2015091000</td>\n      <td>1</td>\n      <td>1</td>\n      <td>4.0</td>\n      <td>10</td>\n      <td>3284.0</td>\n      <td>44.0</td>\n      <td>26.0</td>\n      <td>26.0</td>\n      <td>12</td>\n      <td>...</td>\n      <td>NaN</td>\n      <td>NaN</td>\n      <td>NaN</td>\n      <td>NaN</td>\n      <td>NaN</td>\n      <td>NaN</td>\n      <td>NaN</td>\n      <td>NaN</td>\n      <td>NaN</td>\n      <td>NaN</td>\n    </tr>\n    <tr>\n      <th>305</th>\n      <td>2015091000</td>\n      <td>2</td>\n      <td>1</td>\n      <td>1.0</td>\n      <td>10</td>\n      <td>3280.0</td>\n      <td>4.0</td>\n      <td>34.0</td>\n      <td>66.0</td>\n      <td>10</td>\n      <td>...</td>\n      <td>0.0</td>\n      <td>0.0</td>\n      <td>0.0</td>\n      <td>0.0</td>\n      <td>0.0</td>\n      <td>0.0</td>\n      <td>0.0</td>\n      <td>0.0</td>\n      <td>0.0</td>\n      <td>0.0</td>\n    </tr>\n    <tr>\n      <th>346</th>\n      <td>2015091000</td>\n      <td>2</td>\n      <td>1</td>\n      <td>1.0</td>\n      <td>10</td>\n      <td>3254.0</td>\n      <td>26.0</td>\n      <td>32.0</td>\n      <td>68.0</td>\n      <td>10</td>\n      <td>...</td>\n      <td>NaN</td>\n      <td>NaN</td>\n      <td>NaN</td>\n      <td>NaN</td>\n      <td>NaN</td>\n      <td>NaN</td>\n      <td>NaN</td>\n      <td>NaN</td>\n      <td>NaN</td>\n      <td>NaN</td>\n    </tr>\n    <tr>\n      <th>371</th>\n      <td>2015091000</td>\n      <td>2</td>\n      <td>1</td>\n      <td>1.0</td>\n      <td>9</td>\n      <td>3240.0</td>\n      <td>14.0</td>\n      <td>44.0</td>\n      <td>56.0</td>\n      <td>10</td>\n      <td>...</td>\n      <td>NaN</td>\n      <td>NaN</td>\n      <td>NaN</td>\n      <td>NaN</td>\n      <td>NaN</td>\n      <td>NaN</td>\n      <td>NaN</td>\n      <td>NaN</td>\n      <td>NaN</td>\n      <td>NaN</td>\n    </tr>\n    <tr>\n      <th>396</th>\n      <td>2015091000</td>\n      <td>2</td>\n      <td>1</td>\n      <td>1.0</td>\n      <td>9</td>\n      <td>3211.0</td>\n      <td>29.0</td>\n      <td>43.0</td>\n      <td>43.0</td>\n      <td>10</td>\n      <td>...</td>\n      <td>NaN</td>\n      <td>NaN</td>\n      <td>NaN</td>\n      <td>NaN</td>\n      <td>NaN</td>\n      <td>NaN</td>\n      <td>NaN</td>\n      <td>NaN</td>\n      <td>NaN</td>\n      <td>NaN</td>\n    </tr>\n  </tbody>\n</table>\n<p>15 rows × 5166 columns</p>\n</div>"
     },
     "execution_count": 276,
     "metadata": {},
     "output_type": "execute_result"
    }
   ],
   "source": [
    "df_encoded.shape"
   ],
   "metadata": {
    "collapsed": false,
    "ExecuteTime": {
     "end_time": "2024-01-17T02:24:55.600342Z",
     "start_time": "2024-01-17T02:24:55.593660Z"
    }
   }
  },
  {
   "cell_type": "code",
   "execution_count": 277,
   "outputs": [],
   "source": [
    "df_encoded.to_csv(os.path.join('Final-Datasets', 'NFL-encoded.csv'),index=False)"
   ],
   "metadata": {
    "collapsed": false,
    "ExecuteTime": {
     "end_time": "2024-01-17T02:25:41.425795Z",
     "start_time": "2024-01-17T02:24:59.134192Z"
    }
   }
  },
  {
   "cell_type": "code",
   "execution_count": 40,
   "outputs": [
    {
     "name": "stderr",
     "output_type": "stream",
     "text": [
      "/var/folders/w6/jn7_623d6d96165_8x9l_vqh0000gn/T/ipykernel_51037/594425415.py:8: SettingWithCopyWarning: \n",
      "A value is trying to be set on a copy of a slice from a DataFrame.\n",
      "Try using .loc[row_indexer,col_indexer] = value instead\n",
      "\n",
      "See the caveats in the documentation: https://pandas.pydata.org/pandas-docs/stable/user_guide/indexing.html#returning-a-view-versus-a-copy\n",
      "  dropped[column + '_encoded'] = label_encoder.fit_transform(dropped[column])\n",
      "/var/folders/w6/jn7_623d6d96165_8x9l_vqh0000gn/T/ipykernel_51037/594425415.py:8: SettingWithCopyWarning: \n",
      "A value is trying to be set on a copy of a slice from a DataFrame.\n",
      "Try using .loc[row_indexer,col_indexer] = value instead\n",
      "\n",
      "See the caveats in the documentation: https://pandas.pydata.org/pandas-docs/stable/user_guide/indexing.html#returning-a-view-versus-a-copy\n",
      "  dropped[column + '_encoded'] = label_encoder.fit_transform(dropped[column])\n",
      "/var/folders/w6/jn7_623d6d96165_8x9l_vqh0000gn/T/ipykernel_51037/594425415.py:8: SettingWithCopyWarning: \n",
      "A value is trying to be set on a copy of a slice from a DataFrame.\n",
      "Try using .loc[row_indexer,col_indexer] = value instead\n",
      "\n",
      "See the caveats in the documentation: https://pandas.pydata.org/pandas-docs/stable/user_guide/indexing.html#returning-a-view-versus-a-copy\n",
      "  dropped[column + '_encoded'] = label_encoder.fit_transform(dropped[column])\n",
      "/var/folders/w6/jn7_623d6d96165_8x9l_vqh0000gn/T/ipykernel_51037/594425415.py:8: SettingWithCopyWarning: \n",
      "A value is trying to be set on a copy of a slice from a DataFrame.\n",
      "Try using .loc[row_indexer,col_indexer] = value instead\n",
      "\n",
      "See the caveats in the documentation: https://pandas.pydata.org/pandas-docs/stable/user_guide/indexing.html#returning-a-view-versus-a-copy\n",
      "  dropped[column + '_encoded'] = label_encoder.fit_transform(dropped[column])\n",
      "/var/folders/w6/jn7_623d6d96165_8x9l_vqh0000gn/T/ipykernel_51037/594425415.py:8: SettingWithCopyWarning: \n",
      "A value is trying to be set on a copy of a slice from a DataFrame.\n",
      "Try using .loc[row_indexer,col_indexer] = value instead\n",
      "\n",
      "See the caveats in the documentation: https://pandas.pydata.org/pandas-docs/stable/user_guide/indexing.html#returning-a-view-versus-a-copy\n",
      "  dropped[column + '_encoded'] = label_encoder.fit_transform(dropped[column])\n",
      "/var/folders/w6/jn7_623d6d96165_8x9l_vqh0000gn/T/ipykernel_51037/594425415.py:8: SettingWithCopyWarning: \n",
      "A value is trying to be set on a copy of a slice from a DataFrame.\n",
      "Try using .loc[row_indexer,col_indexer] = value instead\n",
      "\n",
      "See the caveats in the documentation: https://pandas.pydata.org/pandas-docs/stable/user_guide/indexing.html#returning-a-view-versus-a-copy\n",
      "  dropped[column + '_encoded'] = label_encoder.fit_transform(dropped[column])\n",
      "/var/folders/w6/jn7_623d6d96165_8x9l_vqh0000gn/T/ipykernel_51037/594425415.py:8: SettingWithCopyWarning: \n",
      "A value is trying to be set on a copy of a slice from a DataFrame.\n",
      "Try using .loc[row_indexer,col_indexer] = value instead\n",
      "\n",
      "See the caveats in the documentation: https://pandas.pydata.org/pandas-docs/stable/user_guide/indexing.html#returning-a-view-versus-a-copy\n",
      "  dropped[column + '_encoded'] = label_encoder.fit_transform(dropped[column])\n",
      "/var/folders/w6/jn7_623d6d96165_8x9l_vqh0000gn/T/ipykernel_51037/594425415.py:8: SettingWithCopyWarning: \n",
      "A value is trying to be set on a copy of a slice from a DataFrame.\n",
      "Try using .loc[row_indexer,col_indexer] = value instead\n",
      "\n",
      "See the caveats in the documentation: https://pandas.pydata.org/pandas-docs/stable/user_guide/indexing.html#returning-a-view-versus-a-copy\n",
      "  dropped[column + '_encoded'] = label_encoder.fit_transform(dropped[column])\n",
      "/var/folders/w6/jn7_623d6d96165_8x9l_vqh0000gn/T/ipykernel_51037/594425415.py:8: SettingWithCopyWarning: \n",
      "A value is trying to be set on a copy of a slice from a DataFrame.\n",
      "Try using .loc[row_indexer,col_indexer] = value instead\n",
      "\n",
      "See the caveats in the documentation: https://pandas.pydata.org/pandas-docs/stable/user_guide/indexing.html#returning-a-view-versus-a-copy\n",
      "  dropped[column + '_encoded'] = label_encoder.fit_transform(dropped[column])\n",
      "/var/folders/w6/jn7_623d6d96165_8x9l_vqh0000gn/T/ipykernel_51037/594425415.py:8: SettingWithCopyWarning: \n",
      "A value is trying to be set on a copy of a slice from a DataFrame.\n",
      "Try using .loc[row_indexer,col_indexer] = value instead\n",
      "\n",
      "See the caveats in the documentation: https://pandas.pydata.org/pandas-docs/stable/user_guide/indexing.html#returning-a-view-versus-a-copy\n",
      "  dropped[column + '_encoded'] = label_encoder.fit_transform(dropped[column])\n",
      "/var/folders/w6/jn7_623d6d96165_8x9l_vqh0000gn/T/ipykernel_51037/594425415.py:8: SettingWithCopyWarning: \n",
      "A value is trying to be set on a copy of a slice from a DataFrame.\n",
      "Try using .loc[row_indexer,col_indexer] = value instead\n",
      "\n",
      "See the caveats in the documentation: https://pandas.pydata.org/pandas-docs/stable/user_guide/indexing.html#returning-a-view-versus-a-copy\n",
      "  dropped[column + '_encoded'] = label_encoder.fit_transform(dropped[column])\n",
      "/var/folders/w6/jn7_623d6d96165_8x9l_vqh0000gn/T/ipykernel_51037/594425415.py:8: SettingWithCopyWarning: \n",
      "A value is trying to be set on a copy of a slice from a DataFrame.\n",
      "Try using .loc[row_indexer,col_indexer] = value instead\n",
      "\n",
      "See the caveats in the documentation: https://pandas.pydata.org/pandas-docs/stable/user_guide/indexing.html#returning-a-view-versus-a-copy\n",
      "  dropped[column + '_encoded'] = label_encoder.fit_transform(dropped[column])\n",
      "/var/folders/w6/jn7_623d6d96165_8x9l_vqh0000gn/T/ipykernel_51037/594425415.py:8: SettingWithCopyWarning: \n",
      "A value is trying to be set on a copy of a slice from a DataFrame.\n",
      "Try using .loc[row_indexer,col_indexer] = value instead\n",
      "\n",
      "See the caveats in the documentation: https://pandas.pydata.org/pandas-docs/stable/user_guide/indexing.html#returning-a-view-versus-a-copy\n",
      "  dropped[column + '_encoded'] = label_encoder.fit_transform(dropped[column])\n",
      "/var/folders/w6/jn7_623d6d96165_8x9l_vqh0000gn/T/ipykernel_51037/594425415.py:8: SettingWithCopyWarning: \n",
      "A value is trying to be set on a copy of a slice from a DataFrame.\n",
      "Try using .loc[row_indexer,col_indexer] = value instead\n",
      "\n",
      "See the caveats in the documentation: https://pandas.pydata.org/pandas-docs/stable/user_guide/indexing.html#returning-a-view-versus-a-copy\n",
      "  dropped[column + '_encoded'] = label_encoder.fit_transform(dropped[column])\n",
      "/var/folders/w6/jn7_623d6d96165_8x9l_vqh0000gn/T/ipykernel_51037/594425415.py:8: SettingWithCopyWarning: \n",
      "A value is trying to be set on a copy of a slice from a DataFrame.\n",
      "Try using .loc[row_indexer,col_indexer] = value instead\n",
      "\n",
      "See the caveats in the documentation: https://pandas.pydata.org/pandas-docs/stable/user_guide/indexing.html#returning-a-view-versus-a-copy\n",
      "  dropped[column + '_encoded'] = label_encoder.fit_transform(dropped[column])\n",
      "/var/folders/w6/jn7_623d6d96165_8x9l_vqh0000gn/T/ipykernel_51037/594425415.py:8: SettingWithCopyWarning: \n",
      "A value is trying to be set on a copy of a slice from a DataFrame.\n",
      "Try using .loc[row_indexer,col_indexer] = value instead\n",
      "\n",
      "See the caveats in the documentation: https://pandas.pydata.org/pandas-docs/stable/user_guide/indexing.html#returning-a-view-versus-a-copy\n",
      "  dropped[column + '_encoded'] = label_encoder.fit_transform(dropped[column])\n",
      "/var/folders/w6/jn7_623d6d96165_8x9l_vqh0000gn/T/ipykernel_51037/594425415.py:8: SettingWithCopyWarning: \n",
      "A value is trying to be set on a copy of a slice from a DataFrame.\n",
      "Try using .loc[row_indexer,col_indexer] = value instead\n",
      "\n",
      "See the caveats in the documentation: https://pandas.pydata.org/pandas-docs/stable/user_guide/indexing.html#returning-a-view-versus-a-copy\n",
      "  dropped[column + '_encoded'] = label_encoder.fit_transform(dropped[column])\n",
      "/var/folders/w6/jn7_623d6d96165_8x9l_vqh0000gn/T/ipykernel_51037/594425415.py:8: SettingWithCopyWarning: \n",
      "A value is trying to be set on a copy of a slice from a DataFrame.\n",
      "Try using .loc[row_indexer,col_indexer] = value instead\n",
      "\n",
      "See the caveats in the documentation: https://pandas.pydata.org/pandas-docs/stable/user_guide/indexing.html#returning-a-view-versus-a-copy\n",
      "  dropped[column + '_encoded'] = label_encoder.fit_transform(dropped[column])\n",
      "/var/folders/w6/jn7_623d6d96165_8x9l_vqh0000gn/T/ipykernel_51037/594425415.py:8: SettingWithCopyWarning: \n",
      "A value is trying to be set on a copy of a slice from a DataFrame.\n",
      "Try using .loc[row_indexer,col_indexer] = value instead\n",
      "\n",
      "See the caveats in the documentation: https://pandas.pydata.org/pandas-docs/stable/user_guide/indexing.html#returning-a-view-versus-a-copy\n",
      "  dropped[column + '_encoded'] = label_encoder.fit_transform(dropped[column])\n",
      "/var/folders/w6/jn7_623d6d96165_8x9l_vqh0000gn/T/ipykernel_51037/594425415.py:8: SettingWithCopyWarning: \n",
      "A value is trying to be set on a copy of a slice from a DataFrame.\n",
      "Try using .loc[row_indexer,col_indexer] = value instead\n",
      "\n",
      "See the caveats in the documentation: https://pandas.pydata.org/pandas-docs/stable/user_guide/indexing.html#returning-a-view-versus-a-copy\n",
      "  dropped[column + '_encoded'] = label_encoder.fit_transform(dropped[column])\n",
      "/var/folders/w6/jn7_623d6d96165_8x9l_vqh0000gn/T/ipykernel_51037/594425415.py:8: SettingWithCopyWarning: \n",
      "A value is trying to be set on a copy of a slice from a DataFrame.\n",
      "Try using .loc[row_indexer,col_indexer] = value instead\n",
      "\n",
      "See the caveats in the documentation: https://pandas.pydata.org/pandas-docs/stable/user_guide/indexing.html#returning-a-view-versus-a-copy\n",
      "  dropped[column + '_encoded'] = label_encoder.fit_transform(dropped[column])\n",
      "/var/folders/w6/jn7_623d6d96165_8x9l_vqh0000gn/T/ipykernel_51037/594425415.py:8: SettingWithCopyWarning: \n",
      "A value is trying to be set on a copy of a slice from a DataFrame.\n",
      "Try using .loc[row_indexer,col_indexer] = value instead\n",
      "\n",
      "See the caveats in the documentation: https://pandas.pydata.org/pandas-docs/stable/user_guide/indexing.html#returning-a-view-versus-a-copy\n",
      "  dropped[column + '_encoded'] = label_encoder.fit_transform(dropped[column])\n",
      "/var/folders/w6/jn7_623d6d96165_8x9l_vqh0000gn/T/ipykernel_51037/594425415.py:8: SettingWithCopyWarning: \n",
      "A value is trying to be set on a copy of a slice from a DataFrame.\n",
      "Try using .loc[row_indexer,col_indexer] = value instead\n",
      "\n",
      "See the caveats in the documentation: https://pandas.pydata.org/pandas-docs/stable/user_guide/indexing.html#returning-a-view-versus-a-copy\n",
      "  dropped[column + '_encoded'] = label_encoder.fit_transform(dropped[column])\n",
      "/var/folders/w6/jn7_623d6d96165_8x9l_vqh0000gn/T/ipykernel_51037/594425415.py:8: SettingWithCopyWarning: \n",
      "A value is trying to be set on a copy of a slice from a DataFrame.\n",
      "Try using .loc[row_indexer,col_indexer] = value instead\n",
      "\n",
      "See the caveats in the documentation: https://pandas.pydata.org/pandas-docs/stable/user_guide/indexing.html#returning-a-view-versus-a-copy\n",
      "  dropped[column + '_encoded'] = label_encoder.fit_transform(dropped[column])\n",
      "/var/folders/w6/jn7_623d6d96165_8x9l_vqh0000gn/T/ipykernel_51037/594425415.py:8: SettingWithCopyWarning: \n",
      "A value is trying to be set on a copy of a slice from a DataFrame.\n",
      "Try using .loc[row_indexer,col_indexer] = value instead\n",
      "\n",
      "See the caveats in the documentation: https://pandas.pydata.org/pandas-docs/stable/user_guide/indexing.html#returning-a-view-versus-a-copy\n",
      "  dropped[column + '_encoded'] = label_encoder.fit_transform(dropped[column])\n",
      "/var/folders/w6/jn7_623d6d96165_8x9l_vqh0000gn/T/ipykernel_51037/594425415.py:8: SettingWithCopyWarning: \n",
      "A value is trying to be set on a copy of a slice from a DataFrame.\n",
      "Try using .loc[row_indexer,col_indexer] = value instead\n",
      "\n",
      "See the caveats in the documentation: https://pandas.pydata.org/pandas-docs/stable/user_guide/indexing.html#returning-a-view-versus-a-copy\n",
      "  dropped[column + '_encoded'] = label_encoder.fit_transform(dropped[column])\n",
      "/var/folders/w6/jn7_623d6d96165_8x9l_vqh0000gn/T/ipykernel_51037/594425415.py:8: SettingWithCopyWarning: \n",
      "A value is trying to be set on a copy of a slice from a DataFrame.\n",
      "Try using .loc[row_indexer,col_indexer] = value instead\n",
      "\n",
      "See the caveats in the documentation: https://pandas.pydata.org/pandas-docs/stable/user_guide/indexing.html#returning-a-view-versus-a-copy\n",
      "  dropped[column + '_encoded'] = label_encoder.fit_transform(dropped[column])\n",
      "/var/folders/w6/jn7_623d6d96165_8x9l_vqh0000gn/T/ipykernel_51037/594425415.py:8: SettingWithCopyWarning: \n",
      "A value is trying to be set on a copy of a slice from a DataFrame.\n",
      "Try using .loc[row_indexer,col_indexer] = value instead\n",
      "\n",
      "See the caveats in the documentation: https://pandas.pydata.org/pandas-docs/stable/user_guide/indexing.html#returning-a-view-versus-a-copy\n",
      "  dropped[column + '_encoded'] = label_encoder.fit_transform(dropped[column])\n",
      "/var/folders/w6/jn7_623d6d96165_8x9l_vqh0000gn/T/ipykernel_51037/594425415.py:8: SettingWithCopyWarning: \n",
      "A value is trying to be set on a copy of a slice from a DataFrame.\n",
      "Try using .loc[row_indexer,col_indexer] = value instead\n",
      "\n",
      "See the caveats in the documentation: https://pandas.pydata.org/pandas-docs/stable/user_guide/indexing.html#returning-a-view-versus-a-copy\n",
      "  dropped[column + '_encoded'] = label_encoder.fit_transform(dropped[column])\n",
      "/var/folders/w6/jn7_623d6d96165_8x9l_vqh0000gn/T/ipykernel_51037/594425415.py:8: SettingWithCopyWarning: \n",
      "A value is trying to be set on a copy of a slice from a DataFrame.\n",
      "Try using .loc[row_indexer,col_indexer] = value instead\n",
      "\n",
      "See the caveats in the documentation: https://pandas.pydata.org/pandas-docs/stable/user_guide/indexing.html#returning-a-view-versus-a-copy\n",
      "  dropped[column + '_encoded'] = label_encoder.fit_transform(dropped[column])\n",
      "/var/folders/w6/jn7_623d6d96165_8x9l_vqh0000gn/T/ipykernel_51037/594425415.py:11: SettingWithCopyWarning: \n",
      "A value is trying to be set on a copy of a slice from a DataFrame\n",
      "\n",
      "See the caveats in the documentation: https://pandas.pydata.org/pandas-docs/stable/user_guide/indexing.html#returning-a-view-versus-a-copy\n",
      "  dropped.drop(categorical_columns, axis=1, inplace=True)\n"
     ]
    }
   ],
   "source": [
    "from sklearn.preprocessing import LabelEncoder\n",
    "# Select categorical columns\n",
    "categorical_columns = dropped.select_dtypes(include=['object', 'category']).columns.tolist()\n",
    "\n",
    "# Use Label Encoding for each categorical column\n",
    "label_encoder = LabelEncoder()\n",
    "for column in categorical_columns:\n",
    "    dropped[column + '_encoded'] = label_encoder.fit_transform(dropped[column])\n",
    "\n",
    "# Drop the original categorical columns\n",
    "dropped.drop(categorical_columns, axis=1, inplace=True)"
   ],
   "metadata": {
    "collapsed": false,
    "ExecuteTime": {
     "end_time": "2024-01-11T04:49:38.718737Z",
     "start_time": "2024-01-11T04:49:38.523975Z"
    }
   }
  },
  {
   "cell_type": "code",
   "execution_count": 41,
   "outputs": [
    {
     "data": {
      "text/plain": "[]"
     },
     "execution_count": 41,
     "metadata": {},
     "output_type": "execute_result"
    }
   ],
   "source": [
    "categorical_columns = dropped.select_dtypes(include=['object', 'category']).columns.tolist()\n",
    "categorical_columns"
   ],
   "metadata": {
    "collapsed": false,
    "ExecuteTime": {
     "end_time": "2024-01-11T04:49:39.727867Z",
     "start_time": "2024-01-11T04:49:39.724167Z"
    }
   }
  },
  {
   "cell_type": "code",
   "execution_count": 42,
   "outputs": [
    {
     "data": {
      "text/plain": "         GameID  Drive  qtr  down  TimeUnder  TimeSecs  PlayTimeDiff  yrdln  \\\n36   2015091000      1    1   NaN         15    3600.0           0.0   35.0   \n51   2015091000      1    1   1.0         15    3600.0           0.0   20.0   \n72   2015091000      1    1   1.0         15    3561.0          39.0   38.0   \n101  2015091000      1    1   2.0         15    3544.0          17.0   47.0   \n122  2015091000      1    1   1.0         14    3506.0          38.0   49.0   \n\n     yrdline100  ydstogo  ...  BlockingPlayer_encoded  Tackler1_encoded  \\\n36         35.0        0  ...                      11              1236   \n51         80.0       10  ...                      11               327   \n72         62.0       10  ...                      11               327   \n101        53.0        1  ...                      11               530   \n122        49.0       10  ...                      11               608   \n\n     Tackler2_encoded  FieldGoalResult_encoded  RecFumbTeam_encoded  \\\n36                709                        3                   32   \n51                709                        3                   32   \n72                709                        3                   32   \n101               464                        3                   32   \n122               709                        3                   32   \n\n     RecFumbPlayer_encoded  ChalReplayResult_encoded  PenalizedTeam_encoded  \\\n36                     360                         2                     32   \n51                     360                         2                     32   \n72                     360                         2                     32   \n101                    360                         2                     32   \n122                    360                         2                     32   \n\n     PenaltyType_encoded  PenalizedPlayer_encoded  \n36                    43                     1138  \n51                    43                     1138  \n72                    43                     1138  \n101                   43                     1138  \n122                   43                     1138  \n\n[5 rows x 66 columns]",
      "text/html": "<div>\n<style scoped>\n    .dataframe tbody tr th:only-of-type {\n        vertical-align: middle;\n    }\n\n    .dataframe tbody tr th {\n        vertical-align: top;\n    }\n\n    .dataframe thead th {\n        text-align: right;\n    }\n</style>\n<table border=\"1\" class=\"dataframe\">\n  <thead>\n    <tr style=\"text-align: right;\">\n      <th></th>\n      <th>GameID</th>\n      <th>Drive</th>\n      <th>qtr</th>\n      <th>down</th>\n      <th>TimeUnder</th>\n      <th>TimeSecs</th>\n      <th>PlayTimeDiff</th>\n      <th>yrdln</th>\n      <th>yrdline100</th>\n      <th>ydstogo</th>\n      <th>...</th>\n      <th>BlockingPlayer_encoded</th>\n      <th>Tackler1_encoded</th>\n      <th>Tackler2_encoded</th>\n      <th>FieldGoalResult_encoded</th>\n      <th>RecFumbTeam_encoded</th>\n      <th>RecFumbPlayer_encoded</th>\n      <th>ChalReplayResult_encoded</th>\n      <th>PenalizedTeam_encoded</th>\n      <th>PenaltyType_encoded</th>\n      <th>PenalizedPlayer_encoded</th>\n    </tr>\n  </thead>\n  <tbody>\n    <tr>\n      <th>36</th>\n      <td>2015091000</td>\n      <td>1</td>\n      <td>1</td>\n      <td>NaN</td>\n      <td>15</td>\n      <td>3600.0</td>\n      <td>0.0</td>\n      <td>35.0</td>\n      <td>35.0</td>\n      <td>0</td>\n      <td>...</td>\n      <td>11</td>\n      <td>1236</td>\n      <td>709</td>\n      <td>3</td>\n      <td>32</td>\n      <td>360</td>\n      <td>2</td>\n      <td>32</td>\n      <td>43</td>\n      <td>1138</td>\n    </tr>\n    <tr>\n      <th>51</th>\n      <td>2015091000</td>\n      <td>1</td>\n      <td>1</td>\n      <td>1.0</td>\n      <td>15</td>\n      <td>3600.0</td>\n      <td>0.0</td>\n      <td>20.0</td>\n      <td>80.0</td>\n      <td>10</td>\n      <td>...</td>\n      <td>11</td>\n      <td>327</td>\n      <td>709</td>\n      <td>3</td>\n      <td>32</td>\n      <td>360</td>\n      <td>2</td>\n      <td>32</td>\n      <td>43</td>\n      <td>1138</td>\n    </tr>\n    <tr>\n      <th>72</th>\n      <td>2015091000</td>\n      <td>1</td>\n      <td>1</td>\n      <td>1.0</td>\n      <td>15</td>\n      <td>3561.0</td>\n      <td>39.0</td>\n      <td>38.0</td>\n      <td>62.0</td>\n      <td>10</td>\n      <td>...</td>\n      <td>11</td>\n      <td>327</td>\n      <td>709</td>\n      <td>3</td>\n      <td>32</td>\n      <td>360</td>\n      <td>2</td>\n      <td>32</td>\n      <td>43</td>\n      <td>1138</td>\n    </tr>\n    <tr>\n      <th>101</th>\n      <td>2015091000</td>\n      <td>1</td>\n      <td>1</td>\n      <td>2.0</td>\n      <td>15</td>\n      <td>3544.0</td>\n      <td>17.0</td>\n      <td>47.0</td>\n      <td>53.0</td>\n      <td>1</td>\n      <td>...</td>\n      <td>11</td>\n      <td>530</td>\n      <td>464</td>\n      <td>3</td>\n      <td>32</td>\n      <td>360</td>\n      <td>2</td>\n      <td>32</td>\n      <td>43</td>\n      <td>1138</td>\n    </tr>\n    <tr>\n      <th>122</th>\n      <td>2015091000</td>\n      <td>1</td>\n      <td>1</td>\n      <td>1.0</td>\n      <td>14</td>\n      <td>3506.0</td>\n      <td>38.0</td>\n      <td>49.0</td>\n      <td>49.0</td>\n      <td>10</td>\n      <td>...</td>\n      <td>11</td>\n      <td>608</td>\n      <td>709</td>\n      <td>3</td>\n      <td>32</td>\n      <td>360</td>\n      <td>2</td>\n      <td>32</td>\n      <td>43</td>\n      <td>1138</td>\n    </tr>\n  </tbody>\n</table>\n<p>5 rows × 66 columns</p>\n</div>"
     },
     "execution_count": 42,
     "metadata": {},
     "output_type": "execute_result"
    }
   ],
   "source": [
    "dropped.head(5)"
   ],
   "metadata": {
    "collapsed": false,
    "ExecuteTime": {
     "end_time": "2024-01-11T04:49:41.596733Z",
     "start_time": "2024-01-11T04:49:41.588970Z"
    }
   }
  },
  {
   "cell_type": "code",
   "execution_count": 43,
   "outputs": [
    {
     "name": "stdout",
     "output_type": "stream",
     "text": [
      "Your selected dataframe has 66 columns.\n",
      "There are 2 columns that have missing values.\n"
     ]
    },
    {
     "data": {
      "text/plain": "           Missing Values  % of Total Values Data Type\ndown                 3872                9.0   float64\nFirstDown            2549                5.9   float64",
      "text/html": "<div>\n<style scoped>\n    .dataframe tbody tr th:only-of-type {\n        vertical-align: middle;\n    }\n\n    .dataframe tbody tr th {\n        vertical-align: top;\n    }\n\n    .dataframe thead th {\n        text-align: right;\n    }\n</style>\n<table border=\"1\" class=\"dataframe\">\n  <thead>\n    <tr style=\"text-align: right;\">\n      <th></th>\n      <th>Missing Values</th>\n      <th>% of Total Values</th>\n      <th>Data Type</th>\n    </tr>\n  </thead>\n  <tbody>\n    <tr>\n      <th>down</th>\n      <td>3872</td>\n      <td>9.0</td>\n      <td>float64</td>\n    </tr>\n    <tr>\n      <th>FirstDown</th>\n      <td>2549</td>\n      <td>5.9</td>\n      <td>float64</td>\n    </tr>\n  </tbody>\n</table>\n</div>"
     },
     "execution_count": 43,
     "metadata": {},
     "output_type": "execute_result"
    }
   ],
   "source": [
    "missing_values_table(dropped)"
   ],
   "metadata": {
    "collapsed": false,
    "ExecuteTime": {
     "end_time": "2024-01-11T04:49:42.405424Z",
     "start_time": "2024-01-11T04:49:42.395643Z"
    }
   }
  },
  {
   "cell_type": "code",
   "execution_count": 44,
   "outputs": [],
   "source": [
    "path = os.path.join('Final-Datasets', 'NFL-processed.csv')"
   ],
   "metadata": {
    "collapsed": false,
    "ExecuteTime": {
     "end_time": "2024-01-11T04:49:47.563032Z",
     "start_time": "2024-01-11T04:49:47.558417Z"
    }
   }
  },
  {
   "cell_type": "code",
   "execution_count": 45,
   "outputs": [
    {
     "data": {
      "text/plain": "(42878, 66)"
     },
     "execution_count": 45,
     "metadata": {},
     "output_type": "execute_result"
    }
   ],
   "source": [
    "dropped.shape"
   ],
   "metadata": {
    "collapsed": false,
    "ExecuteTime": {
     "end_time": "2024-01-11T04:49:48.081298Z",
     "start_time": "2024-01-11T04:49:48.078231Z"
    }
   }
  },
  {
   "cell_type": "code",
   "execution_count": 46,
   "outputs": [],
   "source": [
    "dropped.to_csv(path,index=False)"
   ],
   "metadata": {
    "collapsed": false,
    "ExecuteTime": {
     "end_time": "2024-01-11T04:49:49.013831Z",
     "start_time": "2024-01-11T04:49:48.687233Z"
    }
   }
  },
  {
   "cell_type": "code",
   "execution_count": null,
   "outputs": [],
   "source": [],
   "metadata": {
    "collapsed": false
   }
  }
 ],
 "metadata": {
  "kernelspec": {
   "display_name": "Python 3",
   "language": "python",
   "name": "python3"
  },
  "language_info": {
   "codemirror_mode": {
    "name": "ipython",
    "version": 2
   },
   "file_extension": ".py",
   "mimetype": "text/x-python",
   "name": "python",
   "nbconvert_exporter": "python",
   "pygments_lexer": "ipython2",
   "version": "2.7.6"
  }
 },
 "nbformat": 4,
 "nbformat_minor": 0
}
