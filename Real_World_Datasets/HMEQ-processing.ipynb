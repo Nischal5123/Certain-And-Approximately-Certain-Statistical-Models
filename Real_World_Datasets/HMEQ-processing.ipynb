{
 "cells": [
  {
   "cell_type": "code",
   "execution_count": 73,
   "metadata": {
    "collapsed": true,
    "ExecuteTime": {
     "end_time": "2024-01-18T03:51:33.187386Z",
     "start_time": "2024-01-18T03:51:33.184467Z"
    }
   },
   "outputs": [],
   "source": [
    "import pandas as pd\n",
    "import os\n",
    "from utils import drop_categorical_columns\n",
    "from utils import missing_values_table"
   ]
  },
  {
   "cell_type": "code",
   "execution_count": 74,
   "outputs": [],
   "source": [
    "def drop_label_with_null(df, column_name):\n",
    "    # Drop rows where the specified column is null\n",
    "    df_cleaned = df.dropna(subset=[column_name])\n",
    "\n",
    "    return df_cleaned"
   ],
   "metadata": {
    "collapsed": false,
    "ExecuteTime": {
     "end_time": "2024-01-18T03:51:34.402864Z",
     "start_time": "2024-01-18T03:51:34.399822Z"
    }
   }
  },
  {
   "cell_type": "code",
   "execution_count": 75,
   "outputs": [
    {
     "data": {
      "text/plain": "(8783, 17)"
     },
     "execution_count": 75,
     "metadata": {},
     "output_type": "execute_result"
    }
   ],
   "source": [
    "path = os.path.join('Final-Datasets', 'HMEQ.csv')\n",
    "original = pd.read_csv(path,index_col=0)\n",
    "original.shape\n"
   ],
   "metadata": {
    "collapsed": false,
    "ExecuteTime": {
     "end_time": "2024-01-18T03:51:34.779010Z",
     "start_time": "2024-01-18T03:51:34.764113Z"
    }
   }
  },
  {
   "cell_type": "code",
   "execution_count": 76,
   "outputs": [
    {
     "data": {
      "text/plain": "(8783, 17)"
     },
     "execution_count": 76,
     "metadata": {},
     "output_type": "execute_result"
    }
   ],
   "source": [
    "dropped=drop_label_with_null(original, 'Happy with online education?')\n",
    "dropped.shape"
   ],
   "metadata": {
    "collapsed": false,
    "ExecuteTime": {
     "end_time": "2024-01-18T03:51:35.337975Z",
     "start_time": "2024-01-18T03:51:35.329299Z"
    }
   }
  },
  {
   "cell_type": "code",
   "execution_count": 77,
   "outputs": [
    {
     "data": {
      "text/plain": "  Level of study?  Age?  \\\n0        Upto HSC  20.0   \n1  Hons or Grater  25.0   \n2  Hons or Grater  25.0   \n\n  Used smartphone/computer/laptop previously before online class?  \\\n0                                                Yes                \n1                                                 No                \n2                                                Yes                \n\n  Result increased after online education  (comparatively)?  \\\n0                                                 No          \n1                                                 No          \n2                                                Yes          \n\n  Knowledge increased after online education (comparatively)?  \\\n0                                                Yes            \n1                                                 No            \n2                                                Yes            \n\n  Happy with online education? Education Institute Area?  \\\n0                           No                     Urban   \n1                           No                     Urban   \n2                          Yes                     Rural   \n\n  Have Internet availability? Broadband / Mobile Internet?  \\\n0                          No                    Broadband   \n1                          No              Mobile Internet   \n2                          No              Mobile Internet   \n\n   Total hours of study before online education?  \\\n0                                              4   \n1                                              4   \n2                                              5   \n\n   Total hours of study after online education?  \\\n0                                             3   \n1                                             4   \n2                                             2   \n\n  Class performance increased in online education? Institute Type  \\\n0                                               No         Public   \n1                                               No         Public   \n2                                              Yes         Public   \n\n  Current location (During Study) ?  Gender  \\\n0                             Rural    Male   \n1                             Rural    Male   \n2                             Rural  Female   \n\n  Faced any issue with online class? Preferred device for an online course  \n0                                Yes                                Mobile  \n1                                Yes                                Mobile  \n2                                Yes                              Computer  ",
      "text/html": "<div>\n<style scoped>\n    .dataframe tbody tr th:only-of-type {\n        vertical-align: middle;\n    }\n\n    .dataframe tbody tr th {\n        vertical-align: top;\n    }\n\n    .dataframe thead th {\n        text-align: right;\n    }\n</style>\n<table border=\"1\" class=\"dataframe\">\n  <thead>\n    <tr style=\"text-align: right;\">\n      <th></th>\n      <th>Level of study?</th>\n      <th>Age?</th>\n      <th>Used smartphone/computer/laptop previously before online class?</th>\n      <th>Result increased after online education  (comparatively)?</th>\n      <th>Knowledge increased after online education (comparatively)?</th>\n      <th>Happy with online education?</th>\n      <th>Education Institute Area?</th>\n      <th>Have Internet availability?</th>\n      <th>Broadband / Mobile Internet?</th>\n      <th>Total hours of study before online education?</th>\n      <th>Total hours of study after online education?</th>\n      <th>Class performance increased in online education?</th>\n      <th>Institute Type</th>\n      <th>Current location (During Study) ?</th>\n      <th>Gender</th>\n      <th>Faced any issue with online class?</th>\n      <th>Preferred device for an online course</th>\n    </tr>\n  </thead>\n  <tbody>\n    <tr>\n      <th>0</th>\n      <td>Upto HSC</td>\n      <td>20.0</td>\n      <td>Yes</td>\n      <td>No</td>\n      <td>Yes</td>\n      <td>No</td>\n      <td>Urban</td>\n      <td>No</td>\n      <td>Broadband</td>\n      <td>4</td>\n      <td>3</td>\n      <td>No</td>\n      <td>Public</td>\n      <td>Rural</td>\n      <td>Male</td>\n      <td>Yes</td>\n      <td>Mobile</td>\n    </tr>\n    <tr>\n      <th>1</th>\n      <td>Hons or Grater</td>\n      <td>25.0</td>\n      <td>No</td>\n      <td>No</td>\n      <td>No</td>\n      <td>No</td>\n      <td>Urban</td>\n      <td>No</td>\n      <td>Mobile Internet</td>\n      <td>4</td>\n      <td>4</td>\n      <td>No</td>\n      <td>Public</td>\n      <td>Rural</td>\n      <td>Male</td>\n      <td>Yes</td>\n      <td>Mobile</td>\n    </tr>\n    <tr>\n      <th>2</th>\n      <td>Hons or Grater</td>\n      <td>25.0</td>\n      <td>Yes</td>\n      <td>Yes</td>\n      <td>Yes</td>\n      <td>Yes</td>\n      <td>Rural</td>\n      <td>No</td>\n      <td>Mobile Internet</td>\n      <td>5</td>\n      <td>2</td>\n      <td>Yes</td>\n      <td>Public</td>\n      <td>Rural</td>\n      <td>Female</td>\n      <td>Yes</td>\n      <td>Computer</td>\n    </tr>\n  </tbody>\n</table>\n</div>"
     },
     "execution_count": 77,
     "metadata": {},
     "output_type": "execute_result"
    }
   ],
   "source": [
    "dropped.head(3)"
   ],
   "metadata": {
    "collapsed": false,
    "ExecuteTime": {
     "end_time": "2024-01-18T03:51:35.784805Z",
     "start_time": "2024-01-18T03:51:35.779836Z"
    }
   }
  },
  {
   "cell_type": "code",
   "execution_count": 78,
   "outputs": [
    {
     "name": "stdout",
     "output_type": "stream",
     "text": [
      "14\n",
      "['Level of study?', 'Used smartphone/computer/laptop previously before online class?', 'Result increased after online education  (comparatively)?', 'Knowledge increased after online education (comparatively)?', 'Happy with online education?', 'Education Institute Area?', 'Have Internet availability?', 'Broadband / Mobile Internet?', 'Class performance increased in online education?', 'Institute Type', 'Current location (During Study) ?', 'Gender', 'Faced any issue with online class?', 'Preferred device for an online course']\n"
     ]
    }
   ],
   "source": [
    "categorical_columns = dropped.select_dtypes(include=['object', 'category']).columns.tolist()\n",
    "print(len(categorical_columns))\n",
    "for col in categorical_columns:\n",
    "    dropped[col] = pd.to_numeric(dropped[col], errors='ignore')\n",
    "# after those are taken care of we can drop the columns that are still object\n",
    "categorical_columns = dropped.select_dtypes(include=['object', 'category']).columns.tolist()\n",
    "print(categorical_columns)"
   ],
   "metadata": {
    "collapsed": false,
    "ExecuteTime": {
     "end_time": "2024-01-18T03:51:36.518629Z",
     "start_time": "2024-01-18T03:51:36.509012Z"
    }
   }
  },
  {
   "cell_type": "code",
   "execution_count": 79,
   "outputs": [
    {
     "name": "stdout",
     "output_type": "stream",
     "text": [
      "Your selected dataframe has 17 columns.\n",
      "There are 8 columns that have missing values.\n"
     ]
    },
    {
     "data": {
      "text/plain": "                                                    Missing Values  \\\nInstitute Type                                                 726   \nCurrent location (During Study) ?                              726   \nFaced any issue with online class?                             701   \nGender                                                         676   \nEducation Institute Area?                                      529   \nAge?                                                           445   \nResult increased after online education  (compa...             323   \nUsed smartphone/computer/laptop previously befo...             188   \n\n                                                    % of Total Values  \\\nInstitute Type                                                    8.3   \nCurrent location (During Study) ?                                 8.3   \nFaced any issue with online class?                                8.0   \nGender                                                            7.7   \nEducation Institute Area?                                         6.0   \nAge?                                                              5.1   \nResult increased after online education  (compa...                3.7   \nUsed smartphone/computer/laptop previously befo...                2.1   \n\n                                                   Data Type  \nInstitute Type                                        object  \nCurrent location (During Study) ?                     object  \nFaced any issue with online class?                    object  \nGender                                                object  \nEducation Institute Area?                             object  \nAge?                                                 float64  \nResult increased after online education  (compa...    object  \nUsed smartphone/computer/laptop previously befo...    object  ",
      "text/html": "<div>\n<style scoped>\n    .dataframe tbody tr th:only-of-type {\n        vertical-align: middle;\n    }\n\n    .dataframe tbody tr th {\n        vertical-align: top;\n    }\n\n    .dataframe thead th {\n        text-align: right;\n    }\n</style>\n<table border=\"1\" class=\"dataframe\">\n  <thead>\n    <tr style=\"text-align: right;\">\n      <th></th>\n      <th>Missing Values</th>\n      <th>% of Total Values</th>\n      <th>Data Type</th>\n    </tr>\n  </thead>\n  <tbody>\n    <tr>\n      <th>Institute Type</th>\n      <td>726</td>\n      <td>8.3</td>\n      <td>object</td>\n    </tr>\n    <tr>\n      <th>Current location (During Study) ?</th>\n      <td>726</td>\n      <td>8.3</td>\n      <td>object</td>\n    </tr>\n    <tr>\n      <th>Faced any issue with online class?</th>\n      <td>701</td>\n      <td>8.0</td>\n      <td>object</td>\n    </tr>\n    <tr>\n      <th>Gender</th>\n      <td>676</td>\n      <td>7.7</td>\n      <td>object</td>\n    </tr>\n    <tr>\n      <th>Education Institute Area?</th>\n      <td>529</td>\n      <td>6.0</td>\n      <td>object</td>\n    </tr>\n    <tr>\n      <th>Age?</th>\n      <td>445</td>\n      <td>5.1</td>\n      <td>float64</td>\n    </tr>\n    <tr>\n      <th>Result increased after online education  (comparatively)?</th>\n      <td>323</td>\n      <td>3.7</td>\n      <td>object</td>\n    </tr>\n    <tr>\n      <th>Used smartphone/computer/laptop previously before online class?</th>\n      <td>188</td>\n      <td>2.1</td>\n      <td>object</td>\n    </tr>\n  </tbody>\n</table>\n</div>"
     },
     "execution_count": 79,
     "metadata": {},
     "output_type": "execute_result"
    }
   ],
   "source": [
    "missing_values_table(dropped)"
   ],
   "metadata": {
    "collapsed": false,
    "ExecuteTime": {
     "end_time": "2024-01-18T03:51:37.558994Z",
     "start_time": "2024-01-18T03:51:37.550555Z"
    }
   }
  },
  {
   "cell_type": "code",
   "execution_count": 80,
   "outputs": [
    {
     "name": "stdout",
     "output_type": "stream",
     "text": [
      "This column doesnt have nulls Level of study?\n",
      "This column doesnt have nulls Knowledge increased after online education (comparatively)?\n",
      "This column doesnt have nulls Happy with online education?\n",
      "This column doesnt have nulls Education Institute Area?\n",
      "This column doesnt have nulls Have Internet availability?\n",
      "This column doesnt have nulls Broadband / Mobile Internet?\n",
      "This column doesnt have nulls Class performance increased in online education?\n",
      "This column doesnt have nulls Institute Type\n",
      "This column doesnt have nulls Current location (During Study) ?\n",
      "This column doesnt have nulls Preferred device for an online course\n"
     ]
    },
    {
     "name": "stderr",
     "output_type": "stream",
     "text": [
      "/Users/aryal/anaconda3/envs/Certain-Models/lib/python3.10/site-packages/sklearn/preprocessing/_encoders.py:975: FutureWarning: `sparse` was renamed to `sparse_output` in version 1.2 and will be removed in 1.4. `sparse_output` is ignored unless you leave `sparse` to its default value.\n",
      "  warnings.warn(\n",
      "/Users/aryal/anaconda3/envs/Certain-Models/lib/python3.10/site-packages/sklearn/preprocessing/_encoders.py:975: FutureWarning: `sparse` was renamed to `sparse_output` in version 1.2 and will be removed in 1.4. `sparse_output` is ignored unless you leave `sparse` to its default value.\n",
      "  warnings.warn(\n",
      "/Users/aryal/anaconda3/envs/Certain-Models/lib/python3.10/site-packages/sklearn/preprocessing/_encoders.py:975: FutureWarning: `sparse` was renamed to `sparse_output` in version 1.2 and will be removed in 1.4. `sparse_output` is ignored unless you leave `sparse` to its default value.\n",
      "  warnings.warn(\n",
      "/Users/aryal/anaconda3/envs/Certain-Models/lib/python3.10/site-packages/sklearn/preprocessing/_encoders.py:975: FutureWarning: `sparse` was renamed to `sparse_output` in version 1.2 and will be removed in 1.4. `sparse_output` is ignored unless you leave `sparse` to its default value.\n",
      "  warnings.warn(\n",
      "/Users/aryal/anaconda3/envs/Certain-Models/lib/python3.10/site-packages/sklearn/preprocessing/_encoders.py:975: FutureWarning: `sparse` was renamed to `sparse_output` in version 1.2 and will be removed in 1.4. `sparse_output` is ignored unless you leave `sparse` to its default value.\n",
      "  warnings.warn(\n",
      "/Users/aryal/anaconda3/envs/Certain-Models/lib/python3.10/site-packages/sklearn/preprocessing/_encoders.py:975: FutureWarning: `sparse` was renamed to `sparse_output` in version 1.2 and will be removed in 1.4. `sparse_output` is ignored unless you leave `sparse` to its default value.\n",
      "  warnings.warn(\n",
      "/Users/aryal/anaconda3/envs/Certain-Models/lib/python3.10/site-packages/sklearn/preprocessing/_encoders.py:975: FutureWarning: `sparse` was renamed to `sparse_output` in version 1.2 and will be removed in 1.4. `sparse_output` is ignored unless you leave `sparse` to its default value.\n",
      "  warnings.warn(\n",
      "/Users/aryal/anaconda3/envs/Certain-Models/lib/python3.10/site-packages/sklearn/preprocessing/_encoders.py:975: FutureWarning: `sparse` was renamed to `sparse_output` in version 1.2 and will be removed in 1.4. `sparse_output` is ignored unless you leave `sparse` to its default value.\n",
      "  warnings.warn(\n",
      "/Users/aryal/anaconda3/envs/Certain-Models/lib/python3.10/site-packages/sklearn/preprocessing/_encoders.py:975: FutureWarning: `sparse` was renamed to `sparse_output` in version 1.2 and will be removed in 1.4. `sparse_output` is ignored unless you leave `sparse` to its default value.\n",
      "  warnings.warn(\n",
      "/Users/aryal/anaconda3/envs/Certain-Models/lib/python3.10/site-packages/sklearn/preprocessing/_encoders.py:975: FutureWarning: `sparse` was renamed to `sparse_output` in version 1.2 and will be removed in 1.4. `sparse_output` is ignored unless you leave `sparse` to its default value.\n",
      "  warnings.warn(\n",
      "/Users/aryal/anaconda3/envs/Certain-Models/lib/python3.10/site-packages/sklearn/preprocessing/_encoders.py:975: FutureWarning: `sparse` was renamed to `sparse_output` in version 1.2 and will be removed in 1.4. `sparse_output` is ignored unless you leave `sparse` to its default value.\n",
      "  warnings.warn(\n",
      "/Users/aryal/anaconda3/envs/Certain-Models/lib/python3.10/site-packages/sklearn/preprocessing/_encoders.py:975: FutureWarning: `sparse` was renamed to `sparse_output` in version 1.2 and will be removed in 1.4. `sparse_output` is ignored unless you leave `sparse` to its default value.\n",
      "  warnings.warn(\n",
      "/Users/aryal/anaconda3/envs/Certain-Models/lib/python3.10/site-packages/sklearn/preprocessing/_encoders.py:975: FutureWarning: `sparse` was renamed to `sparse_output` in version 1.2 and will be removed in 1.4. `sparse_output` is ignored unless you leave `sparse` to its default value.\n",
      "  warnings.warn(\n",
      "/Users/aryal/anaconda3/envs/Certain-Models/lib/python3.10/site-packages/sklearn/preprocessing/_encoders.py:975: FutureWarning: `sparse` was renamed to `sparse_output` in version 1.2 and will be removed in 1.4. `sparse_output` is ignored unless you leave `sparse` to its default value.\n",
      "  warnings.warn(\n"
     ]
    }
   ],
   "source": [
    "#others then handle nullls\n",
    "\n",
    "import pandas as pd\n",
    "from sklearn.preprocessing import OneHotEncoder\n",
    "df=dropped\n",
    "# Select categorical columns\n",
    "categorical_columns = df.select_dtypes(include=['object', 'category']).columns.tolist()\n",
    "\n",
    "# Create a copy of the original dataframe to preserve the original columns\n",
    "df_encoded = df.copy()\n",
    "\n",
    "# Create an empty DataFrame to store the encoded columns\n",
    "encoded_data_frames = []\n",
    "\n",
    "# Define a list of transformers for each categorical column\n",
    "for col in categorical_columns:\n",
    "    # Replace null values with \"Others\" in the original column\n",
    "    df_encoded[col].fillna(\"Others\", inplace=True)\n",
    "\n",
    "    # Create dummy variables using OneHotEncoder\n",
    "    encoder = OneHotEncoder(sparse=False, handle_unknown='ignore',drop='first')\n",
    "    encoded_data = encoder.fit_transform(df_encoded[[col]])\n",
    "\n",
    "    # Get column names based on the original column and category\n",
    "    column_names = [category for category in encoder.get_feature_names_out([col])]\n",
    "\n",
    "    # Create a DataFrame for the encoded data\n",
    "    encoded_df = pd.DataFrame(encoded_data, columns=column_names, index=df_encoded.index)\n",
    "\n",
    "    try:\n",
    "      new_column_name = f\"{col}_{'Others'}\"\n",
    "      # Drop the original column and the dummy variables for \"Others\"\n",
    "\n",
    "      encoded_df.loc[df[col].isnull(), column_names] = pd.NA\n",
    "      encoded_df.drop([new_column_name], axis=1, inplace=True)\n",
    "    except:\n",
    "      print('This column doesnt have nulls',col)\n",
    "\n",
    "    # Add the encoded DataFrame to the list\n",
    "    encoded_data_frames.append(encoded_df)\n",
    "\n",
    "# Concatenate the original DataFrame and the list of encoded DataFrames\n",
    "df_encoded = pd.concat([df_encoded] + encoded_data_frames, axis=1)\n",
    "\n",
    "# Drop the original categorical columns\n",
    "df_encoded.drop(categorical_columns, axis=1, inplace=True)\n",
    "\n",
    "# Now, the df_encoded DataFrame contains the changes made to categorical columns, with null values preserved."
   ],
   "metadata": {
    "collapsed": false,
    "ExecuteTime": {
     "end_time": "2024-01-18T03:51:38.692906Z",
     "start_time": "2024-01-18T03:51:38.634183Z"
    }
   }
  },
  {
   "cell_type": "code",
   "execution_count": 81,
   "outputs": [
    {
     "name": "stdout",
     "output_type": "stream",
     "text": [
      "Your selected dataframe has 17 columns.\n",
      "There are 8 columns that have missing values.\n"
     ]
    },
    {
     "data": {
      "text/plain": "                                                    Missing Values  \\\nInstitute Type                                                 726   \nCurrent location (During Study) ?                              726   \nFaced any issue with online class?                             701   \nGender                                                         676   \nEducation Institute Area?                                      529   \nAge?                                                           445   \nResult increased after online education  (compa...             323   \nUsed smartphone/computer/laptop previously befo...             188   \n\n                                                    % of Total Values  \\\nInstitute Type                                                    8.3   \nCurrent location (During Study) ?                                 8.3   \nFaced any issue with online class?                                8.0   \nGender                                                            7.7   \nEducation Institute Area?                                         6.0   \nAge?                                                              5.1   \nResult increased after online education  (compa...                3.7   \nUsed smartphone/computer/laptop previously befo...                2.1   \n\n                                                   Data Type  \nInstitute Type                                        object  \nCurrent location (During Study) ?                     object  \nFaced any issue with online class?                    object  \nGender                                                object  \nEducation Institute Area?                             object  \nAge?                                                 float64  \nResult increased after online education  (compa...    object  \nUsed smartphone/computer/laptop previously befo...    object  ",
      "text/html": "<div>\n<style scoped>\n    .dataframe tbody tr th:only-of-type {\n        vertical-align: middle;\n    }\n\n    .dataframe tbody tr th {\n        vertical-align: top;\n    }\n\n    .dataframe thead th {\n        text-align: right;\n    }\n</style>\n<table border=\"1\" class=\"dataframe\">\n  <thead>\n    <tr style=\"text-align: right;\">\n      <th></th>\n      <th>Missing Values</th>\n      <th>% of Total Values</th>\n      <th>Data Type</th>\n    </tr>\n  </thead>\n  <tbody>\n    <tr>\n      <th>Institute Type</th>\n      <td>726</td>\n      <td>8.3</td>\n      <td>object</td>\n    </tr>\n    <tr>\n      <th>Current location (During Study) ?</th>\n      <td>726</td>\n      <td>8.3</td>\n      <td>object</td>\n    </tr>\n    <tr>\n      <th>Faced any issue with online class?</th>\n      <td>701</td>\n      <td>8.0</td>\n      <td>object</td>\n    </tr>\n    <tr>\n      <th>Gender</th>\n      <td>676</td>\n      <td>7.7</td>\n      <td>object</td>\n    </tr>\n    <tr>\n      <th>Education Institute Area?</th>\n      <td>529</td>\n      <td>6.0</td>\n      <td>object</td>\n    </tr>\n    <tr>\n      <th>Age?</th>\n      <td>445</td>\n      <td>5.1</td>\n      <td>float64</td>\n    </tr>\n    <tr>\n      <th>Result increased after online education  (comparatively)?</th>\n      <td>323</td>\n      <td>3.7</td>\n      <td>object</td>\n    </tr>\n    <tr>\n      <th>Used smartphone/computer/laptop previously before online class?</th>\n      <td>188</td>\n      <td>2.1</td>\n      <td>object</td>\n    </tr>\n  </tbody>\n</table>\n</div>"
     },
     "execution_count": 81,
     "metadata": {},
     "output_type": "execute_result"
    }
   ],
   "source": [
    "missing_values_table(df)"
   ],
   "metadata": {
    "collapsed": false,
    "ExecuteTime": {
     "end_time": "2024-01-18T03:51:40.220082Z",
     "start_time": "2024-01-18T03:51:40.204313Z"
    }
   }
  },
  {
   "cell_type": "code",
   "execution_count": 82,
   "outputs": [
    {
     "name": "stdout",
     "output_type": "stream",
     "text": [
      "Your selected dataframe has 20 columns.\n",
      "There are 11 columns that have missing values.\n"
     ]
    },
    {
     "data": {
      "text/plain": "                                                    Missing Values  \\\nInstitute Type_Private                                         726   \nInstitute Type_Public                                          726   \nCurrent location (During Study) ?_Rural                        726   \nCurrent location (During Study) ?_Urban                        726   \nFaced any issue with online class?_Yes                         701   \nGender_Male                                                    676   \nEducation Institute Area?_Rural                                529   \nEducation Institute Area?_Urban                                529   \nAge?                                                           445   \nResult increased after online education  (compa...             323   \nUsed smartphone/computer/laptop previously befo...             188   \n\n                                                    % of Total Values  \\\nInstitute Type_Private                                            8.3   \nInstitute Type_Public                                             8.3   \nCurrent location (During Study) ?_Rural                           8.3   \nCurrent location (During Study) ?_Urban                           8.3   \nFaced any issue with online class?_Yes                            8.0   \nGender_Male                                                       7.7   \nEducation Institute Area?_Rural                                   6.0   \nEducation Institute Area?_Urban                                   6.0   \nAge?                                                              5.1   \nResult increased after online education  (compa...                3.7   \nUsed smartphone/computer/laptop previously befo...                2.1   \n\n                                                   Data Type  \nInstitute Type_Private                               float64  \nInstitute Type_Public                                float64  \nCurrent location (During Study) ?_Rural              float64  \nCurrent location (During Study) ?_Urban              float64  \nFaced any issue with online class?_Yes               float64  \nGender_Male                                          float64  \nEducation Institute Area?_Rural                      float64  \nEducation Institute Area?_Urban                      float64  \nAge?                                                 float64  \nResult increased after online education  (compa...   float64  \nUsed smartphone/computer/laptop previously befo...   float64  ",
      "text/html": "<div>\n<style scoped>\n    .dataframe tbody tr th:only-of-type {\n        vertical-align: middle;\n    }\n\n    .dataframe tbody tr th {\n        vertical-align: top;\n    }\n\n    .dataframe thead th {\n        text-align: right;\n    }\n</style>\n<table border=\"1\" class=\"dataframe\">\n  <thead>\n    <tr style=\"text-align: right;\">\n      <th></th>\n      <th>Missing Values</th>\n      <th>% of Total Values</th>\n      <th>Data Type</th>\n    </tr>\n  </thead>\n  <tbody>\n    <tr>\n      <th>Institute Type_Private</th>\n      <td>726</td>\n      <td>8.3</td>\n      <td>float64</td>\n    </tr>\n    <tr>\n      <th>Institute Type_Public</th>\n      <td>726</td>\n      <td>8.3</td>\n      <td>float64</td>\n    </tr>\n    <tr>\n      <th>Current location (During Study) ?_Rural</th>\n      <td>726</td>\n      <td>8.3</td>\n      <td>float64</td>\n    </tr>\n    <tr>\n      <th>Current location (During Study) ?_Urban</th>\n      <td>726</td>\n      <td>8.3</td>\n      <td>float64</td>\n    </tr>\n    <tr>\n      <th>Faced any issue with online class?_Yes</th>\n      <td>701</td>\n      <td>8.0</td>\n      <td>float64</td>\n    </tr>\n    <tr>\n      <th>Gender_Male</th>\n      <td>676</td>\n      <td>7.7</td>\n      <td>float64</td>\n    </tr>\n    <tr>\n      <th>Education Institute Area?_Rural</th>\n      <td>529</td>\n      <td>6.0</td>\n      <td>float64</td>\n    </tr>\n    <tr>\n      <th>Education Institute Area?_Urban</th>\n      <td>529</td>\n      <td>6.0</td>\n      <td>float64</td>\n    </tr>\n    <tr>\n      <th>Age?</th>\n      <td>445</td>\n      <td>5.1</td>\n      <td>float64</td>\n    </tr>\n    <tr>\n      <th>Result increased after online education  (comparatively)?_Yes</th>\n      <td>323</td>\n      <td>3.7</td>\n      <td>float64</td>\n    </tr>\n    <tr>\n      <th>Used smartphone/computer/laptop previously before online class?_Yes</th>\n      <td>188</td>\n      <td>2.1</td>\n      <td>float64</td>\n    </tr>\n  </tbody>\n</table>\n</div>"
     },
     "execution_count": 82,
     "metadata": {},
     "output_type": "execute_result"
    }
   ],
   "source": [
    "missing_values_table(df_encoded)"
   ],
   "metadata": {
    "collapsed": false,
    "ExecuteTime": {
     "end_time": "2024-01-18T03:51:46.864742Z",
     "start_time": "2024-01-18T03:51:46.849703Z"
    }
   }
  },
  {
   "cell_type": "code",
   "execution_count": 83,
   "outputs": [
    {
     "data": {
      "text/plain": "    Age?  Total hours of study before online education?  \\\n0   20.0                                              4   \n1   25.0                                              4   \n2   25.0                                              5   \n3   21.0                                              5   \n4   22.0                                              4   \n5   25.0                                              3   \n6   24.0                                              5   \n7   24.0                                              4   \n8   22.0                                              6   \n9   21.0                                              6   \n10  22.0                                              5   \n11  24.0                                              6   \n12  22.0                                              4   \n13  22.0                                              3   \n14  26.0                                              5   \n\n    Total hours of study after online education?  Level of study?_Upto HSC  \\\n0                                              3                       1.0   \n1                                              4                       0.0   \n2                                              2                       0.0   \n3                                              3                       1.0   \n4                                              2                       0.0   \n5                                              2                       0.0   \n6                                              3                       0.0   \n7                                              3                       0.0   \n8                                              3                       1.0   \n9                                              3                       0.0   \n10                                             4                       0.0   \n11                                             3                       0.0   \n12                                             3                       0.0   \n13                                             3                       0.0   \n14                                             3                       0.0   \n\n    Used smartphone/computer/laptop previously before online class?_Yes  \\\n0                                                 1.0                     \n1                                                 0.0                     \n2                                                 1.0                     \n3                                                 1.0                     \n4                                                 1.0                     \n5                                                 1.0                     \n6                                                 1.0                     \n7                                                 1.0                     \n8                                                 1.0                     \n9                                                 1.0                     \n10                                                1.0                     \n11                                                1.0                     \n12                                                1.0                     \n13                                                0.0                     \n14                                                1.0                     \n\n    Result increased after online education  (comparatively)?_Yes  \\\n0                                                 0.0               \n1                                                 0.0               \n2                                                 1.0               \n3                                                 1.0               \n4                                                 0.0               \n5                                                 1.0               \n6                                                 1.0               \n7                                                 1.0               \n8                                                 1.0               \n9                                                 1.0               \n10                                                0.0               \n11                                                NaN               \n12                                                0.0               \n13                                                1.0               \n14                                                0.0               \n\n    Knowledge increased after online education (comparatively)?_Yes  \\\n0                                                 1.0                 \n1                                                 0.0                 \n2                                                 1.0                 \n3                                                 0.0                 \n4                                                 0.0                 \n5                                                 1.0                 \n6                                                 1.0                 \n7                                                 0.0                 \n8                                                 0.0                 \n9                                                 0.0                 \n10                                                1.0                 \n11                                                1.0                 \n12                                                0.0                 \n13                                                1.0                 \n14                                                1.0                 \n\n    Happy with online education?_Yes  Education Institute Area?_Rural  \\\n0                                0.0                              0.0   \n1                                0.0                              0.0   \n2                                1.0                              1.0   \n3                                1.0                              0.0   \n4                                0.0                              1.0   \n5                                0.0                              0.0   \n6                                0.0                              1.0   \n7                                1.0                              1.0   \n8                                1.0                              0.0   \n9                                0.0                              0.0   \n10                               0.0                              0.0   \n11                               0.0                              0.0   \n12                               1.0                              0.0   \n13                               1.0                              1.0   \n14                               0.0                              0.0   \n\n    Education Institute Area?_Urban  Have Internet availability?_Yes  \\\n0                               1.0                              0.0   \n1                               1.0                              0.0   \n2                               0.0                              0.0   \n3                               1.0                              1.0   \n4                               0.0                              0.0   \n5                               1.0                              1.0   \n6                               0.0                              1.0   \n7                               0.0                              0.0   \n8                               1.0                              1.0   \n9                               1.0                              0.0   \n10                              1.0                              0.0   \n11                              1.0                              1.0   \n12                              1.0                              0.0   \n13                              0.0                              1.0   \n14                              1.0                              0.0   \n\n    Broadband / Mobile Internet?_Mobile Internet  \\\n0                                            0.0   \n1                                            1.0   \n2                                            1.0   \n3                                            1.0   \n4                                            1.0   \n5                                            0.0   \n6                                            0.0   \n7                                            1.0   \n8                                            0.0   \n9                                            0.0   \n10                                           1.0   \n11                                           0.0   \n12                                           1.0   \n13                                           0.0   \n14                                           1.0   \n\n    Class performance increased in online education?_Yes  \\\n0                                                 0.0      \n1                                                 0.0      \n2                                                 1.0      \n3                                                 0.0      \n4                                                 1.0      \n5                                                 1.0      \n6                                                 1.0      \n7                                                 1.0      \n8                                                 1.0      \n9                                                 1.0      \n10                                                0.0      \n11                                                0.0      \n12                                                1.0      \n13                                                1.0      \n14                                                0.0      \n\n    Institute Type_Private  Institute Type_Public  \\\n0                      0.0                    1.0   \n1                      0.0                    1.0   \n2                      0.0                    1.0   \n3                      1.0                    0.0   \n4                      0.0                    1.0   \n5                      1.0                    0.0   \n6                      0.0                    1.0   \n7                      1.0                    0.0   \n8                      1.0                    0.0   \n9                      1.0                    0.0   \n10                     0.0                    1.0   \n11                     NaN                    NaN   \n12                     1.0                    0.0   \n13                     0.0                    1.0   \n14                     1.0                    0.0   \n\n    Current location (During Study) ?_Rural  \\\n0                                       1.0   \n1                                       1.0   \n2                                       1.0   \n3                                       0.0   \n4                                       0.0   \n5                                       0.0   \n6                                       0.0   \n7                                       0.0   \n8                                       0.0   \n9                                       0.0   \n10                                      1.0   \n11                                      NaN   \n12                                      0.0   \n13                                      1.0   \n14                                      1.0   \n\n    Current location (During Study) ?_Urban  Gender_Male  \\\n0                                       0.0          1.0   \n1                                       0.0          1.0   \n2                                       0.0          0.0   \n3                                       1.0          1.0   \n4                                       1.0          1.0   \n5                                       1.0          0.0   \n6                                       1.0          0.0   \n7                                       1.0          0.0   \n8                                       1.0          0.0   \n9                                       1.0          0.0   \n10                                      0.0          1.0   \n11                                      NaN          NaN   \n12                                      1.0          0.0   \n13                                      0.0          0.0   \n14                                      0.0          0.0   \n\n    Faced any issue with online class?_Yes  \\\n0                                      1.0   \n1                                      1.0   \n2                                      1.0   \n3                                      1.0   \n4                                      0.0   \n5                                      0.0   \n6                                      1.0   \n7                                      0.0   \n8                                      1.0   \n9                                      1.0   \n10                                     1.0   \n11                                     0.0   \n12                                     0.0   \n13                                     0.0   \n14                                     1.0   \n\n    Preferred device for an online course_Mobile  \n0                                            1.0  \n1                                            1.0  \n2                                            0.0  \n3                                            1.0  \n4                                            1.0  \n5                                            0.0  \n6                                            0.0  \n7                                            0.0  \n8                                            0.0  \n9                                            0.0  \n10                                           1.0  \n11                                           0.0  \n12                                           1.0  \n13                                           0.0  \n14                                           0.0  ",
      "text/html": "<div>\n<style scoped>\n    .dataframe tbody tr th:only-of-type {\n        vertical-align: middle;\n    }\n\n    .dataframe tbody tr th {\n        vertical-align: top;\n    }\n\n    .dataframe thead th {\n        text-align: right;\n    }\n</style>\n<table border=\"1\" class=\"dataframe\">\n  <thead>\n    <tr style=\"text-align: right;\">\n      <th></th>\n      <th>Age?</th>\n      <th>Total hours of study before online education?</th>\n      <th>Total hours of study after online education?</th>\n      <th>Level of study?_Upto HSC</th>\n      <th>Used smartphone/computer/laptop previously before online class?_Yes</th>\n      <th>Result increased after online education  (comparatively)?_Yes</th>\n      <th>Knowledge increased after online education (comparatively)?_Yes</th>\n      <th>Happy with online education?_Yes</th>\n      <th>Education Institute Area?_Rural</th>\n      <th>Education Institute Area?_Urban</th>\n      <th>Have Internet availability?_Yes</th>\n      <th>Broadband / Mobile Internet?_Mobile Internet</th>\n      <th>Class performance increased in online education?_Yes</th>\n      <th>Institute Type_Private</th>\n      <th>Institute Type_Public</th>\n      <th>Current location (During Study) ?_Rural</th>\n      <th>Current location (During Study) ?_Urban</th>\n      <th>Gender_Male</th>\n      <th>Faced any issue with online class?_Yes</th>\n      <th>Preferred device for an online course_Mobile</th>\n    </tr>\n  </thead>\n  <tbody>\n    <tr>\n      <th>0</th>\n      <td>20.0</td>\n      <td>4</td>\n      <td>3</td>\n      <td>1.0</td>\n      <td>1.0</td>\n      <td>0.0</td>\n      <td>1.0</td>\n      <td>0.0</td>\n      <td>0.0</td>\n      <td>1.0</td>\n      <td>0.0</td>\n      <td>0.0</td>\n      <td>0.0</td>\n      <td>0.0</td>\n      <td>1.0</td>\n      <td>1.0</td>\n      <td>0.0</td>\n      <td>1.0</td>\n      <td>1.0</td>\n      <td>1.0</td>\n    </tr>\n    <tr>\n      <th>1</th>\n      <td>25.0</td>\n      <td>4</td>\n      <td>4</td>\n      <td>0.0</td>\n      <td>0.0</td>\n      <td>0.0</td>\n      <td>0.0</td>\n      <td>0.0</td>\n      <td>0.0</td>\n      <td>1.0</td>\n      <td>0.0</td>\n      <td>1.0</td>\n      <td>0.0</td>\n      <td>0.0</td>\n      <td>1.0</td>\n      <td>1.0</td>\n      <td>0.0</td>\n      <td>1.0</td>\n      <td>1.0</td>\n      <td>1.0</td>\n    </tr>\n    <tr>\n      <th>2</th>\n      <td>25.0</td>\n      <td>5</td>\n      <td>2</td>\n      <td>0.0</td>\n      <td>1.0</td>\n      <td>1.0</td>\n      <td>1.0</td>\n      <td>1.0</td>\n      <td>1.0</td>\n      <td>0.0</td>\n      <td>0.0</td>\n      <td>1.0</td>\n      <td>1.0</td>\n      <td>0.0</td>\n      <td>1.0</td>\n      <td>1.0</td>\n      <td>0.0</td>\n      <td>0.0</td>\n      <td>1.0</td>\n      <td>0.0</td>\n    </tr>\n    <tr>\n      <th>3</th>\n      <td>21.0</td>\n      <td>5</td>\n      <td>3</td>\n      <td>1.0</td>\n      <td>1.0</td>\n      <td>1.0</td>\n      <td>0.0</td>\n      <td>1.0</td>\n      <td>0.0</td>\n      <td>1.0</td>\n      <td>1.0</td>\n      <td>1.0</td>\n      <td>0.0</td>\n      <td>1.0</td>\n      <td>0.0</td>\n      <td>0.0</td>\n      <td>1.0</td>\n      <td>1.0</td>\n      <td>1.0</td>\n      <td>1.0</td>\n    </tr>\n    <tr>\n      <th>4</th>\n      <td>22.0</td>\n      <td>4</td>\n      <td>2</td>\n      <td>0.0</td>\n      <td>1.0</td>\n      <td>0.0</td>\n      <td>0.0</td>\n      <td>0.0</td>\n      <td>1.0</td>\n      <td>0.0</td>\n      <td>0.0</td>\n      <td>1.0</td>\n      <td>1.0</td>\n      <td>0.0</td>\n      <td>1.0</td>\n      <td>0.0</td>\n      <td>1.0</td>\n      <td>1.0</td>\n      <td>0.0</td>\n      <td>1.0</td>\n    </tr>\n    <tr>\n      <th>5</th>\n      <td>25.0</td>\n      <td>3</td>\n      <td>2</td>\n      <td>0.0</td>\n      <td>1.0</td>\n      <td>1.0</td>\n      <td>1.0</td>\n      <td>0.0</td>\n      <td>0.0</td>\n      <td>1.0</td>\n      <td>1.0</td>\n      <td>0.0</td>\n      <td>1.0</td>\n      <td>1.0</td>\n      <td>0.0</td>\n      <td>0.0</td>\n      <td>1.0</td>\n      <td>0.0</td>\n      <td>0.0</td>\n      <td>0.0</td>\n    </tr>\n    <tr>\n      <th>6</th>\n      <td>24.0</td>\n      <td>5</td>\n      <td>3</td>\n      <td>0.0</td>\n      <td>1.0</td>\n      <td>1.0</td>\n      <td>1.0</td>\n      <td>0.0</td>\n      <td>1.0</td>\n      <td>0.0</td>\n      <td>1.0</td>\n      <td>0.0</td>\n      <td>1.0</td>\n      <td>0.0</td>\n      <td>1.0</td>\n      <td>0.0</td>\n      <td>1.0</td>\n      <td>0.0</td>\n      <td>1.0</td>\n      <td>0.0</td>\n    </tr>\n    <tr>\n      <th>7</th>\n      <td>24.0</td>\n      <td>4</td>\n      <td>3</td>\n      <td>0.0</td>\n      <td>1.0</td>\n      <td>1.0</td>\n      <td>0.0</td>\n      <td>1.0</td>\n      <td>1.0</td>\n      <td>0.0</td>\n      <td>0.0</td>\n      <td>1.0</td>\n      <td>1.0</td>\n      <td>1.0</td>\n      <td>0.0</td>\n      <td>0.0</td>\n      <td>1.0</td>\n      <td>0.0</td>\n      <td>0.0</td>\n      <td>0.0</td>\n    </tr>\n    <tr>\n      <th>8</th>\n      <td>22.0</td>\n      <td>6</td>\n      <td>3</td>\n      <td>1.0</td>\n      <td>1.0</td>\n      <td>1.0</td>\n      <td>0.0</td>\n      <td>1.0</td>\n      <td>0.0</td>\n      <td>1.0</td>\n      <td>1.0</td>\n      <td>0.0</td>\n      <td>1.0</td>\n      <td>1.0</td>\n      <td>0.0</td>\n      <td>0.0</td>\n      <td>1.0</td>\n      <td>0.0</td>\n      <td>1.0</td>\n      <td>0.0</td>\n    </tr>\n    <tr>\n      <th>9</th>\n      <td>21.0</td>\n      <td>6</td>\n      <td>3</td>\n      <td>0.0</td>\n      <td>1.0</td>\n      <td>1.0</td>\n      <td>0.0</td>\n      <td>0.0</td>\n      <td>0.0</td>\n      <td>1.0</td>\n      <td>0.0</td>\n      <td>0.0</td>\n      <td>1.0</td>\n      <td>1.0</td>\n      <td>0.0</td>\n      <td>0.0</td>\n      <td>1.0</td>\n      <td>0.0</td>\n      <td>1.0</td>\n      <td>0.0</td>\n    </tr>\n    <tr>\n      <th>10</th>\n      <td>22.0</td>\n      <td>5</td>\n      <td>4</td>\n      <td>0.0</td>\n      <td>1.0</td>\n      <td>0.0</td>\n      <td>1.0</td>\n      <td>0.0</td>\n      <td>0.0</td>\n      <td>1.0</td>\n      <td>0.0</td>\n      <td>1.0</td>\n      <td>0.0</td>\n      <td>0.0</td>\n      <td>1.0</td>\n      <td>1.0</td>\n      <td>0.0</td>\n      <td>1.0</td>\n      <td>1.0</td>\n      <td>1.0</td>\n    </tr>\n    <tr>\n      <th>11</th>\n      <td>24.0</td>\n      <td>6</td>\n      <td>3</td>\n      <td>0.0</td>\n      <td>1.0</td>\n      <td>NaN</td>\n      <td>1.0</td>\n      <td>0.0</td>\n      <td>0.0</td>\n      <td>1.0</td>\n      <td>1.0</td>\n      <td>0.0</td>\n      <td>0.0</td>\n      <td>NaN</td>\n      <td>NaN</td>\n      <td>NaN</td>\n      <td>NaN</td>\n      <td>NaN</td>\n      <td>0.0</td>\n      <td>0.0</td>\n    </tr>\n    <tr>\n      <th>12</th>\n      <td>22.0</td>\n      <td>4</td>\n      <td>3</td>\n      <td>0.0</td>\n      <td>1.0</td>\n      <td>0.0</td>\n      <td>0.0</td>\n      <td>1.0</td>\n      <td>0.0</td>\n      <td>1.0</td>\n      <td>0.0</td>\n      <td>1.0</td>\n      <td>1.0</td>\n      <td>1.0</td>\n      <td>0.0</td>\n      <td>0.0</td>\n      <td>1.0</td>\n      <td>0.0</td>\n      <td>0.0</td>\n      <td>1.0</td>\n    </tr>\n    <tr>\n      <th>13</th>\n      <td>22.0</td>\n      <td>3</td>\n      <td>3</td>\n      <td>0.0</td>\n      <td>0.0</td>\n      <td>1.0</td>\n      <td>1.0</td>\n      <td>1.0</td>\n      <td>1.0</td>\n      <td>0.0</td>\n      <td>1.0</td>\n      <td>0.0</td>\n      <td>1.0</td>\n      <td>0.0</td>\n      <td>1.0</td>\n      <td>1.0</td>\n      <td>0.0</td>\n      <td>0.0</td>\n      <td>0.0</td>\n      <td>0.0</td>\n    </tr>\n    <tr>\n      <th>14</th>\n      <td>26.0</td>\n      <td>5</td>\n      <td>3</td>\n      <td>0.0</td>\n      <td>1.0</td>\n      <td>0.0</td>\n      <td>1.0</td>\n      <td>0.0</td>\n      <td>0.0</td>\n      <td>1.0</td>\n      <td>0.0</td>\n      <td>1.0</td>\n      <td>0.0</td>\n      <td>1.0</td>\n      <td>0.0</td>\n      <td>1.0</td>\n      <td>0.0</td>\n      <td>0.0</td>\n      <td>1.0</td>\n      <td>0.0</td>\n    </tr>\n  </tbody>\n</table>\n</div>"
     },
     "execution_count": 83,
     "metadata": {},
     "output_type": "execute_result"
    }
   ],
   "source": [
    "df_encoded.head(15)"
   ],
   "metadata": {
    "collapsed": false,
    "ExecuteTime": {
     "end_time": "2024-01-18T03:51:49.048981Z",
     "start_time": "2024-01-18T03:51:49.040384Z"
    }
   }
  },
  {
   "cell_type": "code",
   "execution_count": 84,
   "outputs": [],
   "source": [
    "df_encoded.to_csv(os.path.join('Final-Datasets', 'HMEQ-processed.csv'),index=False)"
   ],
   "metadata": {
    "collapsed": false,
    "ExecuteTime": {
     "end_time": "2024-01-18T03:51:59.000003Z",
     "start_time": "2024-01-18T03:51:58.950673Z"
    }
   }
  },
  {
   "cell_type": "code",
   "execution_count": null,
   "outputs": [],
   "source": [],
   "metadata": {
    "collapsed": false
   }
  }
 ],
 "metadata": {
  "kernelspec": {
   "display_name": "Python 3",
   "language": "python",
   "name": "python3"
  },
  "language_info": {
   "codemirror_mode": {
    "name": "ipython",
    "version": 2
   },
   "file_extension": ".py",
   "mimetype": "text/x-python",
   "name": "python",
   "nbconvert_exporter": "python",
   "pygments_lexer": "ipython2",
   "version": "2.7.6"
  }
 },
 "nbformat": 4,
 "nbformat_minor": 0
}
