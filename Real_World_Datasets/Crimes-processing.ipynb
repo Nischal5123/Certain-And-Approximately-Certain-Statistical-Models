{
 "cells": [
  {
   "cell_type": "code",
   "execution_count": 37,
   "metadata": {
    "collapsed": true,
    "ExecuteTime": {
     "end_time": "2024-01-16T22:08:39.609733Z",
     "start_time": "2024-01-16T22:08:39.607929Z"
    }
   },
   "outputs": [],
   "source": [
    "import pandas as pd\n",
    "import os\n",
    "from utils import drop_categorical_columns\n",
    "from utils import missing_values_table\n",
    "import numpy as np"
   ]
  },
  {
   "cell_type": "code",
   "execution_count": 38,
   "outputs": [],
   "source": [
    "def drop_label_with_null(df, column_name):\n",
    "    # Drop rows where the specified column is null\n",
    "    df_cleaned = df.dropna(subset=[column_name])\n",
    "    return df_cleaned"
   ],
   "metadata": {
    "collapsed": false,
    "ExecuteTime": {
     "end_time": "2024-01-16T22:08:40.035115Z",
     "start_time": "2024-01-16T22:08:40.027845Z"
    }
   }
  },
  {
   "cell_type": "code",
   "execution_count": 39,
   "outputs": [],
   "source": [
    "headers = [\n",
    "        'state', 'county', 'community', 'communityname', 'fold', 'population', 'householdsize',\n",
    "        'racepctblack', 'racePctWhite', 'racePctAsian', 'racePctHisp', 'agePct12t21', 'agePct12t29',\n",
    "        'agePct16t24', 'agePct65up', 'numbUrban', 'pctUrban', 'medIncome', 'pctWWage', 'pctWFarmSelf',\n",
    "        'pctWInvInc', 'pctWSocSec', 'pctWPubAsst', 'pctWRetire', 'medFamInc', 'perCapInc', 'whitePerCap',\n",
    "        'blackPerCap', 'indianPerCap', 'AsianPerCap', 'OtherPerCap', 'HispPerCap', 'NumUnderPov',\n",
    "        'PctPopUnderPov', 'PctLess9thGrade', 'PctNotHSGrad', 'PctBSorMore', 'PctUnemployed',\n",
    "        'PctEmploy', 'PctEmplManu', 'PctEmplProfServ', 'PctOccupManu', 'PctOccupMgmtProf',\n",
    "        'MalePctDivorce', 'MalePctNevMarr', 'FemalePctDiv', 'TotalPctDiv', 'PersPerFam', 'PctFam2Par',\n",
    "        'PctKids2Par', 'PctYoungKids2Par', 'PctTeen2Par', 'PctWorkMomYoungKids', 'PctWorkMom',\n",
    "        'NumIlleg', 'PctIlleg', 'NumImmig', 'PctImmigRecent', 'PctImmigRec5', 'PctImmigRec8',\n",
    "        'PctImmigRec10', 'PctRecentImmig', 'PctRecImmig5', 'PctRecImmig8', 'PctRecImmig10',\n",
    "        'PctSpeakEnglOnly', 'PctNotSpeakEnglWell', 'PctLargHouseFam', 'PctLargHouseOccup',\n",
    "        'PersPerOccupHous', 'PersPerOwnOccHous', 'PersPerRentOccHous', 'PctPersOwnOccup',\n",
    "        'PctPersDenseHous', 'PctHousLess3BR', 'MedNumBR', 'HousVacant', 'PctHousOccup',\n",
    "        'PctHousOwnOcc', 'PctVacantBoarded', 'PctVacMore6Mos', 'MedYrHousBuilt', 'PctHousNoPhone',\n",
    "        'PctWOFullPlumb', 'OwnOccLowQuart', 'OwnOccMedVal', 'OwnOccHiQuart', 'RentLowQ', 'RentMedian',\n",
    "        'RentHighQ', 'MedRent', 'MedRentPctHousInc', 'MedOwnCostPctInc', 'MedOwnCostPctIncNoMtg',\n",
    "        'NumInShelters', 'NumStreet', 'PctForeignBorn', 'PctBornSameState', 'PctSameHouse85',\n",
    "        'PctSameCity85', 'PctSameState85', 'LemasSwornFT', 'LemasSwFTPerPop', 'LemasSwFTFieldOps',\n",
    "        'LemasSwFTFieldPerPop', 'LemasTotalReq', 'LemasTotReqPerPop', 'PolicReqPerOffic',\n",
    "        'PolicPerPop', 'RacialMatchCommPol', 'PctPolicWhite', 'PctPolicBlack', 'PctPolicHisp',\n",
    "        'PctPolicAsian', 'PctPolicMinor', 'OfficAssgnDrugUnits', 'NumKindsDrugsSeiz',\n",
    "        'PolicAveOTWorked', 'LandArea', 'PopDens', 'PctUsePubTrans', 'PolicCars', 'PolicOperBudg',\n",
    "        'LemasPctPolicOnPatr', 'LemasGangUnitDeploy', 'LemasPctOfficDrugUn', 'PolicBudgPerPop',\n",
    "        'ViolentCrimesPerPop'\n",
    "    ]"
   ],
   "metadata": {
    "collapsed": false,
    "ExecuteTime": {
     "end_time": "2024-01-16T22:08:41.755302Z",
     "start_time": "2024-01-16T22:08:41.752746Z"
    }
   }
  },
  {
   "cell_type": "code",
   "execution_count": 40,
   "outputs": [
    {
     "data": {
      "text/plain": "   state county community        communityname  fold  population  \\\n0      8    NaN       NaN         Lakewoodcity     1        0.19   \n1     53    NaN       NaN          Tukwilacity     1        0.00   \n2     24    NaN       NaN         Aberdeentown     1        0.00   \n3     34      5     81440  Willingborotownship     1        0.04   \n4     42     95      6096    Bethlehemtownship     1        0.01   \n\n   householdsize  racepctblack  racePctWhite  racePctAsian  ...  LandArea  \\\n0           0.33          0.02          0.90          0.12  ...      0.12   \n1           0.16          0.12          0.74          0.45  ...      0.02   \n2           0.42          0.49          0.56          0.17  ...      0.01   \n3           0.77          1.00          0.08          0.12  ...      0.02   \n4           0.55          0.02          0.95          0.09  ...      0.04   \n\n   PopDens  PctUsePubTrans  PolicCars  PolicOperBudg  LemasPctPolicOnPatr  \\\n0     0.26            0.20       0.06           0.04                  0.9   \n1     0.12            0.45        NaN            NaN                  NaN   \n2     0.21            0.02        NaN            NaN                  NaN   \n3     0.39            0.28        NaN            NaN                  NaN   \n4     0.09            0.02        NaN            NaN                  NaN   \n\n   LemasGangUnitDeploy  LemasPctOfficDrugUn  PolicBudgPerPop  \\\n0                  0.5                 0.32             0.14   \n1                  NaN                 0.00              NaN   \n2                  NaN                 0.00              NaN   \n3                  NaN                 0.00              NaN   \n4                  NaN                 0.00              NaN   \n\n   ViolentCrimesPerPop  \n0                 0.20  \n1                 0.67  \n2                 0.43  \n3                 0.12  \n4                 0.03  \n\n[5 rows x 128 columns]",
      "text/html": "<div>\n<style scoped>\n    .dataframe tbody tr th:only-of-type {\n        vertical-align: middle;\n    }\n\n    .dataframe tbody tr th {\n        vertical-align: top;\n    }\n\n    .dataframe thead th {\n        text-align: right;\n    }\n</style>\n<table border=\"1\" class=\"dataframe\">\n  <thead>\n    <tr style=\"text-align: right;\">\n      <th></th>\n      <th>state</th>\n      <th>county</th>\n      <th>community</th>\n      <th>communityname</th>\n      <th>fold</th>\n      <th>population</th>\n      <th>householdsize</th>\n      <th>racepctblack</th>\n      <th>racePctWhite</th>\n      <th>racePctAsian</th>\n      <th>...</th>\n      <th>LandArea</th>\n      <th>PopDens</th>\n      <th>PctUsePubTrans</th>\n      <th>PolicCars</th>\n      <th>PolicOperBudg</th>\n      <th>LemasPctPolicOnPatr</th>\n      <th>LemasGangUnitDeploy</th>\n      <th>LemasPctOfficDrugUn</th>\n      <th>PolicBudgPerPop</th>\n      <th>ViolentCrimesPerPop</th>\n    </tr>\n  </thead>\n  <tbody>\n    <tr>\n      <th>0</th>\n      <td>8</td>\n      <td>NaN</td>\n      <td>NaN</td>\n      <td>Lakewoodcity</td>\n      <td>1</td>\n      <td>0.19</td>\n      <td>0.33</td>\n      <td>0.02</td>\n      <td>0.90</td>\n      <td>0.12</td>\n      <td>...</td>\n      <td>0.12</td>\n      <td>0.26</td>\n      <td>0.20</td>\n      <td>0.06</td>\n      <td>0.04</td>\n      <td>0.9</td>\n      <td>0.5</td>\n      <td>0.32</td>\n      <td>0.14</td>\n      <td>0.20</td>\n    </tr>\n    <tr>\n      <th>1</th>\n      <td>53</td>\n      <td>NaN</td>\n      <td>NaN</td>\n      <td>Tukwilacity</td>\n      <td>1</td>\n      <td>0.00</td>\n      <td>0.16</td>\n      <td>0.12</td>\n      <td>0.74</td>\n      <td>0.45</td>\n      <td>...</td>\n      <td>0.02</td>\n      <td>0.12</td>\n      <td>0.45</td>\n      <td>NaN</td>\n      <td>NaN</td>\n      <td>NaN</td>\n      <td>NaN</td>\n      <td>0.00</td>\n      <td>NaN</td>\n      <td>0.67</td>\n    </tr>\n    <tr>\n      <th>2</th>\n      <td>24</td>\n      <td>NaN</td>\n      <td>NaN</td>\n      <td>Aberdeentown</td>\n      <td>1</td>\n      <td>0.00</td>\n      <td>0.42</td>\n      <td>0.49</td>\n      <td>0.56</td>\n      <td>0.17</td>\n      <td>...</td>\n      <td>0.01</td>\n      <td>0.21</td>\n      <td>0.02</td>\n      <td>NaN</td>\n      <td>NaN</td>\n      <td>NaN</td>\n      <td>NaN</td>\n      <td>0.00</td>\n      <td>NaN</td>\n      <td>0.43</td>\n    </tr>\n    <tr>\n      <th>3</th>\n      <td>34</td>\n      <td>5</td>\n      <td>81440</td>\n      <td>Willingborotownship</td>\n      <td>1</td>\n      <td>0.04</td>\n      <td>0.77</td>\n      <td>1.00</td>\n      <td>0.08</td>\n      <td>0.12</td>\n      <td>...</td>\n      <td>0.02</td>\n      <td>0.39</td>\n      <td>0.28</td>\n      <td>NaN</td>\n      <td>NaN</td>\n      <td>NaN</td>\n      <td>NaN</td>\n      <td>0.00</td>\n      <td>NaN</td>\n      <td>0.12</td>\n    </tr>\n    <tr>\n      <th>4</th>\n      <td>42</td>\n      <td>95</td>\n      <td>6096</td>\n      <td>Bethlehemtownship</td>\n      <td>1</td>\n      <td>0.01</td>\n      <td>0.55</td>\n      <td>0.02</td>\n      <td>0.95</td>\n      <td>0.09</td>\n      <td>...</td>\n      <td>0.04</td>\n      <td>0.09</td>\n      <td>0.02</td>\n      <td>NaN</td>\n      <td>NaN</td>\n      <td>NaN</td>\n      <td>NaN</td>\n      <td>0.00</td>\n      <td>NaN</td>\n      <td>0.03</td>\n    </tr>\n  </tbody>\n</table>\n<p>5 rows × 128 columns</p>\n</div>"
     },
     "execution_count": 40,
     "metadata": {},
     "output_type": "execute_result"
    }
   ],
   "source": [
    "path = os.path.join('data', 'communities+and+crime/communities.data')\n",
    "df = pd.read_csv(path, header=None, names=headers)\n",
    "# Replace all occurrences of -200 with NaN\n",
    "df.replace('?', np.nan, inplace=True)\n",
    "df.head(5)"
   ],
   "metadata": {
    "collapsed": false,
    "ExecuteTime": {
     "end_time": "2024-01-16T22:08:46.413151Z",
     "start_time": "2024-01-16T22:08:46.361586Z"
    }
   }
  },
  {
   "cell_type": "code",
   "execution_count": 41,
   "outputs": [
    {
     "data": {
      "text/plain": "(1994, 128)"
     },
     "execution_count": 41,
     "metadata": {},
     "output_type": "execute_result"
    }
   ],
   "source": [
    "df.shape"
   ],
   "metadata": {
    "collapsed": false,
    "ExecuteTime": {
     "end_time": "2024-01-16T22:08:56.800143Z",
     "start_time": "2024-01-16T22:08:56.792737Z"
    }
   }
  },
  {
   "cell_type": "code",
   "execution_count": 31,
   "outputs": [
    {
     "name": "stdout",
     "output_type": "stream",
     "text": [
      "Your selected dataframe has 128 columns.\n",
      "There are 25 columns that have missing values.\n"
     ]
    },
    {
     "data": {
      "text/plain": "                      Missing Values  % of Total Values Data Type\nPctPolicWhite                   1675               84.0    object\nPctPolicBlack                   1675               84.0    object\nLemasGangUnitDeploy             1675               84.0    object\nLemasPctPolicOnPatr             1675               84.0    object\nPolicOperBudg                   1675               84.0    object\nPolicCars                       1675               84.0    object\nPolicAveOTWorked                1675               84.0    object\nNumKindsDrugsSeiz               1675               84.0    object\nOfficAssgnDrugUnits             1675               84.0    object\nPctPolicMinor                   1675               84.0    object\nPctPolicAsian                   1675               84.0    object\nPctPolicHisp                    1675               84.0    object\nPolicBudgPerPop                 1675               84.0    object\nRacialMatchCommPol              1675               84.0    object\nPolicPerPop                     1675               84.0    object\nPolicReqPerOffic                1675               84.0    object\nLemasTotReqPerPop               1675               84.0    object\nLemasTotalReq                   1675               84.0    object\nLemasSwFTFieldPerPop            1675               84.0    object\nLemasSwFTFieldOps               1675               84.0    object\nLemasSwFTPerPop                 1675               84.0    object\nLemasSwornFT                    1675               84.0    object\ncommunity                       1177               59.0    object\ncounty                          1174               58.9    object\nOtherPerCap                        1                0.1    object",
      "text/html": "<div>\n<style scoped>\n    .dataframe tbody tr th:only-of-type {\n        vertical-align: middle;\n    }\n\n    .dataframe tbody tr th {\n        vertical-align: top;\n    }\n\n    .dataframe thead th {\n        text-align: right;\n    }\n</style>\n<table border=\"1\" class=\"dataframe\">\n  <thead>\n    <tr style=\"text-align: right;\">\n      <th></th>\n      <th>Missing Values</th>\n      <th>% of Total Values</th>\n      <th>Data Type</th>\n    </tr>\n  </thead>\n  <tbody>\n    <tr>\n      <th>PctPolicWhite</th>\n      <td>1675</td>\n      <td>84.0</td>\n      <td>object</td>\n    </tr>\n    <tr>\n      <th>PctPolicBlack</th>\n      <td>1675</td>\n      <td>84.0</td>\n      <td>object</td>\n    </tr>\n    <tr>\n      <th>LemasGangUnitDeploy</th>\n      <td>1675</td>\n      <td>84.0</td>\n      <td>object</td>\n    </tr>\n    <tr>\n      <th>LemasPctPolicOnPatr</th>\n      <td>1675</td>\n      <td>84.0</td>\n      <td>object</td>\n    </tr>\n    <tr>\n      <th>PolicOperBudg</th>\n      <td>1675</td>\n      <td>84.0</td>\n      <td>object</td>\n    </tr>\n    <tr>\n      <th>PolicCars</th>\n      <td>1675</td>\n      <td>84.0</td>\n      <td>object</td>\n    </tr>\n    <tr>\n      <th>PolicAveOTWorked</th>\n      <td>1675</td>\n      <td>84.0</td>\n      <td>object</td>\n    </tr>\n    <tr>\n      <th>NumKindsDrugsSeiz</th>\n      <td>1675</td>\n      <td>84.0</td>\n      <td>object</td>\n    </tr>\n    <tr>\n      <th>OfficAssgnDrugUnits</th>\n      <td>1675</td>\n      <td>84.0</td>\n      <td>object</td>\n    </tr>\n    <tr>\n      <th>PctPolicMinor</th>\n      <td>1675</td>\n      <td>84.0</td>\n      <td>object</td>\n    </tr>\n    <tr>\n      <th>PctPolicAsian</th>\n      <td>1675</td>\n      <td>84.0</td>\n      <td>object</td>\n    </tr>\n    <tr>\n      <th>PctPolicHisp</th>\n      <td>1675</td>\n      <td>84.0</td>\n      <td>object</td>\n    </tr>\n    <tr>\n      <th>PolicBudgPerPop</th>\n      <td>1675</td>\n      <td>84.0</td>\n      <td>object</td>\n    </tr>\n    <tr>\n      <th>RacialMatchCommPol</th>\n      <td>1675</td>\n      <td>84.0</td>\n      <td>object</td>\n    </tr>\n    <tr>\n      <th>PolicPerPop</th>\n      <td>1675</td>\n      <td>84.0</td>\n      <td>object</td>\n    </tr>\n    <tr>\n      <th>PolicReqPerOffic</th>\n      <td>1675</td>\n      <td>84.0</td>\n      <td>object</td>\n    </tr>\n    <tr>\n      <th>LemasTotReqPerPop</th>\n      <td>1675</td>\n      <td>84.0</td>\n      <td>object</td>\n    </tr>\n    <tr>\n      <th>LemasTotalReq</th>\n      <td>1675</td>\n      <td>84.0</td>\n      <td>object</td>\n    </tr>\n    <tr>\n      <th>LemasSwFTFieldPerPop</th>\n      <td>1675</td>\n      <td>84.0</td>\n      <td>object</td>\n    </tr>\n    <tr>\n      <th>LemasSwFTFieldOps</th>\n      <td>1675</td>\n      <td>84.0</td>\n      <td>object</td>\n    </tr>\n    <tr>\n      <th>LemasSwFTPerPop</th>\n      <td>1675</td>\n      <td>84.0</td>\n      <td>object</td>\n    </tr>\n    <tr>\n      <th>LemasSwornFT</th>\n      <td>1675</td>\n      <td>84.0</td>\n      <td>object</td>\n    </tr>\n    <tr>\n      <th>community</th>\n      <td>1177</td>\n      <td>59.0</td>\n      <td>object</td>\n    </tr>\n    <tr>\n      <th>county</th>\n      <td>1174</td>\n      <td>58.9</td>\n      <td>object</td>\n    </tr>\n    <tr>\n      <th>OtherPerCap</th>\n      <td>1</td>\n      <td>0.1</td>\n      <td>object</td>\n    </tr>\n  </tbody>\n</table>\n</div>"
     },
     "execution_count": 31,
     "metadata": {},
     "output_type": "execute_result"
    }
   ],
   "source": [
    "missing_values_table(df)"
   ],
   "metadata": {
    "collapsed": false,
    "ExecuteTime": {
     "end_time": "2024-01-14T22:49:15.765800Z",
     "start_time": "2024-01-14T22:49:15.757320Z"
    }
   }
  },
  {
   "cell_type": "code",
   "execution_count": 32,
   "outputs": [
    {
     "data": {
      "text/plain": "ViolentCrimesPerPop\n0.03    104\n0.04     92\n0.06     86\n0.05     80\n0.02     74\n       ... \n0.79      2\n0.77      1\n0.89      1\n0.94      1\n0.96      1\nName: count, Length: 98, dtype: int64"
     },
     "execution_count": 32,
     "metadata": {},
     "output_type": "execute_result"
    }
   ],
   "source": [
    "df['ViolentCrimesPerPop'].value_counts()"
   ],
   "metadata": {
    "collapsed": false,
    "ExecuteTime": {
     "end_time": "2024-01-14T22:49:18.070802Z",
     "start_time": "2024-01-14T22:49:18.067189Z"
    }
   }
  },
  {
   "cell_type": "code",
   "execution_count": 33,
   "outputs": [
    {
     "name": "stdout",
     "output_type": "stream",
     "text": [
      "26\n",
      "['communityname']\n"
     ]
    }
   ],
   "source": [
    "categorical_columns = df.select_dtypes(include=['object', 'category']).columns.tolist()\n",
    "print(len(categorical_columns))\n",
    "for col in categorical_columns:\n",
    "    df[col] = pd.to_numeric(df[col], errors='ignore')\n",
    "# after those are taken care of we can drop the columns that are still object\n",
    "categorical_columns = df.select_dtypes(include=['object', 'category']).columns.tolist()\n",
    "print(categorical_columns)\n"
   ],
   "metadata": {
    "collapsed": false,
    "ExecuteTime": {
     "end_time": "2024-01-14T22:49:22.180902Z",
     "start_time": "2024-01-14T22:49:22.179040Z"
    }
   }
  },
  {
   "cell_type": "code",
   "execution_count": 34,
   "outputs": [
    {
     "name": "stderr",
     "output_type": "stream",
     "text": [
      "/Users/aryal/anaconda3/envs/Certain-Models/lib/python3.10/site-packages/sklearn/preprocessing/_encoders.py:975: FutureWarning: `sparse` was renamed to `sparse_output` in version 1.2 and will be removed in 1.4. `sparse_output` is ignored unless you leave `sparse` to its default value.\n",
      "  warnings.warn(\n"
     ]
    }
   ],
   "source": [
    "import pandas as pd\n",
    "from sklearn.preprocessing import OneHotEncoder\n",
    "\n",
    "# Select categorical columns\n",
    "categorical_columns = df.select_dtypes(include=['object', 'category']).columns.tolist()\n",
    "\n",
    "# Create a copy of the original dataframe to preserve the original columns\n",
    "df_encoded = df.copy()\n",
    "\n",
    "# Create an empty DataFrame to store the encoded columns\n",
    "encoded_data_frames = []\n",
    "\n",
    "# Define a list of transformers for each categorical column\n",
    "for col in categorical_columns:\n",
    "\n",
    "    # Create dummy variables using OneHotEncoder\n",
    "    encoder = OneHotEncoder(sparse=False, handle_unknown='ignore')\n",
    "    encoded_data = encoder.fit_transform(df_encoded[[col]])\n",
    "\n",
    "    # Get column names based on the original column and category\n",
    "    column_names = [category for category in encoder.get_feature_names_out([col])]\n",
    "\n",
    "    # Create a DataFrame for the encoded data\n",
    "    encoded_df = pd.DataFrame(encoded_data, columns=column_names, index=df_encoded.index)\n",
    "\n",
    "    # Add the encoded DataFrame to the list\n",
    "    encoded_data_frames.append(encoded_df)\n",
    "\n",
    "# Concatenate the original DataFrame and the list of encoded DataFrames\n",
    "df_encoded = pd.concat([df_encoded] + encoded_data_frames, axis=1)\n",
    "\n",
    "# Drop the original categorical columns\n",
    "df_encoded.drop(categorical_columns, axis=1, inplace=True)"
   ],
   "metadata": {
    "collapsed": false,
    "ExecuteTime": {
     "end_time": "2024-01-14T22:49:24.856603Z",
     "start_time": "2024-01-14T22:49:24.821002Z"
    }
   }
  },
  {
   "cell_type": "code",
   "execution_count": 35,
   "outputs": [
    {
     "name": "stdout",
     "output_type": "stream",
     "text": [
      "Your selected dataframe has 1955 columns.\n",
      "There are 25 columns that have missing values.\n"
     ]
    },
    {
     "data": {
      "text/plain": "                      Missing Values  % of Total Values Data Type\nPctPolicWhite                   1675               84.0   float64\nPctPolicBlack                   1675               84.0   float64\nLemasGangUnitDeploy             1675               84.0   float64\nLemasPctPolicOnPatr             1675               84.0   float64\nPolicOperBudg                   1675               84.0   float64\nPolicCars                       1675               84.0   float64\nPolicAveOTWorked                1675               84.0   float64\nNumKindsDrugsSeiz               1675               84.0   float64\nOfficAssgnDrugUnits             1675               84.0   float64\nPctPolicMinor                   1675               84.0   float64\nPctPolicAsian                   1675               84.0   float64\nPctPolicHisp                    1675               84.0   float64\nPolicBudgPerPop                 1675               84.0   float64\nRacialMatchCommPol              1675               84.0   float64\nPolicPerPop                     1675               84.0   float64\nPolicReqPerOffic                1675               84.0   float64\nLemasTotReqPerPop               1675               84.0   float64\nLemasTotalReq                   1675               84.0   float64\nLemasSwFTFieldPerPop            1675               84.0   float64\nLemasSwFTFieldOps               1675               84.0   float64\nLemasSwFTPerPop                 1675               84.0   float64\nLemasSwornFT                    1675               84.0   float64\ncommunity                       1177               59.0   float64\ncounty                          1174               58.9   float64\nOtherPerCap                        1                0.1   float64",
      "text/html": "<div>\n<style scoped>\n    .dataframe tbody tr th:only-of-type {\n        vertical-align: middle;\n    }\n\n    .dataframe tbody tr th {\n        vertical-align: top;\n    }\n\n    .dataframe thead th {\n        text-align: right;\n    }\n</style>\n<table border=\"1\" class=\"dataframe\">\n  <thead>\n    <tr style=\"text-align: right;\">\n      <th></th>\n      <th>Missing Values</th>\n      <th>% of Total Values</th>\n      <th>Data Type</th>\n    </tr>\n  </thead>\n  <tbody>\n    <tr>\n      <th>PctPolicWhite</th>\n      <td>1675</td>\n      <td>84.0</td>\n      <td>float64</td>\n    </tr>\n    <tr>\n      <th>PctPolicBlack</th>\n      <td>1675</td>\n      <td>84.0</td>\n      <td>float64</td>\n    </tr>\n    <tr>\n      <th>LemasGangUnitDeploy</th>\n      <td>1675</td>\n      <td>84.0</td>\n      <td>float64</td>\n    </tr>\n    <tr>\n      <th>LemasPctPolicOnPatr</th>\n      <td>1675</td>\n      <td>84.0</td>\n      <td>float64</td>\n    </tr>\n    <tr>\n      <th>PolicOperBudg</th>\n      <td>1675</td>\n      <td>84.0</td>\n      <td>float64</td>\n    </tr>\n    <tr>\n      <th>PolicCars</th>\n      <td>1675</td>\n      <td>84.0</td>\n      <td>float64</td>\n    </tr>\n    <tr>\n      <th>PolicAveOTWorked</th>\n      <td>1675</td>\n      <td>84.0</td>\n      <td>float64</td>\n    </tr>\n    <tr>\n      <th>NumKindsDrugsSeiz</th>\n      <td>1675</td>\n      <td>84.0</td>\n      <td>float64</td>\n    </tr>\n    <tr>\n      <th>OfficAssgnDrugUnits</th>\n      <td>1675</td>\n      <td>84.0</td>\n      <td>float64</td>\n    </tr>\n    <tr>\n      <th>PctPolicMinor</th>\n      <td>1675</td>\n      <td>84.0</td>\n      <td>float64</td>\n    </tr>\n    <tr>\n      <th>PctPolicAsian</th>\n      <td>1675</td>\n      <td>84.0</td>\n      <td>float64</td>\n    </tr>\n    <tr>\n      <th>PctPolicHisp</th>\n      <td>1675</td>\n      <td>84.0</td>\n      <td>float64</td>\n    </tr>\n    <tr>\n      <th>PolicBudgPerPop</th>\n      <td>1675</td>\n      <td>84.0</td>\n      <td>float64</td>\n    </tr>\n    <tr>\n      <th>RacialMatchCommPol</th>\n      <td>1675</td>\n      <td>84.0</td>\n      <td>float64</td>\n    </tr>\n    <tr>\n      <th>PolicPerPop</th>\n      <td>1675</td>\n      <td>84.0</td>\n      <td>float64</td>\n    </tr>\n    <tr>\n      <th>PolicReqPerOffic</th>\n      <td>1675</td>\n      <td>84.0</td>\n      <td>float64</td>\n    </tr>\n    <tr>\n      <th>LemasTotReqPerPop</th>\n      <td>1675</td>\n      <td>84.0</td>\n      <td>float64</td>\n    </tr>\n    <tr>\n      <th>LemasTotalReq</th>\n      <td>1675</td>\n      <td>84.0</td>\n      <td>float64</td>\n    </tr>\n    <tr>\n      <th>LemasSwFTFieldPerPop</th>\n      <td>1675</td>\n      <td>84.0</td>\n      <td>float64</td>\n    </tr>\n    <tr>\n      <th>LemasSwFTFieldOps</th>\n      <td>1675</td>\n      <td>84.0</td>\n      <td>float64</td>\n    </tr>\n    <tr>\n      <th>LemasSwFTPerPop</th>\n      <td>1675</td>\n      <td>84.0</td>\n      <td>float64</td>\n    </tr>\n    <tr>\n      <th>LemasSwornFT</th>\n      <td>1675</td>\n      <td>84.0</td>\n      <td>float64</td>\n    </tr>\n    <tr>\n      <th>community</th>\n      <td>1177</td>\n      <td>59.0</td>\n      <td>float64</td>\n    </tr>\n    <tr>\n      <th>county</th>\n      <td>1174</td>\n      <td>58.9</td>\n      <td>float64</td>\n    </tr>\n    <tr>\n      <th>OtherPerCap</th>\n      <td>1</td>\n      <td>0.1</td>\n      <td>float64</td>\n    </tr>\n  </tbody>\n</table>\n</div>"
     },
     "execution_count": 35,
     "metadata": {},
     "output_type": "execute_result"
    }
   ],
   "source": [
    "missing_values_table(df_encoded)"
   ],
   "metadata": {
    "collapsed": false,
    "ExecuteTime": {
     "end_time": "2024-01-14T22:49:26.957296Z",
     "start_time": "2024-01-14T22:49:26.944079Z"
    }
   }
  },
  {
   "cell_type": "code",
   "execution_count": 36,
   "outputs": [
    {
     "data": {
      "text/plain": "state                             int64\ncounty                          float64\ncommunity                       float64\nfold                              int64\npopulation                      float64\n                                 ...   \ncommunityname_Youngstowncity    float64\ncommunityname_YubaCitycity      float64\ncommunityname_Yucaipacity       float64\ncommunityname_Yukoncity         float64\ncommunityname_Zanesvillecity    float64\nLength: 1955, dtype: object"
     },
     "execution_count": 36,
     "metadata": {},
     "output_type": "execute_result"
    }
   ],
   "source": [
    "df_encoded.dtypes"
   ],
   "metadata": {
    "collapsed": false,
    "ExecuteTime": {
     "end_time": "2024-01-14T22:49:28.462864Z",
     "start_time": "2024-01-14T22:49:28.460656Z"
    }
   }
  },
  {
   "cell_type": "code",
   "execution_count": 25,
   "outputs": [],
   "source": [
    "path = os.path.join('Final-Datasets', 'CommunitiesAndCrime.csv')"
   ],
   "metadata": {
    "collapsed": false,
    "ExecuteTime": {
     "end_time": "2024-01-14T20:42:43.530700Z",
     "start_time": "2024-01-14T20:42:43.525019Z"
    }
   }
  },
  {
   "cell_type": "code",
   "execution_count": 26,
   "outputs": [],
   "source": [
    "df_encoded.to_csv(path,index=False)"
   ],
   "metadata": {
    "collapsed": false,
    "ExecuteTime": {
     "end_time": "2024-01-14T20:42:49.574519Z",
     "start_time": "2024-01-14T20:42:48.589501Z"
    }
   }
  },
  {
   "cell_type": "code",
   "execution_count": null,
   "outputs": [],
   "source": [],
   "metadata": {
    "collapsed": false
   }
  }
 ],
 "metadata": {
  "kernelspec": {
   "display_name": "Python 3",
   "language": "python",
   "name": "python3"
  },
  "language_info": {
   "codemirror_mode": {
    "name": "ipython",
    "version": 2
   },
   "file_extension": ".py",
   "mimetype": "text/x-python",
   "name": "python",
   "nbconvert_exporter": "python",
   "pygments_lexer": "ipython2",
   "version": "2.7.6"
  }
 },
 "nbformat": 4,
 "nbformat_minor": 0
}
