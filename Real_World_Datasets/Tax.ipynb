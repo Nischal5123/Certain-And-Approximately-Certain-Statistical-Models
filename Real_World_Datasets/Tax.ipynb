{
 "cells": [
  {
   "cell_type": "code",
   "execution_count": 1,
   "metadata": {
    "collapsed": true,
    "ExecuteTime": {
     "end_time": "2024-01-18T02:14:12.762881Z",
     "start_time": "2024-01-18T02:14:11.725801Z"
    }
   },
   "outputs": [],
   "source": [
    "import pandas as pd\n",
    "import os\n",
    "from utils import drop_categorical_columns\n",
    "from utils import missing_values_table\n",
    "import numpy as np"
   ]
  },
  {
   "cell_type": "code",
   "execution_count": 2,
   "outputs": [],
   "source": [
    "def drop_label_with_null(df, column_name):\n",
    "    # Drop rows where the specified column is null\n",
    "    df_cleaned = df.dropna(subset=[column_name])\n",
    "    return df_cleaned"
   ],
   "metadata": {
    "collapsed": false,
    "ExecuteTime": {
     "end_time": "2024-01-18T02:14:12.765430Z",
     "start_time": "2024-01-18T02:14:12.763998Z"
    }
   }
  },
  {
   "cell_type": "code",
   "execution_count": 3,
   "outputs": [
    {
     "data": {
      "text/plain": "(99999, 15)"
     },
     "execution_count": 3,
     "metadata": {},
     "output_type": "execute_result"
    }
   ],
   "source": [
    "path = os.path.join('TestDataset', 'Tax.csv')\n",
    "df = pd.read_csv(path)\n",
    "\n",
    "df.shape"
   ],
   "metadata": {
    "collapsed": false,
    "ExecuteTime": {
     "end_time": "2024-01-18T02:14:21.764689Z",
     "start_time": "2024-01-18T02:14:21.646842Z"
    }
   }
  },
  {
   "cell_type": "code",
   "execution_count": 4,
   "outputs": [
    {
     "name": "stdout",
     "output_type": "stream",
     "text": [
      "Your selected dataframe has 15 columns.\n",
      "There are 1 columns that have missing values.\n"
     ]
    },
    {
     "data": {
      "text/plain": "           Missing Values  % of Total Values Data Type\n2.1034775              96                0.1   float64",
      "text/html": "<div>\n<style scoped>\n    .dataframe tbody tr th:only-of-type {\n        vertical-align: middle;\n    }\n\n    .dataframe tbody tr th {\n        vertical-align: top;\n    }\n\n    .dataframe thead th {\n        text-align: right;\n    }\n</style>\n<table border=\"1\" class=\"dataframe\">\n  <thead>\n    <tr style=\"text-align: right;\">\n      <th></th>\n      <th>Missing Values</th>\n      <th>% of Total Values</th>\n      <th>Data Type</th>\n    </tr>\n  </thead>\n  <tbody>\n    <tr>\n      <th>2.1034775</th>\n      <td>96</td>\n      <td>0.1</td>\n      <td>float64</td>\n    </tr>\n  </tbody>\n</table>\n</div>"
     },
     "execution_count": 4,
     "metadata": {},
     "output_type": "execute_result"
    }
   ],
   "source": [
    "missing_values_table(df)"
   ],
   "metadata": {
    "collapsed": false,
    "ExecuteTime": {
     "end_time": "2024-01-18T02:14:23.147391Z",
     "start_time": "2024-01-18T02:14:23.097798Z"
    }
   }
  },
  {
   "cell_type": "code",
   "execution_count": 10,
   "outputs": [
    {
     "data": {
      "text/plain": "      Hennie Hannenhalli  F   701  163-9973           ROSS  ND  58776  S  Y  \\\n0   Jianjian   Jokiniemi  M   802  698-3590     BURLINGTON  VT   5401  M  Y   \n1       Rene        Beke  F   801  619-2334        CORNISH  UT  84308  M  Y   \n2    Mansour      Tawfik  M   419  466-1171      CLEVELAND  OH  44111  S  Y   \n3  Dushyanth    Khetawat  F   417  131-3931       REPUBLIC  MO  65738  S  Y   \n4     Byoung      Claire  F   347  721-3742       NEW YORK  NY  10268  S  Y   \n5      Elben   Goullioud  F   731  666-7840     FLINTVILLE  TN  37335  S  N   \n6   Yuichiro       Uckun  F   808  605-9466  MOUNTAIN VIEW  HI  96771  S  N   \n7    PerOlof     Motwani  F   980  848-4643       POTECASI  NC  27867  S  Y   \n8   Eduardus     Deineko  M   402  865-6591      BELVIDERE  NE  68315  M  Y   \n9       Eser      Duparc  F   303  587-2027           CARR  CO  80612  S  N   \n\n    30000  2.1034775  3300     0  3300.1  \n0   60000   4.198854     0  6600    3300  \n1   25000   7.000000     0  4950    2475  \n2   20000   1.209923  1300     0    1300  \n3   40000   6.000000  2100     0    1200  \n4  100000   4.532927     0     0    1000  \n5    5000   0.000000     0     0       0  \n6   75000   8.250000  1040     0       0  \n7  100000   7.830419  3300     0    3300  \n8   60000   6.840000     0   206     103  \n9   15000   4.630000     0     0       0  ",
      "text/html": "<div>\n<style scoped>\n    .dataframe tbody tr th:only-of-type {\n        vertical-align: middle;\n    }\n\n    .dataframe tbody tr th {\n        vertical-align: top;\n    }\n\n    .dataframe thead th {\n        text-align: right;\n    }\n</style>\n<table border=\"1\" class=\"dataframe\">\n  <thead>\n    <tr style=\"text-align: right;\">\n      <th></th>\n      <th>Hennie</th>\n      <th>Hannenhalli</th>\n      <th>F</th>\n      <th>701</th>\n      <th>163-9973</th>\n      <th>ROSS</th>\n      <th>ND</th>\n      <th>58776</th>\n      <th>S</th>\n      <th>Y</th>\n      <th>30000</th>\n      <th>2.1034775</th>\n      <th>3300</th>\n      <th>0</th>\n      <th>3300.1</th>\n    </tr>\n  </thead>\n  <tbody>\n    <tr>\n      <th>0</th>\n      <td>Jianjian</td>\n      <td>Jokiniemi</td>\n      <td>M</td>\n      <td>802</td>\n      <td>698-3590</td>\n      <td>BURLINGTON</td>\n      <td>VT</td>\n      <td>5401</td>\n      <td>M</td>\n      <td>Y</td>\n      <td>60000</td>\n      <td>4.198854</td>\n      <td>0</td>\n      <td>6600</td>\n      <td>3300</td>\n    </tr>\n    <tr>\n      <th>1</th>\n      <td>Rene</td>\n      <td>Beke</td>\n      <td>F</td>\n      <td>801</td>\n      <td>619-2334</td>\n      <td>CORNISH</td>\n      <td>UT</td>\n      <td>84308</td>\n      <td>M</td>\n      <td>Y</td>\n      <td>25000</td>\n      <td>7.000000</td>\n      <td>0</td>\n      <td>4950</td>\n      <td>2475</td>\n    </tr>\n    <tr>\n      <th>2</th>\n      <td>Mansour</td>\n      <td>Tawfik</td>\n      <td>M</td>\n      <td>419</td>\n      <td>466-1171</td>\n      <td>CLEVELAND</td>\n      <td>OH</td>\n      <td>44111</td>\n      <td>S</td>\n      <td>Y</td>\n      <td>20000</td>\n      <td>1.209923</td>\n      <td>1300</td>\n      <td>0</td>\n      <td>1300</td>\n    </tr>\n    <tr>\n      <th>3</th>\n      <td>Dushyanth</td>\n      <td>Khetawat</td>\n      <td>F</td>\n      <td>417</td>\n      <td>131-3931</td>\n      <td>REPUBLIC</td>\n      <td>MO</td>\n      <td>65738</td>\n      <td>S</td>\n      <td>Y</td>\n      <td>40000</td>\n      <td>6.000000</td>\n      <td>2100</td>\n      <td>0</td>\n      <td>1200</td>\n    </tr>\n    <tr>\n      <th>4</th>\n      <td>Byoung</td>\n      <td>Claire</td>\n      <td>F</td>\n      <td>347</td>\n      <td>721-3742</td>\n      <td>NEW YORK</td>\n      <td>NY</td>\n      <td>10268</td>\n      <td>S</td>\n      <td>Y</td>\n      <td>100000</td>\n      <td>4.532927</td>\n      <td>0</td>\n      <td>0</td>\n      <td>1000</td>\n    </tr>\n    <tr>\n      <th>5</th>\n      <td>Elben</td>\n      <td>Goullioud</td>\n      <td>F</td>\n      <td>731</td>\n      <td>666-7840</td>\n      <td>FLINTVILLE</td>\n      <td>TN</td>\n      <td>37335</td>\n      <td>S</td>\n      <td>N</td>\n      <td>5000</td>\n      <td>0.000000</td>\n      <td>0</td>\n      <td>0</td>\n      <td>0</td>\n    </tr>\n    <tr>\n      <th>6</th>\n      <td>Yuichiro</td>\n      <td>Uckun</td>\n      <td>F</td>\n      <td>808</td>\n      <td>605-9466</td>\n      <td>MOUNTAIN VIEW</td>\n      <td>HI</td>\n      <td>96771</td>\n      <td>S</td>\n      <td>N</td>\n      <td>75000</td>\n      <td>8.250000</td>\n      <td>1040</td>\n      <td>0</td>\n      <td>0</td>\n    </tr>\n    <tr>\n      <th>7</th>\n      <td>PerOlof</td>\n      <td>Motwani</td>\n      <td>F</td>\n      <td>980</td>\n      <td>848-4643</td>\n      <td>POTECASI</td>\n      <td>NC</td>\n      <td>27867</td>\n      <td>S</td>\n      <td>Y</td>\n      <td>100000</td>\n      <td>7.830419</td>\n      <td>3300</td>\n      <td>0</td>\n      <td>3300</td>\n    </tr>\n    <tr>\n      <th>8</th>\n      <td>Eduardus</td>\n      <td>Deineko</td>\n      <td>M</td>\n      <td>402</td>\n      <td>865-6591</td>\n      <td>BELVIDERE</td>\n      <td>NE</td>\n      <td>68315</td>\n      <td>M</td>\n      <td>Y</td>\n      <td>60000</td>\n      <td>6.840000</td>\n      <td>0</td>\n      <td>206</td>\n      <td>103</td>\n    </tr>\n    <tr>\n      <th>9</th>\n      <td>Eser</td>\n      <td>Duparc</td>\n      <td>F</td>\n      <td>303</td>\n      <td>587-2027</td>\n      <td>CARR</td>\n      <td>CO</td>\n      <td>80612</td>\n      <td>S</td>\n      <td>N</td>\n      <td>15000</td>\n      <td>4.630000</td>\n      <td>0</td>\n      <td>0</td>\n      <td>0</td>\n    </tr>\n  </tbody>\n</table>\n</div>"
     },
     "execution_count": 10,
     "metadata": {},
     "output_type": "execute_result"
    }
   ],
   "source": [
    "df.head(10)"
   ],
   "metadata": {
    "collapsed": false,
    "ExecuteTime": {
     "end_time": "2024-01-18T02:15:16.195831Z",
     "start_time": "2024-01-18T02:15:16.191875Z"
    }
   }
  },
  {
   "cell_type": "code",
   "execution_count": 6,
   "outputs": [],
   "source": [
    "# Replace all occurrences of -200 with NaN\n",
    "df.replace('?', np.nan, inplace=True)"
   ],
   "metadata": {
    "collapsed": false,
    "ExecuteTime": {
     "end_time": "2024-01-18T02:14:32.510412Z",
     "start_time": "2024-01-18T02:14:32.493900Z"
    }
   }
  },
  {
   "cell_type": "code",
   "execution_count": 7,
   "outputs": [
    {
     "name": "stdout",
     "output_type": "stream",
     "text": [
      "Your selected dataframe has 15 columns.\n",
      "There are 1 columns that have missing values.\n"
     ]
    },
    {
     "data": {
      "text/plain": "           Missing Values  % of Total Values Data Type\n2.1034775              96                0.1   float64",
      "text/html": "<div>\n<style scoped>\n    .dataframe tbody tr th:only-of-type {\n        vertical-align: middle;\n    }\n\n    .dataframe tbody tr th {\n        vertical-align: top;\n    }\n\n    .dataframe thead th {\n        text-align: right;\n    }\n</style>\n<table border=\"1\" class=\"dataframe\">\n  <thead>\n    <tr style=\"text-align: right;\">\n      <th></th>\n      <th>Missing Values</th>\n      <th>% of Total Values</th>\n      <th>Data Type</th>\n    </tr>\n  </thead>\n  <tbody>\n    <tr>\n      <th>2.1034775</th>\n      <td>96</td>\n      <td>0.1</td>\n      <td>float64</td>\n    </tr>\n  </tbody>\n</table>\n</div>"
     },
     "execution_count": 7,
     "metadata": {},
     "output_type": "execute_result"
    }
   ],
   "source": [
    "missing_values_table(df)"
   ],
   "metadata": {
    "collapsed": false,
    "ExecuteTime": {
     "end_time": "2024-01-18T02:14:33.142645Z",
     "start_time": "2024-01-18T02:14:33.121172Z"
    }
   }
  },
  {
   "cell_type": "code",
   "execution_count": 8,
   "outputs": [
    {
     "name": "stdout",
     "output_type": "stream",
     "text": [
      "8\n",
      "['Hennie', 'Hannenhalli', 'F', '163-9973', 'ROSS', 'ND', 'S', 'Y']\n"
     ]
    }
   ],
   "source": [
    "categorical_columns = df.select_dtypes(include=['object', 'category']).columns.tolist()\n",
    "print(len(categorical_columns))\n",
    "for col in categorical_columns:\n",
    "    df[col] = pd.to_numeric(df[col], errors='ignore')\n",
    "# after those are taken care of we can drop the columns that are still object\n",
    "categorical_columns = df.select_dtypes(include=['object', 'category']).columns.tolist()\n",
    "print(categorical_columns)\n"
   ],
   "metadata": {
    "collapsed": false,
    "ExecuteTime": {
     "end_time": "2024-01-18T02:14:42.157393Z",
     "start_time": "2024-01-18T02:14:42.116333Z"
    }
   }
  },
  {
   "cell_type": "code",
   "execution_count": 9,
   "outputs": [
    {
     "name": "stdout",
     "output_type": "stream",
     "text": [
      "8\n"
     ]
    }
   ],
   "source": [
    "categorical_columns = df.select_dtypes(include=['object', 'category']).columns.tolist()\n",
    "print(len(categorical_columns))"
   ],
   "metadata": {
    "collapsed": false,
    "ExecuteTime": {
     "end_time": "2024-01-18T02:14:58.604440Z",
     "start_time": "2024-01-18T02:14:58.582473Z"
    }
   }
  },
  {
   "cell_type": "code",
   "execution_count": 80,
   "outputs": [
    {
     "name": "stderr",
     "output_type": "stream",
     "text": [
      "/Users/aryal/anaconda3/envs/Certain-Models/lib/python3.10/site-packages/sklearn/preprocessing/_encoders.py:975: FutureWarning: `sparse` was renamed to `sparse_output` in version 1.2 and will be removed in 1.4. `sparse_output` is ignored unless you leave `sparse` to its default value.\n",
      "  warnings.warn(\n"
     ]
    }
   ],
   "source": [
    "import pandas as pd\n",
    "from sklearn.preprocessing import OneHotEncoder\n",
    "\n",
    "# Select categorical columns\n",
    "categorical_columns = df.select_dtypes(include=['object', 'category']).columns.tolist()\n",
    "\n",
    "# Create a copy of the original dataframe to preserve the original columns\n",
    "df_encoded = df.copy()\n",
    "\n",
    "# Create an empty DataFrame to store the encoded columns\n",
    "encoded_data_frames = []\n",
    "\n",
    "# Define a list of transformers for each categorical column\n",
    "for col in categorical_columns:\n",
    "\n",
    "    # Create dummy variables using OneHotEncoder\n",
    "    encoder = OneHotEncoder(sparse=False, handle_unknown='ignore')\n",
    "    encoded_data = encoder.fit_transform(df_encoded[[col]])\n",
    "\n",
    "    # Get column names based on the original column and category\n",
    "    column_names = [category for category in encoder.get_feature_names_out([col])]\n",
    "\n",
    "    # Create a DataFrame for the encoded data\n",
    "    encoded_df = pd.DataFrame(encoded_data, columns=column_names, index=df_encoded.index)\n",
    "\n",
    "    # Add the encoded DataFrame to the list\n",
    "    encoded_data_frames.append(encoded_df)\n",
    "\n",
    "# Concatenate the original DataFrame and the list of encoded DataFrames\n",
    "df_encoded = pd.concat([df_encoded] + encoded_data_frames, axis=1)\n",
    "\n",
    "# Drop the original categorical columns\n",
    "df_encoded.drop(categorical_columns, axis=1, inplace=True)"
   ],
   "metadata": {
    "collapsed": false,
    "ExecuteTime": {
     "end_time": "2024-01-16T05:55:21.463786Z",
     "start_time": "2024-01-16T05:55:21.330052Z"
    }
   }
  },
  {
   "cell_type": "code",
   "execution_count": 81,
   "outputs": [
    {
     "data": {
      "text/plain": "   critical_staffing_shortage_today_yes  critical_staffing_shortage_today_no  \\\n0                                    16                                   38   \n1                                     8                                   70   \n2                                     4                                    9   \n3                                    12                                   89   \n4                                     4                                    9   \n\n   critical_staffing_shortage_today_not_reported  \\\n0                                              1   \n1                                              1   \n2                                              1   \n3                                              1   \n4                                              2   \n\n   critical_staffing_shortage_anticipated_within_week_yes  \\\n0                                                 18        \n1                                                  6        \n2                                                  4        \n3                                                 10        \n4                                                  4        \n\n   critical_staffing_shortage_anticipated_within_week_no  \\\n0                                                 36       \n1                                                 72       \n2                                                  9       \n3                                                 91       \n4                                                  9       \n\n   critical_staffing_shortage_anticipated_within_week_not_reported  \\\n0                                                  1                 \n1                                                  1                 \n2                                                  1                 \n3                                                  1                 \n4                                                  2                 \n\n   hospital_onset_covid  hospital_onset_covid_coverage  inpatient_beds  \\\n0                   2.0                             54          4407.0   \n1                   4.0                             78         17028.0   \n2                   8.0                             13          2513.0   \n3                   5.0                            101         19087.0   \n4                   7.0                             14          2592.0   \n\n   inpatient_beds_coverage  ...  state_TN  state_TX  state_UT  state_VA  \\\n0                       55  ...       0.0       0.0       0.0       0.0   \n1                       79  ...       0.0       0.0       0.0       0.0   \n2                       14  ...       0.0       0.0       0.0       0.0   \n3                      102  ...       0.0       0.0       0.0       0.0   \n4                       15  ...       0.0       0.0       0.0       0.0   \n\n   state_VI  state_VT  state_WA  state_WI  state_WV  state_WY  \n0       0.0       0.0       0.0       0.0       0.0       0.0  \n1       0.0       0.0       0.0       0.0       0.0       0.0  \n2       0.0       0.0       0.0       0.0       0.0       0.0  \n3       0.0       0.0       0.0       0.0       0.0       0.0  \n4       0.0       0.0       0.0       0.0       0.0       0.0  \n\n[5 rows x 189 columns]",
      "text/html": "<div>\n<style scoped>\n    .dataframe tbody tr th:only-of-type {\n        vertical-align: middle;\n    }\n\n    .dataframe tbody tr th {\n        vertical-align: top;\n    }\n\n    .dataframe thead th {\n        text-align: right;\n    }\n</style>\n<table border=\"1\" class=\"dataframe\">\n  <thead>\n    <tr style=\"text-align: right;\">\n      <th></th>\n      <th>critical_staffing_shortage_today_yes</th>\n      <th>critical_staffing_shortage_today_no</th>\n      <th>critical_staffing_shortage_today_not_reported</th>\n      <th>critical_staffing_shortage_anticipated_within_week_yes</th>\n      <th>critical_staffing_shortage_anticipated_within_week_no</th>\n      <th>critical_staffing_shortage_anticipated_within_week_not_reported</th>\n      <th>hospital_onset_covid</th>\n      <th>hospital_onset_covid_coverage</th>\n      <th>inpatient_beds</th>\n      <th>inpatient_beds_coverage</th>\n      <th>...</th>\n      <th>state_TN</th>\n      <th>state_TX</th>\n      <th>state_UT</th>\n      <th>state_VA</th>\n      <th>state_VI</th>\n      <th>state_VT</th>\n      <th>state_WA</th>\n      <th>state_WI</th>\n      <th>state_WV</th>\n      <th>state_WY</th>\n    </tr>\n  </thead>\n  <tbody>\n    <tr>\n      <th>0</th>\n      <td>16</td>\n      <td>38</td>\n      <td>1</td>\n      <td>18</td>\n      <td>36</td>\n      <td>1</td>\n      <td>2.0</td>\n      <td>54</td>\n      <td>4407.0</td>\n      <td>55</td>\n      <td>...</td>\n      <td>0.0</td>\n      <td>0.0</td>\n      <td>0.0</td>\n      <td>0.0</td>\n      <td>0.0</td>\n      <td>0.0</td>\n      <td>0.0</td>\n      <td>0.0</td>\n      <td>0.0</td>\n      <td>0.0</td>\n    </tr>\n    <tr>\n      <th>1</th>\n      <td>8</td>\n      <td>70</td>\n      <td>1</td>\n      <td>6</td>\n      <td>72</td>\n      <td>1</td>\n      <td>4.0</td>\n      <td>78</td>\n      <td>17028.0</td>\n      <td>79</td>\n      <td>...</td>\n      <td>0.0</td>\n      <td>0.0</td>\n      <td>0.0</td>\n      <td>0.0</td>\n      <td>0.0</td>\n      <td>0.0</td>\n      <td>0.0</td>\n      <td>0.0</td>\n      <td>0.0</td>\n      <td>0.0</td>\n    </tr>\n    <tr>\n      <th>2</th>\n      <td>4</td>\n      <td>9</td>\n      <td>1</td>\n      <td>4</td>\n      <td>9</td>\n      <td>1</td>\n      <td>8.0</td>\n      <td>13</td>\n      <td>2513.0</td>\n      <td>14</td>\n      <td>...</td>\n      <td>0.0</td>\n      <td>0.0</td>\n      <td>0.0</td>\n      <td>0.0</td>\n      <td>0.0</td>\n      <td>0.0</td>\n      <td>0.0</td>\n      <td>0.0</td>\n      <td>0.0</td>\n      <td>0.0</td>\n    </tr>\n    <tr>\n      <th>3</th>\n      <td>12</td>\n      <td>89</td>\n      <td>1</td>\n      <td>10</td>\n      <td>91</td>\n      <td>1</td>\n      <td>5.0</td>\n      <td>101</td>\n      <td>19087.0</td>\n      <td>102</td>\n      <td>...</td>\n      <td>0.0</td>\n      <td>0.0</td>\n      <td>0.0</td>\n      <td>0.0</td>\n      <td>0.0</td>\n      <td>0.0</td>\n      <td>0.0</td>\n      <td>0.0</td>\n      <td>0.0</td>\n      <td>0.0</td>\n    </tr>\n    <tr>\n      <th>4</th>\n      <td>4</td>\n      <td>9</td>\n      <td>2</td>\n      <td>4</td>\n      <td>9</td>\n      <td>2</td>\n      <td>7.0</td>\n      <td>14</td>\n      <td>2592.0</td>\n      <td>15</td>\n      <td>...</td>\n      <td>0.0</td>\n      <td>0.0</td>\n      <td>0.0</td>\n      <td>0.0</td>\n      <td>0.0</td>\n      <td>0.0</td>\n      <td>0.0</td>\n      <td>0.0</td>\n      <td>0.0</td>\n      <td>0.0</td>\n    </tr>\n  </tbody>\n</table>\n<p>5 rows × 189 columns</p>\n</div>"
     },
     "execution_count": 81,
     "metadata": {},
     "output_type": "execute_result"
    }
   ],
   "source": [
    "df_encoded.head(5)"
   ],
   "metadata": {
    "collapsed": false,
    "ExecuteTime": {
     "end_time": "2024-01-16T05:55:30.295464Z",
     "start_time": "2024-01-16T05:55:30.276909Z"
    }
   }
  },
  {
   "cell_type": "code",
   "execution_count": 82,
   "outputs": [
    {
     "name": "stdout",
     "output_type": "stream",
     "text": [
      "Your selected dataframe has 189 columns.\n",
      "There are 76 columns that have missing values.\n"
     ]
    },
    {
     "data": {
      "text/plain": "                                                    Missing Values  \\\nprevious_day_admission_pediatric_covid_confirme...           37041   \nprevious_day_admission_pediatric_covid_confirme...           37028   \nprevious_day_admission_pediatric_covid_confirme...           36412   \nprevious_day_admission_pediatric_covid_confirme...           36296   \nstaffed_icu_pediatric_patients_confirmed_covid               30149   \n...                                                            ...   \ninpatient_beds_utilization_numerator                           264   \ninpatient_beds_utilization_denominator                         264   \ninpatient_beds_used                                            264   \ninpatient_beds_utilization_coverage                            264   \ninpatient_beds                                                   5   \n\n                                                    % of Total Values  \\\nprevious_day_admission_pediatric_covid_confirme...               49.2   \nprevious_day_admission_pediatric_covid_confirme...               49.2   \nprevious_day_admission_pediatric_covid_confirme...               48.4   \nprevious_day_admission_pediatric_covid_confirme...               48.2   \nstaffed_icu_pediatric_patients_confirmed_covid                   40.0   \n...                                                               ...   \ninpatient_beds_utilization_numerator                              0.4   \ninpatient_beds_utilization_denominator                            0.4   \ninpatient_beds_used                                               0.4   \ninpatient_beds_utilization_coverage                               0.4   \ninpatient_beds                                                    0.0   \n\n                                                   Data Type  \nprevious_day_admission_pediatric_covid_confirme...   float64  \nprevious_day_admission_pediatric_covid_confirme...   float64  \nprevious_day_admission_pediatric_covid_confirme...   float64  \nprevious_day_admission_pediatric_covid_confirme...   float64  \nstaffed_icu_pediatric_patients_confirmed_covid       float64  \n...                                                      ...  \ninpatient_beds_utilization_numerator                 float64  \ninpatient_beds_utilization_denominator               float64  \ninpatient_beds_used                                  float64  \ninpatient_beds_utilization_coverage                  float64  \ninpatient_beds                                       float64  \n\n[76 rows x 3 columns]",
      "text/html": "<div>\n<style scoped>\n    .dataframe tbody tr th:only-of-type {\n        vertical-align: middle;\n    }\n\n    .dataframe tbody tr th {\n        vertical-align: top;\n    }\n\n    .dataframe thead th {\n        text-align: right;\n    }\n</style>\n<table border=\"1\" class=\"dataframe\">\n  <thead>\n    <tr style=\"text-align: right;\">\n      <th></th>\n      <th>Missing Values</th>\n      <th>% of Total Values</th>\n      <th>Data Type</th>\n    </tr>\n  </thead>\n  <tbody>\n    <tr>\n      <th>previous_day_admission_pediatric_covid_confirmed_12_17</th>\n      <td>37041</td>\n      <td>49.2</td>\n      <td>float64</td>\n    </tr>\n    <tr>\n      <th>previous_day_admission_pediatric_covid_confirmed_5_11</th>\n      <td>37028</td>\n      <td>49.2</td>\n      <td>float64</td>\n    </tr>\n    <tr>\n      <th>previous_day_admission_pediatric_covid_confirmed_0_4</th>\n      <td>36412</td>\n      <td>48.4</td>\n      <td>float64</td>\n    </tr>\n    <tr>\n      <th>previous_day_admission_pediatric_covid_confirmed_unknown</th>\n      <td>36296</td>\n      <td>48.2</td>\n      <td>float64</td>\n    </tr>\n    <tr>\n      <th>staffed_icu_pediatric_patients_confirmed_covid</th>\n      <td>30149</td>\n      <td>40.0</td>\n      <td>float64</td>\n    </tr>\n    <tr>\n      <th>...</th>\n      <td>...</td>\n      <td>...</td>\n      <td>...</td>\n    </tr>\n    <tr>\n      <th>inpatient_beds_utilization_numerator</th>\n      <td>264</td>\n      <td>0.4</td>\n      <td>float64</td>\n    </tr>\n    <tr>\n      <th>inpatient_beds_utilization_denominator</th>\n      <td>264</td>\n      <td>0.4</td>\n      <td>float64</td>\n    </tr>\n    <tr>\n      <th>inpatient_beds_used</th>\n      <td>264</td>\n      <td>0.4</td>\n      <td>float64</td>\n    </tr>\n    <tr>\n      <th>inpatient_beds_utilization_coverage</th>\n      <td>264</td>\n      <td>0.4</td>\n      <td>float64</td>\n    </tr>\n    <tr>\n      <th>inpatient_beds</th>\n      <td>5</td>\n      <td>0.0</td>\n      <td>float64</td>\n    </tr>\n  </tbody>\n</table>\n<p>76 rows × 3 columns</p>\n</div>"
     },
     "execution_count": 82,
     "metadata": {},
     "output_type": "execute_result"
    }
   ],
   "source": [
    "missing_values_table(df_encoded)"
   ],
   "metadata": {
    "collapsed": false,
    "ExecuteTime": {
     "end_time": "2024-01-16T05:55:50.896479Z",
     "start_time": "2024-01-16T05:55:50.838231Z"
    }
   }
  },
  {
   "cell_type": "code",
   "execution_count": 83,
   "outputs": [
    {
     "data": {
      "text/plain": "0        1.0\n1        0.0\n2        0.0\n3        0.0\n4        0.0\n        ... \n75282    0.0\n75283    0.0\n75284    0.0\n75285    1.0\n75286    0.0\nName: state_NM, Length: 75287, dtype: float64"
     },
     "execution_count": 83,
     "metadata": {},
     "output_type": "execute_result"
    }
   ],
   "source": [
    "df_encoded['state_NM']"
   ],
   "metadata": {
    "collapsed": false,
    "ExecuteTime": {
     "end_time": "2024-01-16T05:55:59.567749Z",
     "start_time": "2024-01-16T05:55:59.559634Z"
    }
   }
  },
  {
   "cell_type": "code",
   "execution_count": 84,
   "outputs": [],
   "source": [
    "path = os.path.join('Final-Datasets', 'COVID-encoded.csv')"
   ],
   "metadata": {
    "collapsed": false,
    "ExecuteTime": {
     "end_time": "2024-01-16T05:56:12.717036Z",
     "start_time": "2024-01-16T05:56:12.711164Z"
    }
   }
  },
  {
   "cell_type": "code",
   "execution_count": 85,
   "outputs": [],
   "source": [
    "df_encoded.to_csv(path,index=False)"
   ],
   "metadata": {
    "collapsed": false,
    "ExecuteTime": {
     "end_time": "2024-01-16T05:56:22.399800Z",
     "start_time": "2024-01-16T05:56:19.879724Z"
    }
   }
  },
  {
   "cell_type": "code",
   "execution_count": null,
   "outputs": [],
   "source": [],
   "metadata": {
    "collapsed": false
   }
  }
 ],
 "metadata": {
  "kernelspec": {
   "display_name": "Python 3",
   "language": "python",
   "name": "python3"
  },
  "language_info": {
   "codemirror_mode": {
    "name": "ipython",
    "version": 2
   },
   "file_extension": ".py",
   "mimetype": "text/x-python",
   "name": "python",
   "nbconvert_exporter": "python",
   "pygments_lexer": "ipython2",
   "version": "2.7.6"
  }
 },
 "nbformat": 4,
 "nbformat_minor": 0
}
