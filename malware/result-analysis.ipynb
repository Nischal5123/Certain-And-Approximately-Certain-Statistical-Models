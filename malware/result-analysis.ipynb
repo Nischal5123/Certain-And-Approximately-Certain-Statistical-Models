{
 "cells": [
  {
   "cell_type": "code",
   "execution_count": 30,
   "metadata": {
    "collapsed": true,
    "ExecuteTime": {
     "end_time": "2024-01-12T00:02:55.655518Z",
     "start_time": "2024-01-12T00:02:55.620327Z"
    }
   },
   "outputs": [
    {
     "name": "stdout",
     "output_type": "stream",
     "text": [
      "['MALWARE_0.05_1.txt', 'MALWARE_0.05_3.txt', 'MALWARE_0.05_2.txt', 'MALWARE_0.01_2.txt', 'MALWARE_0.01_3.txt', 'MALWARE_0.01_1.txt', 'MALWARE_0.001_1.txt', 'MALWARE_0.001_3.txt', 'MALWARE_0.001_2.txt']\n"
     ]
    },
    {
     "ename": "ValueError",
     "evalue": "could not convert string to float: 'None'",
     "output_type": "error",
     "traceback": [
      "\u001B[0;31m---------------------------------------------------------------------------\u001B[0m",
      "\u001B[0;31mValueError\u001B[0m                                Traceback (most recent call last)",
      "Cell \u001B[0;32mIn[30], line 102\u001B[0m\n\u001B[1;32m    100\u001B[0m \u001B[38;5;66;03m# Example usage\u001B[39;00m\n\u001B[1;32m    101\u001B[0m directory_path \u001B[38;5;241m=\u001B[39m \u001B[38;5;124m'\u001B[39m\u001B[38;5;124mResults/\u001B[39m\u001B[38;5;124m'\u001B[39m  \u001B[38;5;66;03m# Change this to the directory where your trial files are stored\u001B[39;00m\n\u001B[0;32m--> 102\u001B[0m result_df \u001B[38;5;241m=\u001B[39m \u001B[43mprocess_all_trials\u001B[49m\u001B[43m(\u001B[49m\u001B[43mdirectory_path\u001B[49m\u001B[43m)\u001B[49m\n\u001B[1;32m    104\u001B[0m \u001B[38;5;28;01mif\u001B[39;00m result_df \u001B[38;5;129;01mis\u001B[39;00m \u001B[38;5;129;01mnot\u001B[39;00m \u001B[38;5;28;01mNone\u001B[39;00m:\n\u001B[1;32m    105\u001B[0m     \u001B[38;5;28mprint\u001B[39m(result_df)\n",
      "Cell \u001B[0;32mIn[30], line 83\u001B[0m, in \u001B[0;36mprocess_all_trials\u001B[0;34m(directory_path)\u001B[0m\n\u001B[1;32m     80\u001B[0m missing_factor \u001B[38;5;241m=\u001B[39m \u001B[38;5;28mfloat\u001B[39m(match\u001B[38;5;241m.\u001B[39mgroup(\u001B[38;5;241m1\u001B[39m))\n\u001B[1;32m     81\u001B[0m trial_number \u001B[38;5;241m=\u001B[39m \u001B[38;5;28mint\u001B[39m(match\u001B[38;5;241m.\u001B[39mgroup(\u001B[38;5;241m2\u001B[39m))\n\u001B[0;32m---> 83\u001B[0m df \u001B[38;5;241m=\u001B[39m \u001B[43mprocess_trial\u001B[49m\u001B[43m(\u001B[49m\u001B[43mfile_path\u001B[49m\u001B[43m)\u001B[49m\n\u001B[1;32m     85\u001B[0m \u001B[38;5;66;03m# Add missing factor and trial number columns to the DataFrame\u001B[39;00m\n\u001B[1;32m     86\u001B[0m df[\u001B[38;5;124m'\u001B[39m\u001B[38;5;124mMissing Factor\u001B[39m\u001B[38;5;124m'\u001B[39m] \u001B[38;5;241m=\u001B[39m missing_factor\n",
      "Cell \u001B[0;32mIn[30], line 29\u001B[0m, in \u001B[0;36mprocess_trial\u001B[0;34m(file_path)\u001B[0m\n\u001B[1;32m     27\u001B[0m \u001B[38;5;28;01mfor\u001B[39;00m line \u001B[38;5;129;01min\u001B[39;00m lines[\u001B[38;5;241m2\u001B[39m:]:\n\u001B[1;32m     28\u001B[0m     \u001B[38;5;28;01mif\u001B[39;00m \u001B[38;5;124m'\u001B[39m\u001B[38;5;124mCM no exist\u001B[39m\u001B[38;5;124m'\u001B[39m \u001B[38;5;129;01min\u001B[39;00m line:\n\u001B[0;32m---> 29\u001B[0m         cm_no_exist \u001B[38;5;241m=\u001B[39m \u001B[38;5;28;43mfloat\u001B[39;49m\u001B[43m(\u001B[49m\u001B[43mline\u001B[49m\u001B[38;5;241;43m.\u001B[39;49m\u001B[43msplit\u001B[49m\u001B[43m(\u001B[49m\u001B[43m)\u001B[49m\u001B[43m[\u001B[49m\u001B[38;5;241;43m-\u001B[39;49m\u001B[38;5;241;43m1\u001B[39;49m\u001B[43m]\u001B[49m\u001B[43m)\u001B[49m\n\u001B[1;32m     30\u001B[0m     \u001B[38;5;28;01melif\u001B[39;00m \u001B[38;5;124m'\u001B[39m\u001B[38;5;124mCM exist\u001B[39m\u001B[38;5;124m'\u001B[39m \u001B[38;5;129;01min\u001B[39;00m line:\n\u001B[1;32m     31\u001B[0m         cm_exist \u001B[38;5;241m=\u001B[39m \u001B[38;5;28mfloat\u001B[39m(line\u001B[38;5;241m.\u001B[39msplit()[\u001B[38;5;241m-\u001B[39m\u001B[38;5;241m1\u001B[39m])\n",
      "\u001B[0;31mValueError\u001B[0m: could not convert string to float: 'None'"
     ]
    }
   ],
   "source": []
  },
  {
   "cell_type": "code",
   "execution_count": 23,
   "outputs": [
    {
     "ename": "NameError",
     "evalue": "name 'df' is not defined",
     "output_type": "error",
     "traceback": [
      "\u001B[0;31m---------------------------------------------------------------------------\u001B[0m",
      "\u001B[0;31mNameError\u001B[0m                                 Traceback (most recent call last)",
      "Cell \u001B[0;32mIn[23], line 1\u001B[0m\n\u001B[0;32m----> 1\u001B[0m \u001B[43mdf\u001B[49m\n",
      "\u001B[0;31mNameError\u001B[0m: name 'df' is not defined"
     ]
    }
   ],
   "source": [
    "df"
   ],
   "metadata": {
    "collapsed": false,
    "ExecuteTime": {
     "end_time": "2024-01-11T23:56:42.058576Z",
     "start_time": "2024-01-11T23:56:42.050921Z"
    }
   }
  },
  {
   "cell_type": "code",
   "execution_count": null,
   "outputs": [],
   "source": [],
   "metadata": {
    "collapsed": false
   }
  }
 ],
 "metadata": {
  "kernelspec": {
   "display_name": "Python 3",
   "language": "python",
   "name": "python3"
  },
  "language_info": {
   "codemirror_mode": {
    "name": "ipython",
    "version": 2
   },
   "file_extension": ".py",
   "mimetype": "text/x-python",
   "name": "python",
   "nbconvert_exporter": "python",
   "pygments_lexer": "ipython2",
   "version": "2.7.6"
  }
 },
 "nbformat": 4,
 "nbformat_minor": 0
}
